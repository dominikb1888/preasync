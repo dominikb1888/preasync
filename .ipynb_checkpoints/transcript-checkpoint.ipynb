{
 "cells": [
  {
   "cell_type": "code",
   "execution_count": 2,
   "id": "3df545b1-c9cf-4480-99fa-890f5b651bfe",
   "metadata": {},
   "outputs": [],
   "source": [
    "import pandas as pd\n",
    "from time import strptime\n",
    "\n",
    "with open('transcript.vtt') as f:\n",
    "    lines = [line.rstrip() for line in f]\n",
    "\n",
    "lines = lines[1:]\n",
    "\n",
    "tr = []\n",
    "win = 4\n",
    "\n",
    "for i in range(0,len(lines) - win + 1, win):\n",
    "    empty, index, frame, text = lines[i:i+4]\n",
    "    start, end = frame.split(' --> ')\n",
    "    person, voice = text.split(': ') if ':' in text else (tr[-1]['person'], text)\n",
    "    \n",
    "    if tr:\n",
    "        if tr[-1]['person'] == person:\n",
    "            tr[-1]['end'] = end\n",
    "            tr[-1]['voice'] += ' ' + voice\n",
    "            continue\n",
    "    \n",
    "    tr.append({\n",
    "        'start': start,\n",
    "        'end': end,\n",
    "        'person': person,\n",
    "        'voice': voice,\n",
    "    })\n",
    "\n"
   ]
  },
  {
   "cell_type": "code",
   "execution_count": 9,
   "id": "5c6e19a4-02d1-4a3f-b364-5d291d24c322",
   "metadata": {
    "collapsed": true,
    "jupyter": {
     "outputs_hidden": true
    },
    "tags": []
   },
   "outputs": [
    {
     "name": "stdout",
     "output_type": "stream",
     "text": [
      "0 22\n"
     ]
    },
    {
     "name": "stderr",
     "output_type": "stream",
     "text": [
      "                                                            \n",
      "t:  87%|████████▋ | 13/15 [00:40<00:01,  1.43it/s, now=None]\n",
      "                                                            A\n",
      "t:  87%|████████▋ | 13/15 [00:40<00:01,  1.43it/s, now=None]\n",
      "t: 100%|██████████| 2/2 [00:04<00:00, 16.34it/s, now=None]\u001b[A"
     ]
    },
    {
     "name": "stdout",
     "output_type": "stream",
     "text": [
      "MoviePy - Building file  0_Dominik Böhler.gif\n",
      "MoviePy - - Generating GIF frames.\n"
     ]
    },
    {
     "name": "stderr",
     "output_type": "stream",
     "text": [
      "\n",
      "\n",
      "t:   0%|          | 0/3 [00:00<?, ?it/s, now=None]\u001b[A\u001b[A\n",
      "\n",
      "t:  67%|██████▋   | 2/3 [00:00<00:00, 16.35it/s, now=None]\u001b[A\u001b[A\n",
      "\n",
      "                                                            A\u001b[A\n",
      "t:  87%|████████▋ | 13/15 [00:42<00:01,  1.43it/s, now=None]\n",
      "t: 100%|██████████| 2/2 [00:05<00:00, 16.34it/s, now=None]\u001b[A"
     ]
    },
    {
     "name": "stdout",
     "output_type": "stream",
     "text": [
      "MoviePy - - File ready: 0_Dominik Böhler.gif.\n"
     ]
    },
    {
     "data": {
      "text/html": [
       "<img src=\"0_Dominik Böhler.gif\">"
      ],
      "text/plain": [
       "<IPython.core.display.HTML object>"
      ]
     },
     "metadata": {},
     "output_type": "display_data"
    },
    {
     "name": "stdout",
     "output_type": "stream",
     "text": [
      "morning. Good morning.\n",
      "23 23\n"
     ]
    },
    {
     "name": "stderr",
     "output_type": "stream",
     "text": [
      "                                                            \n",
      "t:  87%|████████▋ | 13/15 [00:43<00:01,  1.43it/s, now=None]\n",
      "                                                            A\n",
      "t:  87%|████████▋ | 13/15 [00:43<00:01,  1.43it/s, now=None]\n",
      "t: 100%|██████████| 2/2 [00:07<00:00, 16.34it/s, now=None]\u001b[A"
     ]
    },
    {
     "name": "stdout",
     "output_type": "stream",
     "text": [
      "MoviePy - Building file  23_Gaurang Thanekar.gif\n",
      "MoviePy - - Generating GIF frames.\n"
     ]
    },
    {
     "name": "stderr",
     "output_type": "stream",
     "text": [
      "\n",
      "\n",
      "                                                            \n",
      "\u001b[A                                                       \n",
      "\n",
      "t:  87%|████████▋ | 13/15 [00:43<00:01,  1.43it/s, now=None]\n",
      "t: 100%|██████████| 2/2 [00:07<00:00, 16.34it/s, now=None]\u001b[A\n",
      "\n",
      "t: 2it [00:00, 128.90it/s, now=None]\u001b[A\u001b[A\n",
      "\n",
      "                                    \u001b[A\u001b[A"
     ]
    },
    {
     "name": "stdout",
     "output_type": "stream",
     "text": [
      "MoviePy - - File ready: 23_Gaurang Thanekar.gif.\n"
     ]
    },
    {
     "data": {
      "text/html": [
       "<img src=\"23_Gaurang Thanekar.gif\">"
      ],
      "text/plain": [
       "<IPython.core.display.HTML object>"
      ]
     },
     "metadata": {},
     "output_type": "display_data"
    },
    {
     "name": "stdout",
     "output_type": "stream",
     "text": [
      "Good.\n",
      "24 25\n"
     ]
    },
    {
     "name": "stderr",
     "output_type": "stream",
     "text": [
      "                                                            \n",
      "t:  87%|████████▋ | 13/15 [00:45<00:01,  1.43it/s, now=None]\n",
      "                                                            A\n",
      "t:  87%|████████▋ | 13/15 [00:45<00:01,  1.43it/s, now=None]\n",
      "t: 100%|██████████| 2/2 [00:08<00:00, 16.34it/s, now=None]\u001b[A"
     ]
    },
    {
     "name": "stdout",
     "output_type": "stream",
     "text": [
      "MoviePy - Building file  24_Matilda Simon.gif\n",
      "MoviePy - - Generating GIF frames.\n"
     ]
    },
    {
     "name": "stderr",
     "output_type": "stream",
     "text": [
      "\n",
      "\n",
      "t:   0%|          | 0/1 [00:00<?, ?it/s, now=None]\u001b[A\u001b[A\n",
      "\n",
      "                                                            \n",
      "t:  87%|████████▋ | 13/15 [00:45<00:01,  1.43it/s, now=None]\n",
      "t: 100%|██████████| 2/2 [00:08<00:00, 16.34it/s, now=None]\u001b[A"
     ]
    },
    {
     "name": "stdout",
     "output_type": "stream",
     "text": [
      "MoviePy - - File ready: 24_Matilda Simon.gif.\n"
     ]
    },
    {
     "data": {
      "text/html": [
       "<img src=\"24_Matilda Simon.gif\">"
      ],
      "text/plain": [
       "<IPython.core.display.HTML object>"
      ]
     },
     "metadata": {},
     "output_type": "display_data"
    },
    {
     "name": "stdout",
     "output_type": "stream",
     "text": [
      "morning.\n",
      "56 63\n"
     ]
    },
    {
     "name": "stderr",
     "output_type": "stream",
     "text": [
      "                                                            \n",
      "t:  87%|████████▋ | 13/15 [00:46<00:01,  1.43it/s, now=None]\n",
      "                                                            A\n",
      "t:  87%|████████▋ | 13/15 [00:46<00:01,  1.43it/s, now=None]\n",
      "t: 100%|██████████| 2/2 [00:10<00:00, 16.34it/s, now=None]\u001b[A"
     ]
    },
    {
     "name": "stdout",
     "output_type": "stream",
     "text": [
      "MoviePy - Building file  56_Gaurang Thanekar.gif\n",
      "MoviePy - - Generating GIF frames.\n"
     ]
    },
    {
     "name": "stderr",
     "output_type": "stream",
     "text": [
      "\n",
      "\n",
      "t:   0%|          | 0/1 [00:00<?, ?it/s, now=None]\u001b[A\u001b[A\n",
      "\n",
      "                                                            \n",
      "t:  87%|████████▋ | 13/15 [00:46<00:01,  1.43it/s, now=None]\n",
      "t: 100%|██████████| 2/2 [00:10<00:00, 16.34it/s, now=None]\u001b[A"
     ]
    },
    {
     "name": "stdout",
     "output_type": "stream",
     "text": [
      "MoviePy - - File ready: 56_Gaurang Thanekar.gif.\n"
     ]
    },
    {
     "data": {
      "text/html": [
       "<img src=\"56_Gaurang Thanekar.gif\">"
      ],
      "text/plain": [
       "<IPython.core.display.HTML object>"
      ]
     },
     "metadata": {},
     "output_type": "display_data"
    },
    {
     "name": "stdout",
     "output_type": "stream",
     "text": [
      "it's someone recording this meeting, yes. Okay there's nothing it started like yoga recording.\n",
      "65 94\n"
     ]
    },
    {
     "name": "stderr",
     "output_type": "stream",
     "text": [
      "                                                            \n",
      "t:  87%|████████▋ | 13/15 [00:48<00:01,  1.43it/s, now=None]\n",
      "                                                            A\n",
      "t:  87%|████████▋ | 13/15 [00:48<00:01,  1.43it/s, now=None]\n",
      "t: 100%|██████████| 2/2 [00:11<00:00, 16.34it/s, now=None]\u001b[A"
     ]
    },
    {
     "name": "stdout",
     "output_type": "stream",
     "text": [
      "MoviePy - Building file  65_Dominik Böhler.gif\n",
      "MoviePy - - Generating GIF frames.\n"
     ]
    },
    {
     "name": "stderr",
     "output_type": "stream",
     "text": [
      "\n",
      "\n",
      "t:   0%|          | 0/3 [00:00<?, ?it/s, now=None]\u001b[A\u001b[A\n",
      "\n",
      "t:  67%|██████▋   | 2/3 [00:00<00:00, 16.05it/s, now=None]\u001b[A\u001b[A\n",
      "\n",
      "                                                            A\u001b[A\n",
      "t:  87%|████████▋ | 13/15 [00:49<00:01,  1.43it/s, now=None]\n",
      "t: 100%|██████████| 2/2 [00:13<00:00, 16.34it/s, now=None]\u001b[A"
     ]
    },
    {
     "name": "stdout",
     "output_type": "stream",
     "text": [
      "MoviePy - - File ready: 65_Dominik Böhler.gif.\n"
     ]
    },
    {
     "data": {
      "text/html": [
       "<img src=\"65_Dominik Böhler.gif\">"
      ],
      "text/plain": [
       "<IPython.core.display.HTML object>"
      ]
     },
     "metadata": {},
     "output_type": "display_data"
    },
    {
     "name": "stdout",
     "output_type": "stream",
     "text": [
      "Now i'm going to record. i'll explain in a second why for an already knows, I will be with you in the beginning today. But not throughout the whole class, I have a little one sick at home and so open that up and I will look into the recordings later on tonight. and give you feedback. Because I hope he very much. distracted.\n",
      "96 98\n"
     ]
    },
    {
     "name": "stderr",
     "output_type": "stream",
     "text": [
      "                                                            \n",
      "t:  87%|████████▋ | 13/15 [00:51<00:01,  1.43it/s, now=None]\n",
      "                                                            A\n",
      "t:  87%|████████▋ | 13/15 [00:51<00:01,  1.43it/s, now=None]\n",
      "t: 100%|██████████| 2/2 [00:14<00:00, 16.34it/s, now=None]\u001b[A"
     ]
    },
    {
     "name": "stdout",
     "output_type": "stream",
     "text": [
      "MoviePy - Building file  96_Gaurang Thanekar.gif\n",
      "MoviePy - - Generating GIF frames.\n"
     ]
    },
    {
     "name": "stderr",
     "output_type": "stream",
     "text": [
      "\n",
      "\n",
      "t:   0%|          | 0/1 [00:00<?, ?it/s, now=None]\u001b[A\u001b[A\n",
      "\n",
      "                                                            \n",
      "t:  87%|████████▋ | 13/15 [00:51<00:01,  1.43it/s, now=None]\n",
      "t: 100%|██████████| 2/2 [00:14<00:00, 16.34it/s, now=None]\u001b[A"
     ]
    },
    {
     "name": "stdout",
     "output_type": "stream",
     "text": [
      "MoviePy - - File ready: 96_Gaurang Thanekar.gif.\n"
     ]
    },
    {
     "data": {
      "text/html": [
       "<img src=\"96_Gaurang Thanekar.gif\">"
      ],
      "text/plain": [
       "<IPython.core.display.HTML object>"
      ]
     },
     "metadata": {},
     "output_type": "display_data"
    },
    {
     "name": "stdout",
     "output_type": "stream",
     "text": [
      "I hope he recovers very soon. yeah.\n",
      "99 109\n"
     ]
    },
    {
     "name": "stderr",
     "output_type": "stream",
     "text": [
      "                                                            \n",
      "t:  87%|████████▋ | 13/15 [00:52<00:01,  1.43it/s, now=None]\n",
      "                                                            A\n",
      "t:  87%|████████▋ | 13/15 [00:52<00:01,  1.43it/s, now=None]\n",
      "t: 100%|██████████| 2/2 [00:16<00:00, 16.34it/s, now=None]\u001b[A"
     ]
    },
    {
     "name": "stdout",
     "output_type": "stream",
     "text": [
      "MoviePy - Building file  99_Dominik Böhler.gif\n",
      "MoviePy - - Generating GIF frames.\n"
     ]
    },
    {
     "name": "stderr",
     "output_type": "stream",
     "text": [
      "\n",
      "\n",
      "t:   0%|          | 0/1 [00:00<?, ?it/s, now=None]\u001b[A\u001b[A\n",
      "\n",
      "                                                            \n",
      "t:  87%|████████▋ | 13/15 [00:52<00:01,  1.43it/s, now=None]\n",
      "t: 100%|██████████| 2/2 [00:16<00:00, 16.34it/s, now=None]\u001b[A"
     ]
    },
    {
     "name": "stdout",
     "output_type": "stream",
     "text": [
      "MoviePy - - File ready: 99_Dominik Böhler.gif.\n"
     ]
    },
    {
     "data": {
      "text/html": [
       "<img src=\"99_Dominik Böhler.gif\">"
      ],
      "text/plain": [
       "<IPython.core.display.HTML object>"
      ]
     },
     "metadata": {},
     "output_type": "display_data"
    },
    {
     "name": "stdout",
     "output_type": "stream",
     "text": [
      "I can tell you taking taking turns like every other week there's something new. And I can see that in your eyes you're already so stressed.\n",
      "110 112\n"
     ]
    },
    {
     "name": "stderr",
     "output_type": "stream",
     "text": [
      "\n",
      "                                                            A\n",
      "t:  87%|████████▋ | 13/15 [00:54<00:01,  1.43it/s, now=None]\n",
      "                                                            A\n",
      "t:  87%|████████▋ | 13/15 [00:54<00:01,  1.43it/s, now=None]\n",
      "t: 100%|██████████| 2/2 [00:17<00:00, 16.34it/s, now=None]\u001b[A"
     ]
    },
    {
     "name": "stdout",
     "output_type": "stream",
     "text": [
      "MoviePy - Building file  110_Gaurang Thanekar.gif\n",
      "MoviePy - - Generating GIF frames.\n"
     ]
    },
    {
     "name": "stderr",
     "output_type": "stream",
     "text": [
      "\n",
      "\n",
      "t:   0%|          | 0/1 [00:00<?, ?it/s, now=None]\u001b[A\u001b[A\n",
      "\n",
      "                                                            \n",
      "t:  87%|████████▋ | 13/15 [00:54<00:01,  1.43it/s, now=None]\n",
      "t: 100%|██████████| 2/2 [00:18<00:00, 16.34it/s, now=None]\u001b[A"
     ]
    },
    {
     "name": "stdout",
     "output_type": "stream",
     "text": [
      "MoviePy - - File ready: 110_Gaurang Thanekar.gif.\n"
     ]
    },
    {
     "data": {
      "text/html": [
       "<img src=\"110_Gaurang Thanekar.gif\">"
      ],
      "text/plain": [
       "<IPython.core.display.HTML object>"
      ]
     },
     "metadata": {},
     "output_type": "display_data"
    },
    {
     "name": "stdout",
     "output_type": "stream",
     "text": [
      "Oh, it is OK. it's OK.\n",
      "112 115\n"
     ]
    },
    {
     "name": "stderr",
     "output_type": "stream",
     "text": [
      "                                                            \n",
      "t:  87%|████████▋ | 13/15 [00:55<00:01,  1.43it/s, now=None]\n",
      "                                                            A\n",
      "t:  87%|████████▋ | 13/15 [00:55<00:01,  1.43it/s, now=None]\n",
      "t: 100%|██████████| 2/2 [00:19<00:00, 16.34it/s, now=None]\u001b[A"
     ]
    },
    {
     "name": "stdout",
     "output_type": "stream",
     "text": [
      "MoviePy - Building file  112_Dominik Böhler.gif\n",
      "MoviePy - - Generating GIF frames.\n"
     ]
    },
    {
     "name": "stderr",
     "output_type": "stream",
     "text": [
      "\n",
      "\n",
      "t:   0%|          | 0/1 [00:00<?, ?it/s, now=None]\u001b[A\u001b[A\n",
      "\n",
      "                                                            \n",
      "t:  87%|████████▋ | 13/15 [00:56<00:01,  1.43it/s, now=None]\n",
      "t: 100%|██████████| 2/2 [00:19<00:00, 16.34it/s, now=None]\u001b[A"
     ]
    },
    {
     "name": "stdout",
     "output_type": "stream",
     "text": [
      "MoviePy - - File ready: 112_Dominik Böhler.gif.\n"
     ]
    },
    {
     "data": {
      "text/html": [
       "<img src=\"112_Dominik Böhler.gif\">"
      ],
      "text/plain": [
       "<IPython.core.display.HTML object>"
      ]
     },
     "metadata": {},
     "output_type": "display_data"
    },
    {
     "name": "stdout",
     "output_type": "stream",
     "text": [
      "We can still live, but you know.\n",
      "115 116\n"
     ]
    },
    {
     "name": "stderr",
     "output_type": "stream",
     "text": [
      "                                                            \n",
      "t:  87%|████████▋ | 13/15 [00:57<00:01,  1.43it/s, now=None]\n",
      "                                                            A\n",
      "t:  87%|████████▋ | 13/15 [00:57<00:01,  1.43it/s, now=None]\n",
      "t: 100%|██████████| 2/2 [00:21<00:00, 16.34it/s, now=None]\u001b[A"
     ]
    },
    {
     "name": "stdout",
     "output_type": "stream",
     "text": [
      "MoviePy - Building file  115_Florian Wahl.gif\n",
      "MoviePy - - Generating GIF frames.\n"
     ]
    },
    {
     "name": "stderr",
     "output_type": "stream",
     "text": [
      "\n",
      "\n",
      "t:   0%|          | 0/1 [00:00<?, ?it/s, now=None]\u001b[A\u001b[A\n",
      "\n",
      "                                                            \n",
      "t:  87%|████████▋ | 13/15 [00:58<00:01,  1.43it/s, now=None]\n",
      "t: 100%|██████████| 2/2 [00:21<00:00, 16.34it/s, now=None]\u001b[A"
     ]
    },
    {
     "name": "stdout",
     "output_type": "stream",
     "text": [
      "MoviePy - - File ready: 115_Florian Wahl.gif.\n"
     ]
    },
    {
     "data": {
      "text/html": [
       "<img src=\"115_Florian Wahl.gif\">"
      ],
      "text/plain": [
       "<IPython.core.display.HTML object>"
      ]
     },
     "metadata": {},
     "output_type": "display_data"
    },
    {
     "name": "stdout",
     "output_type": "stream",
     "text": [
      "The beginning of kindergarten.\n",
      "118 119\n"
     ]
    },
    {
     "name": "stderr",
     "output_type": "stream",
     "text": [
      "                                                            \n",
      "t:  87%|████████▋ | 13/15 [00:59<00:01,  1.43it/s, now=None]\n",
      "                                                            A\n",
      "t:  87%|████████▋ | 13/15 [00:59<00:01,  1.43it/s, now=None]\n",
      "t: 100%|██████████| 2/2 [00:23<00:00, 16.34it/s, now=None]\u001b[A"
     ]
    },
    {
     "name": "stdout",
     "output_type": "stream",
     "text": [
      "MoviePy - Building file  118_Dominik Böhler.gif\n",
      "MoviePy - - Generating GIF frames.\n"
     ]
    },
    {
     "name": "stderr",
     "output_type": "stream",
     "text": [
      "\n",
      "\n",
      "t:   0%|          | 0/1 [00:00<?, ?it/s, now=None]\u001b[A\u001b[A\n",
      "\n",
      "                                                            \n",
      "t:  87%|████████▋ | 13/15 [00:59<00:01,  1.43it/s, now=None]\n",
      "t: 100%|██████████| 2/2 [00:23<00:00, 16.34it/s, now=None]\u001b[A"
     ]
    },
    {
     "name": "stdout",
     "output_type": "stream",
     "text": [
      "MoviePy - - File ready: 118_Dominik Böhler.gif.\n"
     ]
    },
    {
     "data": {
      "text/html": [
       "<img src=\"118_Dominik Böhler.gif\">"
      ],
      "text/plain": [
       "<IPython.core.display.HTML object>"
      ]
     },
     "metadata": {},
     "output_type": "display_data"
    },
    {
     "name": "stdout",
     "output_type": "stream",
     "text": [
      "And something like that yeah.\n",
      "119 130\n"
     ]
    },
    {
     "name": "stderr",
     "output_type": "stream",
     "text": [
      "                                                            \n",
      "t:  87%|████████▋ | 13/15 [01:01<00:01,  1.43it/s, now=None]\n",
      "                                                            A\n",
      "t:  87%|████████▋ | 13/15 [01:01<00:01,  1.43it/s, now=None]\n",
      "t: 100%|██████████| 2/2 [00:24<00:00, 16.34it/s, now=None]\u001b[A"
     ]
    },
    {
     "name": "stdout",
     "output_type": "stream",
     "text": [
      "MoviePy - Building file  119_Florian Wahl.gif\n",
      "MoviePy - - Generating GIF frames.\n"
     ]
    },
    {
     "name": "stderr",
     "output_type": "stream",
     "text": [
      "\n",
      "\n",
      "t:   0%|          | 0/2 [00:00<?, ?it/s, now=None]\u001b[A\u001b[A\n",
      "\n",
      "t: 100%|██████████| 2/2 [00:00<00:00, 16.27it/s, now=None]\u001b[A\u001b[A\n",
      "\n",
      "                                                            A\u001b[A\n",
      "t:  87%|████████▋ | 13/15 [01:02<00:01,  1.43it/s, now=None]\n",
      "t: 100%|██████████| 2/2 [00:25<00:00, 16.34it/s, now=None]\u001b[A"
     ]
    },
    {
     "name": "stdout",
     "output_type": "stream",
     "text": [
      "MoviePy - - File ready: 119_Florian Wahl.gif.\n"
     ]
    },
    {
     "data": {
      "text/html": [
       "<img src=\"119_Florian Wahl.gif\">"
      ],
      "text/plain": [
       "<IPython.core.display.HTML object>"
      ]
     },
     "metadata": {},
     "output_type": "display_data"
    },
    {
     "name": "stdout",
     "output_type": "stream",
     "text": [
      "wow yeah because every time you change the institution and there's a new set of. stuff going on. yeah.\n",
      "131 132\n"
     ]
    },
    {
     "name": "stderr",
     "output_type": "stream",
     "text": [
      "                                                            \n",
      "t:  87%|████████▋ | 13/15 [01:03<00:01,  1.43it/s, now=None]\n",
      "                                                            A\n",
      "t:  87%|████████▋ | 13/15 [01:03<00:01,  1.43it/s, now=None]\n",
      "t: 100%|██████████| 2/2 [00:27<00:00, 16.34it/s, now=None]\u001b[A"
     ]
    },
    {
     "name": "stdout",
     "output_type": "stream",
     "text": [
      "MoviePy - Building file  131_Dominik Böhler.gif\n",
      "MoviePy - - Generating GIF frames.\n"
     ]
    },
    {
     "name": "stderr",
     "output_type": "stream",
     "text": [
      "\n",
      "\n",
      "t:   0%|          | 0/1 [00:00<?, ?it/s, now=None]\u001b[A\u001b[A\n",
      "\n",
      "                                                            \n",
      "t:  87%|████████▋ | 13/15 [01:03<00:01,  1.43it/s, now=None]\n",
      "t: 100%|██████████| 2/2 [00:27<00:00, 16.34it/s, now=None]\u001b[A"
     ]
    },
    {
     "name": "stdout",
     "output_type": "stream",
     "text": [
      "MoviePy - - File ready: 131_Dominik Böhler.gif.\n"
     ]
    },
    {
     "data": {
      "text/html": [
       "<img src=\"131_Dominik Böhler.gif\">"
      ],
      "text/plain": [
       "<IPython.core.display.HTML object>"
      ]
     },
     "metadata": {},
     "output_type": "display_data"
    },
    {
     "name": "stdout",
     "output_type": "stream",
     "text": [
      "we're quite good at catching.\n",
      "134 138\n"
     ]
    },
    {
     "name": "stderr",
     "output_type": "stream",
     "text": [
      "                                                            \n",
      "t:  87%|████████▋ | 13/15 [01:05<00:01,  1.43it/s, now=None]\n",
      "                                                            A\n",
      "t:  87%|████████▋ | 13/15 [01:05<00:01,  1.43it/s, now=None]\n",
      "t: 100%|██████████| 2/2 [00:28<00:00, 16.34it/s, now=None]\u001b[A"
     ]
    },
    {
     "name": "stdout",
     "output_type": "stream",
     "text": [
      "MoviePy - Building file  134_Florian Wahl.gif\n",
      "MoviePy - - Generating GIF frames.\n"
     ]
    },
    {
     "name": "stderr",
     "output_type": "stream",
     "text": [
      "\n",
      "\n",
      "t:   0%|          | 0/1 [00:00<?, ?it/s, now=None]\u001b[A\u001b[A\n",
      "\n",
      "                                                            \n",
      "t:  87%|████████▋ | 13/15 [01:05<00:01,  1.43it/s, now=None]\n",
      "t: 100%|██████████| 2/2 [00:28<00:00, 16.34it/s, now=None]\u001b[A"
     ]
    },
    {
     "name": "stdout",
     "output_type": "stream",
     "text": [
      "MoviePy - - File ready: 134_Florian Wahl.gif.\n"
     ]
    },
    {
     "data": {
      "text/html": [
       "<img src=\"134_Florian Wahl.gif\">"
      ],
      "text/plain": [
       "<IPython.core.display.HTML object>"
      ]
     },
     "metadata": {},
     "output_type": "display_data"
    },
    {
     "name": "stdout",
     "output_type": "stream",
     "text": [
      "yeah honestly for the parents there's always something in there. But.\n",
      "139 156\n"
     ]
    },
    {
     "name": "stderr",
     "output_type": "stream",
     "text": [
      "                                                            \n",
      "t:  87%|████████▋ | 13/15 [01:06<00:01,  1.43it/s, now=None]\n",
      "                                                            A\n",
      "t:  87%|████████▋ | 13/15 [01:06<00:01,  1.43it/s, now=None]\n",
      "t: 100%|██████████| 2/2 [00:30<00:00, 16.34it/s, now=None]\u001b[A"
     ]
    },
    {
     "name": "stdout",
     "output_type": "stream",
     "text": [
      "MoviePy - Building file  139_Dominik Böhler.gif\n",
      "MoviePy - - Generating GIF frames.\n"
     ]
    },
    {
     "name": "stderr",
     "output_type": "stream",
     "text": [
      "\n",
      "\n",
      "t:   0%|          | 0/2 [00:00<?, ?it/s, now=None]\u001b[A\u001b[A\n",
      "\n",
      "t: 100%|██████████| 2/2 [00:00<00:00, 15.45it/s, now=None]\u001b[A\u001b[A\n",
      "\n",
      "                                                            A\u001b[A\n",
      "t:  87%|████████▋ | 13/15 [01:07<00:01,  1.43it/s, now=None]\n",
      "t: 100%|██████████| 2/2 [00:31<00:00, 16.34it/s, now=None]\u001b[A"
     ]
    },
    {
     "name": "stdout",
     "output_type": "stream",
     "text": [
      "MoviePy - - File ready: 139_Dominik Böhler.gif.\n"
     ]
    },
    {
     "data": {
      "text/html": [
       "<img src=\"139_Dominik Böhler.gif\">"
      ],
      "text/plain": [
       "<IPython.core.display.HTML object>"
      ]
     },
     "metadata": {},
     "output_type": "display_data"
    },
    {
     "name": "stdout",
     "output_type": "stream",
     "text": [
      "yeah yeah. It we've actually had him to be fair, since Christmas we've had I think two weeks, where no one was sick they were like the last two weeks speaking end of May, beginning of April. So.\n",
      "156 157\n"
     ]
    },
    {
     "name": "stderr",
     "output_type": "stream",
     "text": [
      "                                                            \n",
      "t:  87%|████████▋ | 13/15 [01:09<00:01,  1.43it/s, now=None]\n",
      "                                                            A\n",
      "t:  87%|████████▋ | 13/15 [01:09<00:01,  1.43it/s, now=None]\n",
      "t: 100%|██████████| 2/2 [00:32<00:00, 16.34it/s, now=None]\u001b[A"
     ]
    },
    {
     "name": "stdout",
     "output_type": "stream",
     "text": [
      "MoviePy - Building file  156_Florian Wahl.gif\n",
      "MoviePy - - Generating GIF frames.\n"
     ]
    },
    {
     "name": "stderr",
     "output_type": "stream",
     "text": [
      "\n",
      "\n",
      "t:   0%|          | 0/1 [00:00<?, ?it/s, now=None]\u001b[A\u001b[A\n",
      "\n",
      "                                                            \n",
      "t:  87%|████████▋ | 13/15 [01:09<00:01,  1.43it/s, now=None]\n",
      "t: 100%|██████████| 2/2 [00:32<00:00, 16.34it/s, now=None]\u001b[A"
     ]
    },
    {
     "name": "stdout",
     "output_type": "stream",
     "text": [
      "MoviePy - - File ready: 156_Florian Wahl.gif.\n"
     ]
    },
    {
     "data": {
      "text/html": [
       "<img src=\"156_Florian Wahl.gif\">"
      ],
      "text/plain": [
       "<IPython.core.display.HTML object>"
      ]
     },
     "metadata": {},
     "output_type": "display_data"
    },
    {
     "name": "stdout",
     "output_type": "stream",
     "text": [
      "We do.\n",
      "157 158\n"
     ]
    },
    {
     "name": "stderr",
     "output_type": "stream",
     "text": [
      "                                                            \n",
      "t:  87%|████████▋ | 13/15 [01:10<00:01,  1.43it/s, now=None]\n",
      "                                                            A\n",
      "t:  87%|████████▋ | 13/15 [01:10<00:01,  1.43it/s, now=None]\n",
      "t: 100%|██████████| 2/2 [00:34<00:00, 16.34it/s, now=None]\u001b[A"
     ]
    },
    {
     "name": "stdout",
     "output_type": "stream",
     "text": [
      "MoviePy - Building file  157_Dominik Böhler.gif\n",
      "MoviePy - - Generating GIF frames.\n"
     ]
    },
    {
     "name": "stderr",
     "output_type": "stream",
     "text": [
      "\n",
      "\n",
      "t:   0%|          | 0/1 [00:00<?, ?it/s, now=None]\u001b[A\u001b[A\n",
      "\n",
      "                                                            \n",
      "t:  87%|████████▋ | 13/15 [01:10<00:01,  1.43it/s, now=None]\n",
      "t: 100%|██████████| 2/2 [00:34<00:00, 16.34it/s, now=None]\u001b[A"
     ]
    },
    {
     "name": "stdout",
     "output_type": "stream",
     "text": [
      "MoviePy - - File ready: 157_Dominik Böhler.gif.\n"
     ]
    },
    {
     "data": {
      "text/html": [
       "<img src=\"157_Dominik Böhler.gif\">"
      ],
      "text/plain": [
       "<IPython.core.display.HTML object>"
      ]
     },
     "metadata": {},
     "output_type": "display_data"
    },
    {
     "name": "stdout",
     "output_type": "stream",
     "text": [
      "Something to.\n",
      "158 160\n"
     ]
    },
    {
     "name": "stderr",
     "output_type": "stream",
     "text": [
      "                                                            \n",
      "t:  87%|████████▋ | 13/15 [01:12<00:01,  1.43it/s, now=None]\n",
      "                                                            A\n",
      "t:  87%|████████▋ | 13/15 [01:12<00:01,  1.43it/s, now=None]\n",
      "t: 100%|██████████| 2/2 [00:35<00:00, 16.34it/s, now=None]\u001b[A"
     ]
    },
    {
     "name": "stdout",
     "output_type": "stream",
     "text": [
      "MoviePy - Building file  158_Florian Wahl.gif\n",
      "MoviePy - - Generating GIF frames.\n"
     ]
    },
    {
     "name": "stderr",
     "output_type": "stream",
     "text": [
      "\n",
      "\n",
      "t:   0%|          | 0/1 [00:00<?, ?it/s, now=None]\u001b[A\u001b[A\n",
      "\n",
      "                                                            \n",
      "t:  87%|████████▋ | 13/15 [01:12<00:01,  1.43it/s, now=None]\n",
      "t: 100%|██████████| 2/2 [00:36<00:00, 16.34it/s, now=None]\u001b[A"
     ]
    },
    {
     "name": "stdout",
     "output_type": "stream",
     "text": [
      "MoviePy - - File ready: 158_Florian Wahl.gif.\n"
     ]
    },
    {
     "data": {
      "text/html": [
       "<img src=\"158_Florian Wahl.gif\">"
      ],
      "text/plain": [
       "<IPython.core.display.HTML object>"
      ]
     },
     "metadata": {},
     "output_type": "display_data"
    },
    {
     "name": "stdout",
     "output_type": "stream",
     "text": [
      "look forward to I guess.\n",
      "160 195\n"
     ]
    },
    {
     "name": "stderr",
     "output_type": "stream",
     "text": [
      "                                                            \n",
      "t:  87%|████████▋ | 13/15 [01:14<00:01,  1.43it/s, now=None]\n",
      "                                                            A\n",
      "t:  87%|████████▋ | 13/15 [01:14<00:01,  1.43it/s, now=None]\n",
      "t: 100%|██████████| 2/2 [00:37<00:00, 16.34it/s, now=None]\u001b[A"
     ]
    },
    {
     "name": "stdout",
     "output_type": "stream",
     "text": [
      "MoviePy - Building file  160_Dominik Böhler.gif\n",
      "MoviePy - - Generating GIF frames.\n"
     ]
    },
    {
     "name": "stderr",
     "output_type": "stream",
     "text": [
      "\n",
      "\n",
      "t:   0%|          | 0/4 [00:00<?, ?it/s, now=None]\u001b[A\u001b[A\n",
      "\n",
      "t:  50%|█████     | 2/4 [00:00<00:00, 15.92it/s, now=None]\u001b[A\u001b[A\n",
      "\n",
      "t: 100%|██████████| 4/4 [00:01<00:00,  2.27it/s, now=None]\u001b[A\u001b[A\n",
      "\n",
      "                                                            A\u001b[A\n",
      "t:  87%|████████▋ | 13/15 [01:16<00:01,  1.43it/s, now=None]\n",
      "t: 100%|██████████| 2/2 [00:39<00:00, 16.34it/s, now=None]\u001b[A"
     ]
    },
    {
     "name": "stdout",
     "output_type": "stream",
     "text": [
      "MoviePy - - File ready: 160_Dominik Böhler.gif.\n"
     ]
    },
    {
     "data": {
      "text/html": [
       "<img src=\"160_Dominik Böhler.gif\">"
      ],
      "text/plain": [
       "<IPython.core.display.HTML object>"
      ]
     },
     "metadata": {},
     "output_type": "display_data"
    },
    {
     "name": "stdout",
     "output_type": "stream",
     "text": [
      "But guys i'm recording this if you're not Okay, with it, then please tell me shut down your screen whatever you prefer doing. If you're absolutely not Okay, then send me your presentation, where teams put them into teams channel if you can also send it to me in another way to the link in there. And i'm committed to giving you that feedback. All right, so for that, for the rest of the session for and will take over and then later on you're still there musi will come in, and so you you're taking care of.\n",
      "197 200\n"
     ]
    },
    {
     "name": "stderr",
     "output_type": "stream",
     "text": [
      "                                                            \n",
      "t:  87%|████████▋ | 13/15 [01:17<00:01,  1.43it/s, now=None]\n",
      "                                                            A\n",
      "t:  87%|████████▋ | 13/15 [01:17<00:01,  1.43it/s, now=None]\n",
      "t: 100%|██████████| 2/2 [00:41<00:00, 16.34it/s, now=None]\u001b[A"
     ]
    },
    {
     "name": "stdout",
     "output_type": "stream",
     "text": [
      "MoviePy - Building file  197_Florian Wahl.gif\n",
      "MoviePy - - Generating GIF frames.\n"
     ]
    },
    {
     "name": "stderr",
     "output_type": "stream",
     "text": [
      "\n",
      "\n",
      "t:   0%|          | 0/1 [00:00<?, ?it/s, now=None]\u001b[A\u001b[A\n",
      "\n",
      "                                                            \n",
      "t:  87%|████████▋ | 13/15 [01:17<00:01,  1.43it/s, now=None]\n",
      "t: 100%|██████████| 2/2 [00:41<00:00, 16.34it/s, now=None]\u001b[A"
     ]
    },
    {
     "name": "stdout",
     "output_type": "stream",
     "text": [
      "MoviePy - - File ready: 197_Florian Wahl.gif.\n"
     ]
    },
    {
     "data": {
      "text/html": [
       "<img src=\"197_Florian Wahl.gif\">"
      ],
      "text/plain": [
       "<IPython.core.display.HTML object>"
      ]
     },
     "metadata": {},
     "output_type": "display_data"
    },
    {
     "name": "stdout",
     "output_type": "stream",
     "text": [
      "All the best to eclipse and you, of course.\n",
      "201 235\n"
     ]
    },
    {
     "name": "stderr",
     "output_type": "stream",
     "text": [
      "                                                            \n",
      "t:  87%|████████▋ | 13/15 [01:19<00:01,  1.43it/s, now=None]\n",
      "                                                            A\n",
      "t:  87%|████████▋ | 13/15 [01:19<00:01,  1.43it/s, now=None]\n",
      "t: 100%|██████████| 2/2 [00:42<00:00, 16.34it/s, now=None]\u001b[A"
     ]
    },
    {
     "name": "stdout",
     "output_type": "stream",
     "text": [
      "MoviePy - Building file  201_Dominik Böhler.gif\n",
      "MoviePy - - Generating GIF frames.\n"
     ]
    },
    {
     "name": "stderr",
     "output_type": "stream",
     "text": [
      "\n",
      "\n",
      "t:   0%|          | 0/4 [00:00<?, ?it/s, now=None]\u001b[A\u001b[A\n",
      "\n",
      "t:  50%|█████     | 2/4 [00:00<00:00, 16.27it/s, now=None]\u001b[A\u001b[A\n",
      "\n",
      "t: 100%|██████████| 4/4 [00:01<00:00,  2.30it/s, now=None]\u001b[A\u001b[A\n",
      "\n",
      "                                                            A\u001b[A\n",
      "t:  87%|████████▋ | 13/15 [01:22<00:01,  1.43it/s, now=None]\n",
      "t: 100%|██████████| 2/2 [00:45<00:00, 16.34it/s, now=None]\u001b[A"
     ]
    },
    {
     "name": "stdout",
     "output_type": "stream",
     "text": [
      "MoviePy - - File ready: 201_Dominik Böhler.gif.\n"
     ]
    },
    {
     "data": {
      "text/html": [
       "<img src=\"201_Dominik Böhler.gif\">"
      ],
      "text/plain": [
       "<IPython.core.display.HTML object>"
      ]
     },
     "metadata": {},
     "output_type": "display_data"
    },
    {
     "name": "stdout",
     "output_type": "stream",
     "text": [
      "Thanks very much and I will. give you Florian the. Meeting host rights just let me know once you change and Lucy is there, can I pop in again from. So looking forward to your results intermediate results, even though I cannot be there as synchronously in the digital world, it should not matter right, and you will receive everything. later on. And I wish you good time with.\n",
      "239 240\n"
     ]
    },
    {
     "name": "stderr",
     "output_type": "stream",
     "text": [
      "                                                            \n",
      "t:  87%|████████▋ | 13/15 [01:23<00:01,  1.43it/s, now=None]\n",
      "                                                            A\n",
      "t:  87%|████████▋ | 13/15 [01:23<00:01,  1.43it/s, now=None]\n",
      "t: 100%|██████████| 2/2 [00:47<00:00, 16.34it/s, now=None]\u001b[A"
     ]
    },
    {
     "name": "stdout",
     "output_type": "stream",
     "text": [
      "MoviePy - Building file  239_Gaurang Thanekar.gif\n",
      "MoviePy - - Generating GIF frames.\n"
     ]
    },
    {
     "name": "stderr",
     "output_type": "stream",
     "text": [
      "\n",
      "\n",
      "t:   0%|          | 0/1 [00:00<?, ?it/s, now=None]\u001b[A\u001b[A\n",
      "\n",
      "                                                            \n",
      "t:  87%|████████▋ | 13/15 [01:24<00:01,  1.43it/s, now=None]\n",
      "t: 100%|██████████| 2/2 [00:47<00:00, 16.34it/s, now=None]\u001b[A"
     ]
    },
    {
     "name": "stdout",
     "output_type": "stream",
     "text": [
      "MoviePy - - File ready: 239_Gaurang Thanekar.gif.\n"
     ]
    },
    {
     "data": {
      "text/html": [
       "<img src=\"239_Gaurang Thanekar.gif\">"
      ],
      "text/plain": [
       "<IPython.core.display.HTML object>"
      ]
     },
     "metadata": {},
     "output_type": "display_data"
    },
    {
     "name": "stdout",
     "output_type": "stream",
     "text": [
      "season.\n",
      "246 268\n"
     ]
    },
    {
     "name": "stderr",
     "output_type": "stream",
     "text": [
      "                                                            \n",
      "t:  87%|████████▋ | 13/15 [01:25<00:01,  1.43it/s, now=None]\n",
      "                                                            A\n",
      "t:  87%|████████▋ | 13/15 [01:25<00:01,  1.43it/s, now=None]\n",
      "t: 100%|██████████| 2/2 [00:48<00:00, 16.34it/s, now=None]\u001b[A"
     ]
    },
    {
     "name": "stdout",
     "output_type": "stream",
     "text": [
      "MoviePy - Building file  246_Florian Wahl.gif\n",
      "MoviePy - - Generating GIF frames.\n"
     ]
    },
    {
     "name": "stderr",
     "output_type": "stream",
     "text": [
      "\n",
      "\n",
      "t:   0%|          | 0/3 [00:00<?, ?it/s, now=None]\u001b[A\u001b[A\n",
      "\n",
      "t:  67%|██████▋   | 2/3 [00:00<00:00, 15.69it/s, now=None]\u001b[A\u001b[A\n",
      "\n",
      "                                                            A\u001b[A\n",
      "t:  87%|████████▋ | 13/15 [01:27<00:01,  1.43it/s, now=None]\n",
      "t: 100%|██████████| 2/2 [00:50<00:00, 16.34it/s, now=None]\u001b[A"
     ]
    },
    {
     "name": "stdout",
     "output_type": "stream",
     "text": [
      "MoviePy - - File ready: 246_Florian Wahl.gif.\n"
     ]
    },
    {
     "data": {
      "text/html": [
       "<img src=\"246_Florian Wahl.gif\">"
      ],
      "text/plain": [
       "<IPython.core.display.HTML object>"
      ]
     },
     "metadata": {},
     "output_type": "display_data"
    },
    {
     "name": "stdout",
     "output_type": "stream",
     "text": [
      "Oh, I think I have to talk now. Good morning, everyone i'm thrilled today round of presentations I think right so maybe we start with a hidden layers. So, how does you can probably just share your screen, or do you need some extra rights.\n",
      "269 269\n"
     ]
    },
    {
     "name": "stderr",
     "output_type": "stream",
     "text": [
      "                                                            \n",
      "t:  87%|████████▋ | 13/15 [01:28<00:01,  1.43it/s, now=None]\n",
      "                                                            A\n",
      "t:  87%|████████▋ | 13/15 [01:28<00:01,  1.43it/s, now=None]\n",
      "t: 100%|██████████| 2/2 [00:52<00:00, 16.34it/s, now=None]\u001b[A"
     ]
    },
    {
     "name": "stdout",
     "output_type": "stream",
     "text": [
      "MoviePy - Building file  269_Ledia Leka.gif\n",
      "MoviePy - - Generating GIF frames.\n"
     ]
    },
    {
     "name": "stderr",
     "output_type": "stream",
     "text": [
      "\n",
      "\n",
      "                                                            \n",
      "\u001b[A                                                       \n",
      "\n",
      "t:  87%|████████▋ | 13/15 [01:28<00:01,  1.43it/s, now=None]\n",
      "t: 100%|██████████| 2/2 [00:52<00:00, 16.34it/s, now=None]\u001b[A\n",
      "\n",
      "t: 2it [00:00, 128.37it/s, now=None]\u001b[A\u001b[A\n",
      "\n",
      "                                    \u001b[A\u001b[A"
     ]
    },
    {
     "name": "stdout",
     "output_type": "stream",
     "text": [
      "MoviePy - - File ready: 269_Ledia Leka.gif.\n"
     ]
    },
    {
     "data": {
      "text/html": [
       "<img src=\"269_Ledia Leka.gif\">"
      ],
      "text/plain": [
       "<IPython.core.display.HTML object>"
      ]
     },
     "metadata": {},
     "output_type": "display_data"
    },
    {
     "name": "stdout",
     "output_type": "stream",
     "text": [
      "Good.\n",
      "271 271\n"
     ]
    },
    {
     "name": "stderr",
     "output_type": "stream",
     "text": [
      "                                                            \n",
      "t:  87%|████████▋ | 13/15 [01:29<00:01,  1.43it/s, now=None]\n",
      "                                                            A\n",
      "t:  87%|████████▋ | 13/15 [01:29<00:01,  1.43it/s, now=None]\n",
      "t: 100%|██████████| 2/2 [00:53<00:00, 16.34it/s, now=None]\u001b[A"
     ]
    },
    {
     "name": "stdout",
     "output_type": "stream",
     "text": [
      "MoviePy - Building file  271_Florian Wahl.gif\n",
      "MoviePy - - Generating GIF frames.\n"
     ]
    },
    {
     "name": "stderr",
     "output_type": "stream",
     "text": [
      "\n",
      "\n",
      "                                                            \n",
      "\u001b[A                                                       \n",
      "\n",
      "t:  87%|████████▋ | 13/15 [01:29<00:01,  1.43it/s, now=None]\n",
      "t: 100%|██████████| 2/2 [00:53<00:00, 16.34it/s, now=None]\u001b[A\n",
      "\n",
      "t: 2it [00:00, 141.60it/s, now=None]\u001b[A\u001b[A\n",
      "\n",
      "                                    \u001b[A\u001b[A"
     ]
    },
    {
     "name": "stdout",
     "output_type": "stream",
     "text": [
      "MoviePy - - File ready: 271_Florian Wahl.gif.\n"
     ]
    },
    {
     "data": {
      "text/html": [
       "<img src=\"271_Florian Wahl.gif\">"
      ],
      "text/plain": [
       "<IPython.core.display.HTML object>"
      ]
     },
     "metadata": {},
     "output_type": "display_data"
    },
    {
     "name": "stdout",
     "output_type": "stream",
     "text": [
      "morning.\n",
      "283 289\n"
     ]
    },
    {
     "name": "stderr",
     "output_type": "stream",
     "text": [
      "                                                            \n",
      "t:  87%|████████▋ | 13/15 [01:31<00:01,  1.43it/s, now=None]\n",
      "                                                            A\n",
      "t:  87%|████████▋ | 13/15 [01:31<00:01,  1.43it/s, now=None]\n",
      "t: 100%|██████████| 2/2 [00:54<00:00, 16.34it/s, now=None]\u001b[A"
     ]
    },
    {
     "name": "stdout",
     "output_type": "stream",
     "text": [
      "MoviePy - Building file  283_Edina Larios.gif\n",
      "MoviePy - - Generating GIF frames.\n"
     ]
    },
    {
     "name": "stderr",
     "output_type": "stream",
     "text": [
      "\n",
      "\n",
      "t:   0%|          | 0/1 [00:00<?, ?it/s, now=None]\u001b[A\u001b[A\n",
      "\n",
      "                                                            \n",
      "t:  87%|████████▋ | 13/15 [01:31<00:01,  1.43it/s, now=None]\n",
      "t: 100%|██████████| 2/2 [00:55<00:00, 16.34it/s, now=None]\u001b[A"
     ]
    },
    {
     "name": "stdout",
     "output_type": "stream",
     "text": [
      "MoviePy - - File ready: 283_Edina Larios.gif.\n"
     ]
    },
    {
     "data": {
      "text/html": [
       "<img src=\"283_Edina Larios.gif\">"
      ],
      "text/plain": [
       "<IPython.core.display.HTML object>"
      ]
     },
     "metadata": {},
     "output_type": "display_data"
    },
    {
     "name": "stdout",
     "output_type": "stream",
     "text": [
      "Please do let me know if you can hear me i'm hiding in the living room honestly. Can you hear me yes.\n",
      "291 293\n"
     ]
    },
    {
     "name": "stderr",
     "output_type": "stream",
     "text": [
      "                                                            \n",
      "t:  87%|████████▋ | 13/15 [01:32<00:01,  1.43it/s, now=None]\n",
      "                                                            A\n",
      "t:  87%|████████▋ | 13/15 [01:32<00:01,  1.43it/s, now=None]\n",
      "t: 100%|██████████| 2/2 [00:56<00:00, 16.34it/s, now=None]\u001b[A"
     ]
    },
    {
     "name": "stdout",
     "output_type": "stream",
     "text": [
      "MoviePy - Building file  291_Amelie Haas.gif\n",
      "MoviePy - - Generating GIF frames.\n"
     ]
    },
    {
     "name": "stderr",
     "output_type": "stream",
     "text": [
      "\n",
      "\n",
      "t:   0%|          | 0/1 [00:00<?, ?it/s, now=None]\u001b[A\u001b[A\n",
      "\n",
      "                                                            \n",
      "t:  87%|████████▋ | 13/15 [01:33<00:01,  1.43it/s, now=None]\n",
      "t: 100%|██████████| 2/2 [00:56<00:00, 16.34it/s, now=None]\u001b[A"
     ]
    },
    {
     "name": "stdout",
     "output_type": "stream",
     "text": [
      "MoviePy - - File ready: 291_Amelie Haas.gif.\n"
     ]
    },
    {
     "data": {
      "text/html": [
       "<img src=\"291_Amelie Haas.gif\">"
      ],
      "text/plain": [
       "<IPython.core.display.HTML object>"
      ]
     },
     "metadata": {},
     "output_type": "display_data"
    },
    {
     "name": "stdout",
     "output_type": "stream",
     "text": [
      "trying to figure out the. Presentation again.\n",
      "314 449\n"
     ]
    },
    {
     "name": "stderr",
     "output_type": "stream",
     "text": [
      "                                                            \n",
      "t:  87%|████████▋ | 13/15 [01:34<00:01,  1.43it/s, now=None]\n",
      "                                                            A\n",
      "t:  87%|████████▋ | 13/15 [01:34<00:01,  1.43it/s, now=None]\n",
      "t: 100%|██████████| 2/2 [00:58<00:00, 16.34it/s, now=None]\u001b[A"
     ]
    },
    {
     "name": "stdout",
     "output_type": "stream",
     "text": [
      "MoviePy - Building file  314_Edina Larios.gif\n",
      "MoviePy - - Generating GIF frames.\n"
     ]
    },
    {
     "name": "stderr",
     "output_type": "stream",
     "text": [
      "\n",
      "\n",
      "t:   0%|          | 0/14 [00:00<?, ?it/s, now=None]\u001b[A\u001b[A\n",
      "\n",
      "t:  14%|█▍        | 2/14 [00:00<00:00, 15.30it/s, now=None]\u001b[A\u001b[A\n",
      "\n",
      "t:  29%|██▊       | 4/14 [00:01<00:04,  2.10it/s, now=None]\u001b[A\u001b[A\n",
      "\n",
      "t:  36%|███▌      | 5/14 [00:02<00:04,  1.84it/s, now=None]\u001b[A\u001b[A\n",
      "\n",
      "t:  43%|████▎     | 6/14 [00:03<00:04,  1.66it/s, now=None]\u001b[A\u001b[A\n",
      "\n",
      "t:  50%|█████     | 7/14 [00:03<00:04,  1.55it/s, now=None]\u001b[A\u001b[A"
     ]
    },
    {
     "ename": "KeyboardInterrupt",
     "evalue": "",
     "output_type": "error",
     "traceback": [
      "\u001b[0;31m---------------------------------------------------------------------------\u001b[0m",
      "\u001b[0;31mKeyboardInterrupt\u001b[0m                         Traceback (most recent call last)",
      "\u001b[0;32m/tmp/ipykernel_23580/1092127649.py\u001b[0m in \u001b[0;36m<module>\u001b[0;34m\u001b[0m\n\u001b[1;32m     23\u001b[0m     )\n\u001b[1;32m     24\u001b[0m \u001b[0;34m\u001b[0m\u001b[0m\n\u001b[0;32m---> 25\u001b[0;31m     \u001b[0mclip\u001b[0m\u001b[0;34m.\u001b[0m\u001b[0mspeedx\u001b[0m\u001b[0;34m(\u001b[0m\u001b[0;36m10\u001b[0m\u001b[0;34m)\u001b[0m\u001b[0;34m.\u001b[0m\u001b[0mwrite_gif\u001b[0m\u001b[0;34m(\u001b[0m\u001b[0mfn\u001b[0m\u001b[0;34m,\u001b[0m \u001b[0mfps\u001b[0m\u001b[0;34m=\u001b[0m\u001b[0;36m1\u001b[0m\u001b[0;34m,\u001b[0m \u001b[0mprogram\u001b[0m\u001b[0;34m=\u001b[0m\u001b[0;34m'ffmpeg'\u001b[0m\u001b[0;34m)\u001b[0m\u001b[0;34m\u001b[0m\u001b[0;34m\u001b[0m\u001b[0m\n\u001b[0m\u001b[1;32m     26\u001b[0m     \u001b[0mdisplay\u001b[0m\u001b[0;34m(\u001b[0m\u001b[0mdisplay_gif\u001b[0m\u001b[0;34m(\u001b[0m\u001b[0mfn\u001b[0m\u001b[0;34m)\u001b[0m\u001b[0;34m)\u001b[0m\u001b[0;34m\u001b[0m\u001b[0;34m\u001b[0m\u001b[0m\n\u001b[1;32m     27\u001b[0m     \u001b[0mprint\u001b[0m\u001b[0;34m(\u001b[0m\u001b[0mvoice\u001b[0m\u001b[0;34m)\u001b[0m\u001b[0;34m\u001b[0m\u001b[0;34m\u001b[0m\u001b[0m\n",
      "\u001b[0;32m<decorator-gen-176>\u001b[0m in \u001b[0;36mwrite_gif\u001b[0;34m(self, filename, fps, program, opt, fuzz, verbose, loop, dispose, colors, tempfiles, logger)\u001b[0m\n",
      "\u001b[0;32m~/.local/lib/python3.8/site-packages/moviepy/decorators.py\u001b[0m in \u001b[0;36mrequires_duration\u001b[0;34m(f, clip, *a, **k)\u001b[0m\n\u001b[1;32m     52\u001b[0m         \u001b[0;32mraise\u001b[0m \u001b[0mValueError\u001b[0m\u001b[0;34m(\u001b[0m\u001b[0;34m\"Attribute 'duration' not set\"\u001b[0m\u001b[0;34m)\u001b[0m\u001b[0;34m\u001b[0m\u001b[0;34m\u001b[0m\u001b[0m\n\u001b[1;32m     53\u001b[0m     \u001b[0;32melse\u001b[0m\u001b[0;34m:\u001b[0m\u001b[0;34m\u001b[0m\u001b[0;34m\u001b[0m\u001b[0m\n\u001b[0;32m---> 54\u001b[0;31m         \u001b[0;32mreturn\u001b[0m \u001b[0mf\u001b[0m\u001b[0;34m(\u001b[0m\u001b[0mclip\u001b[0m\u001b[0;34m,\u001b[0m \u001b[0;34m*\u001b[0m\u001b[0ma\u001b[0m\u001b[0;34m,\u001b[0m \u001b[0;34m**\u001b[0m\u001b[0mk\u001b[0m\u001b[0;34m)\u001b[0m\u001b[0;34m\u001b[0m\u001b[0;34m\u001b[0m\u001b[0m\n\u001b[0m\u001b[1;32m     55\u001b[0m \u001b[0;34m\u001b[0m\u001b[0m\n\u001b[1;32m     56\u001b[0m \u001b[0;34m\u001b[0m\u001b[0m\n",
      "\u001b[0;32m<decorator-gen-175>\u001b[0m in \u001b[0;36mwrite_gif\u001b[0;34m(self, filename, fps, program, opt, fuzz, verbose, loop, dispose, colors, tempfiles, logger)\u001b[0m\n",
      "\u001b[0;32m~/.local/lib/python3.8/site-packages/moviepy/decorators.py\u001b[0m in \u001b[0;36mconvert_masks_to_RGB\u001b[0;34m(f, clip, *a, **k)\u001b[0m\n\u001b[1;32m     20\u001b[0m     \u001b[0;32mif\u001b[0m \u001b[0mclip\u001b[0m\u001b[0;34m.\u001b[0m\u001b[0mismask\u001b[0m\u001b[0;34m:\u001b[0m\u001b[0;34m\u001b[0m\u001b[0;34m\u001b[0m\u001b[0m\n\u001b[1;32m     21\u001b[0m         \u001b[0mclip\u001b[0m \u001b[0;34m=\u001b[0m \u001b[0mclip\u001b[0m\u001b[0;34m.\u001b[0m\u001b[0mto_RGB\u001b[0m\u001b[0;34m(\u001b[0m\u001b[0;34m)\u001b[0m\u001b[0;34m\u001b[0m\u001b[0;34m\u001b[0m\u001b[0m\n\u001b[0;32m---> 22\u001b[0;31m     \u001b[0;32mreturn\u001b[0m \u001b[0mf\u001b[0m\u001b[0;34m(\u001b[0m\u001b[0mclip\u001b[0m\u001b[0;34m,\u001b[0m \u001b[0;34m*\u001b[0m\u001b[0ma\u001b[0m\u001b[0;34m,\u001b[0m \u001b[0;34m**\u001b[0m\u001b[0mk\u001b[0m\u001b[0;34m)\u001b[0m\u001b[0;34m\u001b[0m\u001b[0;34m\u001b[0m\u001b[0m\n\u001b[0m\u001b[1;32m     23\u001b[0m \u001b[0;34m\u001b[0m\u001b[0m\n\u001b[1;32m     24\u001b[0m \u001b[0;34m@\u001b[0m\u001b[0mdecorator\u001b[0m\u001b[0;34m.\u001b[0m\u001b[0mdecorator\u001b[0m\u001b[0;34m\u001b[0m\u001b[0;34m\u001b[0m\u001b[0m\n",
      "\u001b[0;32m~/.local/lib/python3.8/site-packages/moviepy/video/VideoClip.py\u001b[0m in \u001b[0;36mwrite_gif\u001b[0;34m(self, filename, fps, program, opt, fuzz, verbose, loop, dispose, colors, tempfiles, logger)\u001b[0m\n\u001b[1;32m    446\u001b[0m             \u001b[0;31m# ImageMagick\u001b[0m\u001b[0;34m\u001b[0m\u001b[0;34m\u001b[0m\u001b[0;34m\u001b[0m\u001b[0m\n\u001b[1;32m    447\u001b[0m             \u001b[0mopt\u001b[0m \u001b[0;34m=\u001b[0m \u001b[0;34m'optimizeplus'\u001b[0m \u001b[0;32mif\u001b[0m \u001b[0mopt\u001b[0m \u001b[0;34m==\u001b[0m \u001b[0;34m'nq'\u001b[0m \u001b[0;32melse\u001b[0m \u001b[0;34m'OptimizeTransparency'\u001b[0m\u001b[0;34m\u001b[0m\u001b[0;34m\u001b[0m\u001b[0m\n\u001b[0;32m--> 448\u001b[0;31m             write_gif(self, filename, fps=fps, program=program,\n\u001b[0m\u001b[1;32m    449\u001b[0m                       \u001b[0mopt\u001b[0m\u001b[0;34m=\u001b[0m\u001b[0mopt\u001b[0m\u001b[0;34m,\u001b[0m \u001b[0mfuzz\u001b[0m\u001b[0;34m=\u001b[0m\u001b[0mfuzz\u001b[0m\u001b[0;34m,\u001b[0m \u001b[0mverbose\u001b[0m\u001b[0;34m=\u001b[0m\u001b[0mverbose\u001b[0m\u001b[0;34m,\u001b[0m \u001b[0mloop\u001b[0m\u001b[0;34m=\u001b[0m\u001b[0mloop\u001b[0m\u001b[0;34m,\u001b[0m\u001b[0;34m\u001b[0m\u001b[0;34m\u001b[0m\u001b[0m\n\u001b[1;32m    450\u001b[0m                       \u001b[0mdispose\u001b[0m\u001b[0;34m=\u001b[0m\u001b[0mdispose\u001b[0m\u001b[0;34m,\u001b[0m \u001b[0mcolors\u001b[0m\u001b[0;34m=\u001b[0m\u001b[0mcolors\u001b[0m\u001b[0;34m,\u001b[0m\u001b[0;34m\u001b[0m\u001b[0;34m\u001b[0m\u001b[0m\n",
      "\u001b[0;32m<decorator-gen-165>\u001b[0m in \u001b[0;36mwrite_gif\u001b[0;34m(clip, filename, fps, program, opt, fuzz, verbose, withmask, loop, dispose, colors, logger)\u001b[0m\n",
      "\u001b[0;32m~/.local/lib/python3.8/site-packages/moviepy/decorators.py\u001b[0m in \u001b[0;36mrequires_duration\u001b[0;34m(f, clip, *a, **k)\u001b[0m\n\u001b[1;32m     52\u001b[0m         \u001b[0;32mraise\u001b[0m \u001b[0mValueError\u001b[0m\u001b[0;34m(\u001b[0m\u001b[0;34m\"Attribute 'duration' not set\"\u001b[0m\u001b[0;34m)\u001b[0m\u001b[0;34m\u001b[0m\u001b[0;34m\u001b[0m\u001b[0m\n\u001b[1;32m     53\u001b[0m     \u001b[0;32melse\u001b[0m\u001b[0;34m:\u001b[0m\u001b[0;34m\u001b[0m\u001b[0;34m\u001b[0m\u001b[0m\n\u001b[0;32m---> 54\u001b[0;31m         \u001b[0;32mreturn\u001b[0m \u001b[0mf\u001b[0m\u001b[0;34m(\u001b[0m\u001b[0mclip\u001b[0m\u001b[0;34m,\u001b[0m \u001b[0;34m*\u001b[0m\u001b[0ma\u001b[0m\u001b[0;34m,\u001b[0m \u001b[0;34m**\u001b[0m\u001b[0mk\u001b[0m\u001b[0;34m)\u001b[0m\u001b[0;34m\u001b[0m\u001b[0;34m\u001b[0m\u001b[0m\n\u001b[0m\u001b[1;32m     55\u001b[0m \u001b[0;34m\u001b[0m\u001b[0m\n\u001b[1;32m     56\u001b[0m \u001b[0;34m\u001b[0m\u001b[0m\n",
      "\u001b[0;32m<decorator-gen-164>\u001b[0m in \u001b[0;36mwrite_gif\u001b[0;34m(clip, filename, fps, program, opt, fuzz, verbose, withmask, loop, dispose, colors, logger)\u001b[0m\n",
      "\u001b[0;32m~/.local/lib/python3.8/site-packages/moviepy/decorators.py\u001b[0m in \u001b[0;36muse_clip_fps_by_default\u001b[0;34m(f, clip, *a, **k)\u001b[0m\n\u001b[1;32m    133\u001b[0m              for (k,v) in k.items()}\n\u001b[1;32m    134\u001b[0m \u001b[0;34m\u001b[0m\u001b[0m\n\u001b[0;32m--> 135\u001b[0;31m     \u001b[0;32mreturn\u001b[0m \u001b[0mf\u001b[0m\u001b[0;34m(\u001b[0m\u001b[0mclip\u001b[0m\u001b[0;34m,\u001b[0m \u001b[0;34m*\u001b[0m\u001b[0mnew_a\u001b[0m\u001b[0;34m,\u001b[0m \u001b[0;34m**\u001b[0m\u001b[0mnew_kw\u001b[0m\u001b[0;34m)\u001b[0m\u001b[0;34m\u001b[0m\u001b[0;34m\u001b[0m\u001b[0m\n\u001b[0m",
      "\u001b[0;32m~/.local/lib/python3.8/site-packages/moviepy/video/io/gif_writers.py\u001b[0m in \u001b[0;36mwrite_gif\u001b[0;34m(clip, filename, fps, program, opt, fuzz, verbose, withmask, loop, dispose, colors, logger)\u001b[0m\n\u001b[1;32m    218\u001b[0m     \u001b[0mlogger\u001b[0m\u001b[0;34m(\u001b[0m\u001b[0mmessage\u001b[0m\u001b[0;34m=\u001b[0m\u001b[0;34m'MoviePy - - Generating GIF frames.'\u001b[0m\u001b[0;34m)\u001b[0m\u001b[0;34m\u001b[0m\u001b[0;34m\u001b[0m\u001b[0m\n\u001b[1;32m    219\u001b[0m     \u001b[0;32mtry\u001b[0m\u001b[0;34m:\u001b[0m\u001b[0;34m\u001b[0m\u001b[0;34m\u001b[0m\u001b[0m\n\u001b[0;32m--> 220\u001b[0;31m         for t,frame in clip.iter_frames(fps=fps, logger=logger,\n\u001b[0m\u001b[1;32m    221\u001b[0m                                         with_times=True,  dtype=\"uint8\"):\n\u001b[1;32m    222\u001b[0m             \u001b[0;32mif\u001b[0m \u001b[0mwithmask\u001b[0m\u001b[0;34m:\u001b[0m\u001b[0;34m\u001b[0m\u001b[0;34m\u001b[0m\u001b[0m\n",
      "\u001b[0;32m~/.local/lib/python3.8/site-packages/moviepy/Clip.py\u001b[0m in \u001b[0;36miter_frames\u001b[0;34m(self, fps, with_times, logger, dtype)\u001b[0m\n\u001b[1;32m    470\u001b[0m         \u001b[0mlogger\u001b[0m \u001b[0;34m=\u001b[0m \u001b[0mproglog\u001b[0m\u001b[0;34m.\u001b[0m\u001b[0mdefault_bar_logger\u001b[0m\u001b[0;34m(\u001b[0m\u001b[0mlogger\u001b[0m\u001b[0;34m)\u001b[0m\u001b[0;34m\u001b[0m\u001b[0;34m\u001b[0m\u001b[0m\n\u001b[1;32m    471\u001b[0m         \u001b[0;32mfor\u001b[0m \u001b[0mt\u001b[0m \u001b[0;32min\u001b[0m \u001b[0mlogger\u001b[0m\u001b[0;34m.\u001b[0m\u001b[0miter_bar\u001b[0m\u001b[0;34m(\u001b[0m\u001b[0mt\u001b[0m\u001b[0;34m=\u001b[0m\u001b[0mnp\u001b[0m\u001b[0;34m.\u001b[0m\u001b[0marange\u001b[0m\u001b[0;34m(\u001b[0m\u001b[0;36m0\u001b[0m\u001b[0;34m,\u001b[0m \u001b[0mself\u001b[0m\u001b[0;34m.\u001b[0m\u001b[0mduration\u001b[0m\u001b[0;34m,\u001b[0m \u001b[0;36m1.0\u001b[0m\u001b[0;34m/\u001b[0m\u001b[0mfps\u001b[0m\u001b[0;34m)\u001b[0m\u001b[0;34m)\u001b[0m\u001b[0;34m:\u001b[0m\u001b[0;34m\u001b[0m\u001b[0;34m\u001b[0m\u001b[0m\n\u001b[0;32m--> 472\u001b[0;31m             \u001b[0mframe\u001b[0m \u001b[0;34m=\u001b[0m \u001b[0mself\u001b[0m\u001b[0;34m.\u001b[0m\u001b[0mget_frame\u001b[0m\u001b[0;34m(\u001b[0m\u001b[0mt\u001b[0m\u001b[0;34m)\u001b[0m\u001b[0;34m\u001b[0m\u001b[0;34m\u001b[0m\u001b[0m\n\u001b[0m\u001b[1;32m    473\u001b[0m             \u001b[0;32mif\u001b[0m \u001b[0;34m(\u001b[0m\u001b[0mdtype\u001b[0m \u001b[0;32mis\u001b[0m \u001b[0;32mnot\u001b[0m \u001b[0;32mNone\u001b[0m\u001b[0;34m)\u001b[0m \u001b[0;32mand\u001b[0m \u001b[0;34m(\u001b[0m\u001b[0mframe\u001b[0m\u001b[0;34m.\u001b[0m\u001b[0mdtype\u001b[0m \u001b[0;34m!=\u001b[0m \u001b[0mdtype\u001b[0m\u001b[0;34m)\u001b[0m\u001b[0;34m:\u001b[0m\u001b[0;34m\u001b[0m\u001b[0;34m\u001b[0m\u001b[0m\n\u001b[1;32m    474\u001b[0m                 \u001b[0mframe\u001b[0m \u001b[0;34m=\u001b[0m \u001b[0mframe\u001b[0m\u001b[0;34m.\u001b[0m\u001b[0mastype\u001b[0m\u001b[0;34m(\u001b[0m\u001b[0mdtype\u001b[0m\u001b[0;34m)\u001b[0m\u001b[0;34m\u001b[0m\u001b[0;34m\u001b[0m\u001b[0m\n",
      "\u001b[0;32m<decorator-gen-127>\u001b[0m in \u001b[0;36mget_frame\u001b[0;34m(self, t)\u001b[0m\n",
      "\u001b[0;32m~/.local/lib/python3.8/site-packages/moviepy/decorators.py\u001b[0m in \u001b[0;36mwrapper\u001b[0;34m(f, *a, **kw)\u001b[0m\n\u001b[1;32m     87\u001b[0m         new_kw = {k: fun(v) if k in varnames else v\n\u001b[1;32m     88\u001b[0m                  for (k,v) in kw.items()}\n\u001b[0;32m---> 89\u001b[0;31m         \u001b[0;32mreturn\u001b[0m \u001b[0mf\u001b[0m\u001b[0;34m(\u001b[0m\u001b[0;34m*\u001b[0m\u001b[0mnew_a\u001b[0m\u001b[0;34m,\u001b[0m \u001b[0;34m**\u001b[0m\u001b[0mnew_kw\u001b[0m\u001b[0;34m)\u001b[0m\u001b[0;34m\u001b[0m\u001b[0;34m\u001b[0m\u001b[0m\n\u001b[0m\u001b[1;32m     90\u001b[0m     \u001b[0;32mreturn\u001b[0m \u001b[0mdecorator\u001b[0m\u001b[0;34m.\u001b[0m\u001b[0mdecorator\u001b[0m\u001b[0;34m(\u001b[0m\u001b[0mwrapper\u001b[0m\u001b[0;34m)\u001b[0m\u001b[0;34m\u001b[0m\u001b[0;34m\u001b[0m\u001b[0m\n\u001b[1;32m     91\u001b[0m \u001b[0;34m\u001b[0m\u001b[0m\n",
      "\u001b[0;32m~/.local/lib/python3.8/site-packages/moviepy/Clip.py\u001b[0m in \u001b[0;36mget_frame\u001b[0;34m(self, t)\u001b[0m\n\u001b[1;32m     91\u001b[0m                 \u001b[0;32mreturn\u001b[0m \u001b[0mframe\u001b[0m\u001b[0;34m\u001b[0m\u001b[0;34m\u001b[0m\u001b[0m\n\u001b[1;32m     92\u001b[0m         \u001b[0;32melse\u001b[0m\u001b[0;34m:\u001b[0m\u001b[0;34m\u001b[0m\u001b[0;34m\u001b[0m\u001b[0m\n\u001b[0;32m---> 93\u001b[0;31m             \u001b[0;32mreturn\u001b[0m \u001b[0mself\u001b[0m\u001b[0;34m.\u001b[0m\u001b[0mmake_frame\u001b[0m\u001b[0;34m(\u001b[0m\u001b[0mt\u001b[0m\u001b[0;34m)\u001b[0m\u001b[0;34m\u001b[0m\u001b[0;34m\u001b[0m\u001b[0m\n\u001b[0m\u001b[1;32m     94\u001b[0m \u001b[0;34m\u001b[0m\u001b[0m\n\u001b[1;32m     95\u001b[0m     \u001b[0;32mdef\u001b[0m \u001b[0mfl\u001b[0m\u001b[0;34m(\u001b[0m\u001b[0mself\u001b[0m\u001b[0;34m,\u001b[0m \u001b[0mfun\u001b[0m\u001b[0;34m,\u001b[0m \u001b[0mapply_to\u001b[0m\u001b[0;34m=\u001b[0m\u001b[0;32mNone\u001b[0m\u001b[0;34m,\u001b[0m \u001b[0mkeep_duration\u001b[0m\u001b[0;34m=\u001b[0m\u001b[0;32mTrue\u001b[0m\u001b[0;34m)\u001b[0m\u001b[0;34m:\u001b[0m\u001b[0;34m\u001b[0m\u001b[0;34m\u001b[0m\u001b[0m\n",
      "\u001b[0;32m~/.local/lib/python3.8/site-packages/moviepy/Clip.py\u001b[0m in \u001b[0;36m<lambda>\u001b[0;34m(t)\u001b[0m\n\u001b[1;32m    134\u001b[0m \u001b[0;34m\u001b[0m\u001b[0m\n\u001b[1;32m    135\u001b[0m         \u001b[0;31m#mf = copy(self.make_frame)\u001b[0m\u001b[0;34m\u001b[0m\u001b[0;34m\u001b[0m\u001b[0;34m\u001b[0m\u001b[0m\n\u001b[0;32m--> 136\u001b[0;31m         \u001b[0mnewclip\u001b[0m \u001b[0;34m=\u001b[0m \u001b[0mself\u001b[0m\u001b[0;34m.\u001b[0m\u001b[0mset_make_frame\u001b[0m\u001b[0;34m(\u001b[0m\u001b[0;32mlambda\u001b[0m \u001b[0mt\u001b[0m\u001b[0;34m:\u001b[0m \u001b[0mfun\u001b[0m\u001b[0;34m(\u001b[0m\u001b[0mself\u001b[0m\u001b[0;34m.\u001b[0m\u001b[0mget_frame\u001b[0m\u001b[0;34m,\u001b[0m \u001b[0mt\u001b[0m\u001b[0;34m)\u001b[0m\u001b[0;34m)\u001b[0m\u001b[0;34m\u001b[0m\u001b[0;34m\u001b[0m\u001b[0m\n\u001b[0m\u001b[1;32m    137\u001b[0m \u001b[0;34m\u001b[0m\u001b[0m\n\u001b[1;32m    138\u001b[0m         \u001b[0;32mif\u001b[0m \u001b[0;32mnot\u001b[0m \u001b[0mkeep_duration\u001b[0m\u001b[0;34m:\u001b[0m\u001b[0;34m\u001b[0m\u001b[0;34m\u001b[0m\u001b[0m\n",
      "\u001b[0;32m~/.local/lib/python3.8/site-packages/moviepy/Clip.py\u001b[0m in \u001b[0;36m<lambda>\u001b[0;34m(gf, t)\u001b[0m\n\u001b[1;32m    185\u001b[0m             \u001b[0mapply_to\u001b[0m \u001b[0;34m=\u001b[0m \u001b[0;34m[\u001b[0m\u001b[0;34m]\u001b[0m\u001b[0;34m\u001b[0m\u001b[0;34m\u001b[0m\u001b[0m\n\u001b[1;32m    186\u001b[0m \u001b[0;34m\u001b[0m\u001b[0m\n\u001b[0;32m--> 187\u001b[0;31m         return self.fl(lambda gf, t: gf(t_func(t)), apply_to,\n\u001b[0m\u001b[1;32m    188\u001b[0m                        keep_duration=keep_duration)\n\u001b[1;32m    189\u001b[0m \u001b[0;34m\u001b[0m\u001b[0m\n",
      "\u001b[0;32m<decorator-gen-127>\u001b[0m in \u001b[0;36mget_frame\u001b[0;34m(self, t)\u001b[0m\n",
      "\u001b[0;32m~/.local/lib/python3.8/site-packages/moviepy/decorators.py\u001b[0m in \u001b[0;36mwrapper\u001b[0;34m(f, *a, **kw)\u001b[0m\n\u001b[1;32m     87\u001b[0m         new_kw = {k: fun(v) if k in varnames else v\n\u001b[1;32m     88\u001b[0m                  for (k,v) in kw.items()}\n\u001b[0;32m---> 89\u001b[0;31m         \u001b[0;32mreturn\u001b[0m \u001b[0mf\u001b[0m\u001b[0;34m(\u001b[0m\u001b[0;34m*\u001b[0m\u001b[0mnew_a\u001b[0m\u001b[0;34m,\u001b[0m \u001b[0;34m**\u001b[0m\u001b[0mnew_kw\u001b[0m\u001b[0;34m)\u001b[0m\u001b[0;34m\u001b[0m\u001b[0;34m\u001b[0m\u001b[0m\n\u001b[0m\u001b[1;32m     90\u001b[0m     \u001b[0;32mreturn\u001b[0m \u001b[0mdecorator\u001b[0m\u001b[0;34m.\u001b[0m\u001b[0mdecorator\u001b[0m\u001b[0;34m(\u001b[0m\u001b[0mwrapper\u001b[0m\u001b[0;34m)\u001b[0m\u001b[0;34m\u001b[0m\u001b[0;34m\u001b[0m\u001b[0m\n\u001b[1;32m     91\u001b[0m \u001b[0;34m\u001b[0m\u001b[0m\n",
      "\u001b[0;32m~/.local/lib/python3.8/site-packages/moviepy/Clip.py\u001b[0m in \u001b[0;36mget_frame\u001b[0;34m(self, t)\u001b[0m\n\u001b[1;32m     91\u001b[0m                 \u001b[0;32mreturn\u001b[0m \u001b[0mframe\u001b[0m\u001b[0;34m\u001b[0m\u001b[0;34m\u001b[0m\u001b[0m\n\u001b[1;32m     92\u001b[0m         \u001b[0;32melse\u001b[0m\u001b[0;34m:\u001b[0m\u001b[0;34m\u001b[0m\u001b[0;34m\u001b[0m\u001b[0m\n\u001b[0;32m---> 93\u001b[0;31m             \u001b[0;32mreturn\u001b[0m \u001b[0mself\u001b[0m\u001b[0;34m.\u001b[0m\u001b[0mmake_frame\u001b[0m\u001b[0;34m(\u001b[0m\u001b[0mt\u001b[0m\u001b[0;34m)\u001b[0m\u001b[0;34m\u001b[0m\u001b[0;34m\u001b[0m\u001b[0m\n\u001b[0m\u001b[1;32m     94\u001b[0m \u001b[0;34m\u001b[0m\u001b[0m\n\u001b[1;32m     95\u001b[0m     \u001b[0;32mdef\u001b[0m \u001b[0mfl\u001b[0m\u001b[0;34m(\u001b[0m\u001b[0mself\u001b[0m\u001b[0;34m,\u001b[0m \u001b[0mfun\u001b[0m\u001b[0;34m,\u001b[0m \u001b[0mapply_to\u001b[0m\u001b[0;34m=\u001b[0m\u001b[0;32mNone\u001b[0m\u001b[0;34m,\u001b[0m \u001b[0mkeep_duration\u001b[0m\u001b[0;34m=\u001b[0m\u001b[0;32mTrue\u001b[0m\u001b[0;34m)\u001b[0m\u001b[0;34m:\u001b[0m\u001b[0;34m\u001b[0m\u001b[0;34m\u001b[0m\u001b[0m\n",
      "\u001b[0;32m~/.local/lib/python3.8/site-packages/moviepy/Clip.py\u001b[0m in \u001b[0;36m<lambda>\u001b[0;34m(t)\u001b[0m\n\u001b[1;32m    134\u001b[0m \u001b[0;34m\u001b[0m\u001b[0m\n\u001b[1;32m    135\u001b[0m         \u001b[0;31m#mf = copy(self.make_frame)\u001b[0m\u001b[0;34m\u001b[0m\u001b[0;34m\u001b[0m\u001b[0;34m\u001b[0m\u001b[0m\n\u001b[0;32m--> 136\u001b[0;31m         \u001b[0mnewclip\u001b[0m \u001b[0;34m=\u001b[0m \u001b[0mself\u001b[0m\u001b[0;34m.\u001b[0m\u001b[0mset_make_frame\u001b[0m\u001b[0;34m(\u001b[0m\u001b[0;32mlambda\u001b[0m \u001b[0mt\u001b[0m\u001b[0;34m:\u001b[0m \u001b[0mfun\u001b[0m\u001b[0;34m(\u001b[0m\u001b[0mself\u001b[0m\u001b[0;34m.\u001b[0m\u001b[0mget_frame\u001b[0m\u001b[0;34m,\u001b[0m \u001b[0mt\u001b[0m\u001b[0;34m)\u001b[0m\u001b[0;34m)\u001b[0m\u001b[0;34m\u001b[0m\u001b[0;34m\u001b[0m\u001b[0m\n\u001b[0m\u001b[1;32m    137\u001b[0m \u001b[0;34m\u001b[0m\u001b[0m\n\u001b[1;32m    138\u001b[0m         \u001b[0;32mif\u001b[0m \u001b[0;32mnot\u001b[0m \u001b[0mkeep_duration\u001b[0m\u001b[0;34m:\u001b[0m\u001b[0;34m\u001b[0m\u001b[0;34m\u001b[0m\u001b[0m\n",
      "\u001b[0;32m~/.local/lib/python3.8/site-packages/moviepy/video/VideoClip.py\u001b[0m in \u001b[0;36m<lambda>\u001b[0;34m(gf, t)\u001b[0m\n\u001b[1;32m    488\u001b[0m         \"\"\"\n\u001b[1;32m    489\u001b[0m         \u001b[0mapply_to\u001b[0m \u001b[0;34m=\u001b[0m \u001b[0mapply_to\u001b[0m \u001b[0;32mor\u001b[0m \u001b[0;34m[\u001b[0m\u001b[0;34m]\u001b[0m\u001b[0;34m\u001b[0m\u001b[0;34m\u001b[0m\u001b[0m\n\u001b[0;32m--> 490\u001b[0;31m         \u001b[0;32mreturn\u001b[0m \u001b[0mself\u001b[0m\u001b[0;34m.\u001b[0m\u001b[0mfl\u001b[0m\u001b[0;34m(\u001b[0m\u001b[0;32mlambda\u001b[0m \u001b[0mgf\u001b[0m\u001b[0;34m,\u001b[0m \u001b[0mt\u001b[0m\u001b[0;34m:\u001b[0m \u001b[0mimage_func\u001b[0m\u001b[0;34m(\u001b[0m\u001b[0mgf\u001b[0m\u001b[0;34m(\u001b[0m\u001b[0mt\u001b[0m\u001b[0;34m)\u001b[0m\u001b[0;34m)\u001b[0m\u001b[0;34m,\u001b[0m \u001b[0mapply_to\u001b[0m\u001b[0;34m)\u001b[0m\u001b[0;34m\u001b[0m\u001b[0;34m\u001b[0m\u001b[0m\n\u001b[0m\u001b[1;32m    491\u001b[0m \u001b[0;34m\u001b[0m\u001b[0m\n\u001b[1;32m    492\u001b[0m     \u001b[0;31m# --------------------------------------------------------------\u001b[0m\u001b[0;34m\u001b[0m\u001b[0;34m\u001b[0m\u001b[0;34m\u001b[0m\u001b[0m\n",
      "\u001b[0;32m<decorator-gen-127>\u001b[0m in \u001b[0;36mget_frame\u001b[0;34m(self, t)\u001b[0m\n",
      "\u001b[0;32m~/.local/lib/python3.8/site-packages/moviepy/decorators.py\u001b[0m in \u001b[0;36mwrapper\u001b[0;34m(f, *a, **kw)\u001b[0m\n\u001b[1;32m     87\u001b[0m         new_kw = {k: fun(v) if k in varnames else v\n\u001b[1;32m     88\u001b[0m                  for (k,v) in kw.items()}\n\u001b[0;32m---> 89\u001b[0;31m         \u001b[0;32mreturn\u001b[0m \u001b[0mf\u001b[0m\u001b[0;34m(\u001b[0m\u001b[0;34m*\u001b[0m\u001b[0mnew_a\u001b[0m\u001b[0;34m,\u001b[0m \u001b[0;34m**\u001b[0m\u001b[0mnew_kw\u001b[0m\u001b[0;34m)\u001b[0m\u001b[0;34m\u001b[0m\u001b[0;34m\u001b[0m\u001b[0m\n\u001b[0m\u001b[1;32m     90\u001b[0m     \u001b[0;32mreturn\u001b[0m \u001b[0mdecorator\u001b[0m\u001b[0;34m.\u001b[0m\u001b[0mdecorator\u001b[0m\u001b[0;34m(\u001b[0m\u001b[0mwrapper\u001b[0m\u001b[0;34m)\u001b[0m\u001b[0;34m\u001b[0m\u001b[0;34m\u001b[0m\u001b[0m\n\u001b[1;32m     91\u001b[0m \u001b[0;34m\u001b[0m\u001b[0m\n",
      "\u001b[0;32m~/.local/lib/python3.8/site-packages/moviepy/Clip.py\u001b[0m in \u001b[0;36mget_frame\u001b[0;34m(self, t)\u001b[0m\n\u001b[1;32m     91\u001b[0m                 \u001b[0;32mreturn\u001b[0m \u001b[0mframe\u001b[0m\u001b[0;34m\u001b[0m\u001b[0;34m\u001b[0m\u001b[0m\n\u001b[1;32m     92\u001b[0m         \u001b[0;32melse\u001b[0m\u001b[0;34m:\u001b[0m\u001b[0;34m\u001b[0m\u001b[0;34m\u001b[0m\u001b[0m\n\u001b[0;32m---> 93\u001b[0;31m             \u001b[0;32mreturn\u001b[0m \u001b[0mself\u001b[0m\u001b[0;34m.\u001b[0m\u001b[0mmake_frame\u001b[0m\u001b[0;34m(\u001b[0m\u001b[0mt\u001b[0m\u001b[0;34m)\u001b[0m\u001b[0;34m\u001b[0m\u001b[0;34m\u001b[0m\u001b[0m\n\u001b[0m\u001b[1;32m     94\u001b[0m \u001b[0;34m\u001b[0m\u001b[0m\n\u001b[1;32m     95\u001b[0m     \u001b[0;32mdef\u001b[0m \u001b[0mfl\u001b[0m\u001b[0;34m(\u001b[0m\u001b[0mself\u001b[0m\u001b[0;34m,\u001b[0m \u001b[0mfun\u001b[0m\u001b[0;34m,\u001b[0m \u001b[0mapply_to\u001b[0m\u001b[0;34m=\u001b[0m\u001b[0;32mNone\u001b[0m\u001b[0;34m,\u001b[0m \u001b[0mkeep_duration\u001b[0m\u001b[0;34m=\u001b[0m\u001b[0;32mTrue\u001b[0m\u001b[0;34m)\u001b[0m\u001b[0;34m:\u001b[0m\u001b[0;34m\u001b[0m\u001b[0;34m\u001b[0m\u001b[0m\n",
      "\u001b[0;32m~/.local/lib/python3.8/site-packages/moviepy/Clip.py\u001b[0m in \u001b[0;36m<lambda>\u001b[0;34m(t)\u001b[0m\n\u001b[1;32m    134\u001b[0m \u001b[0;34m\u001b[0m\u001b[0m\n\u001b[1;32m    135\u001b[0m         \u001b[0;31m#mf = copy(self.make_frame)\u001b[0m\u001b[0;34m\u001b[0m\u001b[0;34m\u001b[0m\u001b[0;34m\u001b[0m\u001b[0m\n\u001b[0;32m--> 136\u001b[0;31m         \u001b[0mnewclip\u001b[0m \u001b[0;34m=\u001b[0m \u001b[0mself\u001b[0m\u001b[0;34m.\u001b[0m\u001b[0mset_make_frame\u001b[0m\u001b[0;34m(\u001b[0m\u001b[0;32mlambda\u001b[0m \u001b[0mt\u001b[0m\u001b[0;34m:\u001b[0m \u001b[0mfun\u001b[0m\u001b[0;34m(\u001b[0m\u001b[0mself\u001b[0m\u001b[0;34m.\u001b[0m\u001b[0mget_frame\u001b[0m\u001b[0;34m,\u001b[0m \u001b[0mt\u001b[0m\u001b[0;34m)\u001b[0m\u001b[0;34m)\u001b[0m\u001b[0;34m\u001b[0m\u001b[0;34m\u001b[0m\u001b[0m\n\u001b[0m\u001b[1;32m    137\u001b[0m \u001b[0;34m\u001b[0m\u001b[0m\n\u001b[1;32m    138\u001b[0m         \u001b[0;32mif\u001b[0m \u001b[0;32mnot\u001b[0m \u001b[0mkeep_duration\u001b[0m\u001b[0;34m:\u001b[0m\u001b[0;34m\u001b[0m\u001b[0;34m\u001b[0m\u001b[0m\n",
      "\u001b[0;32m~/.local/lib/python3.8/site-packages/moviepy/Clip.py\u001b[0m in \u001b[0;36m<lambda>\u001b[0;34m(gf, t)\u001b[0m\n\u001b[1;32m    185\u001b[0m             \u001b[0mapply_to\u001b[0m \u001b[0;34m=\u001b[0m \u001b[0;34m[\u001b[0m\u001b[0;34m]\u001b[0m\u001b[0;34m\u001b[0m\u001b[0;34m\u001b[0m\u001b[0m\n\u001b[1;32m    186\u001b[0m \u001b[0;34m\u001b[0m\u001b[0m\n\u001b[0;32m--> 187\u001b[0;31m         return self.fl(lambda gf, t: gf(t_func(t)), apply_to,\n\u001b[0m\u001b[1;32m    188\u001b[0m                        keep_duration=keep_duration)\n\u001b[1;32m    189\u001b[0m \u001b[0;34m\u001b[0m\u001b[0m\n",
      "\u001b[0;32m<decorator-gen-127>\u001b[0m in \u001b[0;36mget_frame\u001b[0;34m(self, t)\u001b[0m\n",
      "\u001b[0;32m~/.local/lib/python3.8/site-packages/moviepy/decorators.py\u001b[0m in \u001b[0;36mwrapper\u001b[0;34m(f, *a, **kw)\u001b[0m\n\u001b[1;32m     87\u001b[0m         new_kw = {k: fun(v) if k in varnames else v\n\u001b[1;32m     88\u001b[0m                  for (k,v) in kw.items()}\n\u001b[0;32m---> 89\u001b[0;31m         \u001b[0;32mreturn\u001b[0m \u001b[0mf\u001b[0m\u001b[0;34m(\u001b[0m\u001b[0;34m*\u001b[0m\u001b[0mnew_a\u001b[0m\u001b[0;34m,\u001b[0m \u001b[0;34m**\u001b[0m\u001b[0mnew_kw\u001b[0m\u001b[0;34m)\u001b[0m\u001b[0;34m\u001b[0m\u001b[0;34m\u001b[0m\u001b[0m\n\u001b[0m\u001b[1;32m     90\u001b[0m     \u001b[0;32mreturn\u001b[0m \u001b[0mdecorator\u001b[0m\u001b[0;34m.\u001b[0m\u001b[0mdecorator\u001b[0m\u001b[0;34m(\u001b[0m\u001b[0mwrapper\u001b[0m\u001b[0;34m)\u001b[0m\u001b[0;34m\u001b[0m\u001b[0;34m\u001b[0m\u001b[0m\n\u001b[1;32m     91\u001b[0m \u001b[0;34m\u001b[0m\u001b[0m\n",
      "\u001b[0;32m~/.local/lib/python3.8/site-packages/moviepy/Clip.py\u001b[0m in \u001b[0;36mget_frame\u001b[0;34m(self, t)\u001b[0m\n\u001b[1;32m     91\u001b[0m                 \u001b[0;32mreturn\u001b[0m \u001b[0mframe\u001b[0m\u001b[0;34m\u001b[0m\u001b[0;34m\u001b[0m\u001b[0m\n\u001b[1;32m     92\u001b[0m         \u001b[0;32melse\u001b[0m\u001b[0;34m:\u001b[0m\u001b[0;34m\u001b[0m\u001b[0;34m\u001b[0m\u001b[0m\n\u001b[0;32m---> 93\u001b[0;31m             \u001b[0;32mreturn\u001b[0m \u001b[0mself\u001b[0m\u001b[0;34m.\u001b[0m\u001b[0mmake_frame\u001b[0m\u001b[0;34m(\u001b[0m\u001b[0mt\u001b[0m\u001b[0;34m)\u001b[0m\u001b[0;34m\u001b[0m\u001b[0;34m\u001b[0m\u001b[0m\n\u001b[0m\u001b[1;32m     94\u001b[0m \u001b[0;34m\u001b[0m\u001b[0m\n\u001b[1;32m     95\u001b[0m     \u001b[0;32mdef\u001b[0m \u001b[0mfl\u001b[0m\u001b[0;34m(\u001b[0m\u001b[0mself\u001b[0m\u001b[0;34m,\u001b[0m \u001b[0mfun\u001b[0m\u001b[0;34m,\u001b[0m \u001b[0mapply_to\u001b[0m\u001b[0;34m=\u001b[0m\u001b[0;32mNone\u001b[0m\u001b[0;34m,\u001b[0m \u001b[0mkeep_duration\u001b[0m\u001b[0;34m=\u001b[0m\u001b[0;32mTrue\u001b[0m\u001b[0;34m)\u001b[0m\u001b[0;34m:\u001b[0m\u001b[0;34m\u001b[0m\u001b[0;34m\u001b[0m\u001b[0m\n",
      "\u001b[0;32m~/.local/lib/python3.8/site-packages/moviepy/video/io/VideoFileClip.py\u001b[0m in \u001b[0;36m<lambda>\u001b[0;34m(t)\u001b[0m\n\u001b[1;32m    111\u001b[0m         \u001b[0;32melse\u001b[0m\u001b[0;34m:\u001b[0m\u001b[0;34m\u001b[0m\u001b[0;34m\u001b[0m\u001b[0m\n\u001b[1;32m    112\u001b[0m \u001b[0;34m\u001b[0m\u001b[0m\n\u001b[0;32m--> 113\u001b[0;31m             \u001b[0mself\u001b[0m\u001b[0;34m.\u001b[0m\u001b[0mmake_frame\u001b[0m \u001b[0;34m=\u001b[0m \u001b[0;32mlambda\u001b[0m \u001b[0mt\u001b[0m\u001b[0;34m:\u001b[0m \u001b[0mself\u001b[0m\u001b[0;34m.\u001b[0m\u001b[0mreader\u001b[0m\u001b[0;34m.\u001b[0m\u001b[0mget_frame\u001b[0m\u001b[0;34m(\u001b[0m\u001b[0mt\u001b[0m\u001b[0;34m)\u001b[0m\u001b[0;34m\u001b[0m\u001b[0;34m\u001b[0m\u001b[0m\n\u001b[0m\u001b[1;32m    114\u001b[0m \u001b[0;34m\u001b[0m\u001b[0m\n\u001b[1;32m    115\u001b[0m         \u001b[0;31m# Make a reader for the audio, if any.\u001b[0m\u001b[0;34m\u001b[0m\u001b[0;34m\u001b[0m\u001b[0;34m\u001b[0m\u001b[0m\n",
      "\u001b[0;32m~/.local/lib/python3.8/site-packages/moviepy/video/io/ffmpeg_reader.py\u001b[0m in \u001b[0;36mget_frame\u001b[0;34m(self, t)\u001b[0m\n\u001b[1;32m    182\u001b[0m         \u001b[0;32melse\u001b[0m\u001b[0;34m:\u001b[0m\u001b[0;34m\u001b[0m\u001b[0;34m\u001b[0m\u001b[0m\n\u001b[1;32m    183\u001b[0m             \u001b[0mself\u001b[0m\u001b[0;34m.\u001b[0m\u001b[0mskip_frames\u001b[0m\u001b[0;34m(\u001b[0m\u001b[0mpos\u001b[0m\u001b[0;34m-\u001b[0m\u001b[0mself\u001b[0m\u001b[0;34m.\u001b[0m\u001b[0mpos\u001b[0m\u001b[0;34m-\u001b[0m\u001b[0;36m1\u001b[0m\u001b[0;34m)\u001b[0m\u001b[0;34m\u001b[0m\u001b[0;34m\u001b[0m\u001b[0m\n\u001b[0;32m--> 184\u001b[0;31m         \u001b[0mresult\u001b[0m \u001b[0;34m=\u001b[0m \u001b[0mself\u001b[0m\u001b[0;34m.\u001b[0m\u001b[0mread_frame\u001b[0m\u001b[0;34m(\u001b[0m\u001b[0;34m)\u001b[0m\u001b[0;34m\u001b[0m\u001b[0;34m\u001b[0m\u001b[0m\n\u001b[0m\u001b[1;32m    185\u001b[0m         \u001b[0mself\u001b[0m\u001b[0;34m.\u001b[0m\u001b[0mpos\u001b[0m \u001b[0;34m=\u001b[0m \u001b[0mpos\u001b[0m\u001b[0;34m\u001b[0m\u001b[0;34m\u001b[0m\u001b[0m\n\u001b[1;32m    186\u001b[0m         \u001b[0;32mreturn\u001b[0m \u001b[0mresult\u001b[0m\u001b[0;34m\u001b[0m\u001b[0;34m\u001b[0m\u001b[0m\n",
      "\u001b[0;32m~/.local/lib/python3.8/site-packages/moviepy/video/io/ffmpeg_reader.py\u001b[0m in \u001b[0;36mread_frame\u001b[0;34m(self)\u001b[0m\n\u001b[1;32m    118\u001b[0m         \u001b[0mnbytes\u001b[0m\u001b[0;34m=\u001b[0m \u001b[0mself\u001b[0m\u001b[0;34m.\u001b[0m\u001b[0mdepth\u001b[0m\u001b[0;34m*\u001b[0m\u001b[0mw\u001b[0m\u001b[0;34m*\u001b[0m\u001b[0mh\u001b[0m\u001b[0;34m\u001b[0m\u001b[0;34m\u001b[0m\u001b[0m\n\u001b[1;32m    119\u001b[0m \u001b[0;34m\u001b[0m\u001b[0m\n\u001b[0;32m--> 120\u001b[0;31m         \u001b[0ms\u001b[0m \u001b[0;34m=\u001b[0m \u001b[0mself\u001b[0m\u001b[0;34m.\u001b[0m\u001b[0mproc\u001b[0m\u001b[0;34m.\u001b[0m\u001b[0mstdout\u001b[0m\u001b[0;34m.\u001b[0m\u001b[0mread\u001b[0m\u001b[0;34m(\u001b[0m\u001b[0mnbytes\u001b[0m\u001b[0;34m)\u001b[0m\u001b[0;34m\u001b[0m\u001b[0;34m\u001b[0m\u001b[0m\n\u001b[0m\u001b[1;32m    121\u001b[0m         \u001b[0;32mif\u001b[0m \u001b[0mlen\u001b[0m\u001b[0;34m(\u001b[0m\u001b[0ms\u001b[0m\u001b[0;34m)\u001b[0m \u001b[0;34m!=\u001b[0m \u001b[0mnbytes\u001b[0m\u001b[0;34m:\u001b[0m\u001b[0;34m\u001b[0m\u001b[0;34m\u001b[0m\u001b[0m\n\u001b[1;32m    122\u001b[0m \u001b[0;34m\u001b[0m\u001b[0m\n",
      "\u001b[0;31mKeyboardInterrupt\u001b[0m: "
     ]
    }
   ],
   "source": [
    "df = pd.DataFrame(tr)\n",
    "df['start'] =  pd.to_datetime(df['start'], infer_datetime_format=True)\n",
    "df['start'] = (df['start'].dt.hour*60+df['start'].dt.minute)*60 + df['start'].dt.second\n",
    "df['end'] =  pd.to_datetime(df['end'], infer_datetime_format=True)\n",
    "df['end'] = (df['end'].dt.hour*60+df['end'].dt.minute)*60 + df['end'].dt.second\n",
    "df\n",
    "\n",
    "def display_gif(fn):\n",
    "    from IPython import display\n",
    "    return display.HTML('<img src=\"{}\">'.format(fn))\n",
    "\n",
    "from moviepy.editor import *\n",
    "\n",
    "filename = 'GMT20220412-055954_Recording_2736x1824.mp4'\n",
    "for row in df.to_records():\n",
    "    _,start, end,name, voice = row\n",
    "    fn=f\"{start}_{name.strip()}.gif\"\n",
    "    print(start,end)\n",
    "    clip = (\n",
    "        VideoFileClip(filename)\n",
    "        .subclip(start,end)\n",
    "        .resize(0.3)\n",
    "    )\n",
    "\n",
    "    clip.speedx(10).write_gif(fn, fps=1, program='ffmpeg')\n",
    "    display(display_gif(fn))\n",
    "    print(voice)"
   ]
  },
  {
   "cell_type": "code",
   "execution_count": 189,
   "id": "aa9d02c4-58e3-433c-8fe3-e9492dc6f5c3",
   "metadata": {},
   "outputs": [
    {
     "data": {
      "text/html": [
       "\n",
       "<div id=\"altair-viz-b5f959868081419583ee572e1c86e956\"></div>\n",
       "<script type=\"text/javascript\">\n",
       "  (function(spec, embedOpt){\n",
       "    let outputDiv = document.currentScript.previousElementSibling;\n",
       "    if (outputDiv.id !== \"altair-viz-b5f959868081419583ee572e1c86e956\") {\n",
       "      outputDiv = document.getElementById(\"altair-viz-b5f959868081419583ee572e1c86e956\");\n",
       "    }\n",
       "    const paths = {\n",
       "      \"vega\": \"https://cdn.jsdelivr.net/npm//vega@5?noext\",\n",
       "      \"vega-lib\": \"https://cdn.jsdelivr.net/npm//vega-lib?noext\",\n",
       "      \"vega-lite\": \"https://cdn.jsdelivr.net/npm//vega-lite@4.8.1?noext\",\n",
       "      \"vega-embed\": \"https://cdn.jsdelivr.net/npm//vega-embed@6?noext\",\n",
       "    };\n",
       "\n",
       "    function loadScript(lib) {\n",
       "      return new Promise(function(resolve, reject) {\n",
       "        var s = document.createElement('script');\n",
       "        s.src = paths[lib];\n",
       "        s.async = true;\n",
       "        s.onload = () => resolve(paths[lib]);\n",
       "        s.onerror = () => reject(`Error loading script: ${paths[lib]}`);\n",
       "        document.getElementsByTagName(\"head\")[0].appendChild(s);\n",
       "      });\n",
       "    }\n",
       "\n",
       "    function showError(err) {\n",
       "      outputDiv.innerHTML = `<div class=\"error\" style=\"color:red;\">${err}</div>`;\n",
       "      throw err;\n",
       "    }\n",
       "\n",
       "    function displayChart(vegaEmbed) {\n",
       "      vegaEmbed(outputDiv, spec, embedOpt)\n",
       "        .catch(err => showError(`Javascript Error: ${err.message}<br>This usually means there's a typo in your chart specification. See the javascript console for the full traceback.`));\n",
       "    }\n",
       "\n",
       "    if(typeof define === \"function\" && define.amd) {\n",
       "      requirejs.config({paths});\n",
       "      require([\"vega-embed\"], displayChart, err => showError(`Error loading script: ${err.message}`));\n",
       "    } else if (typeof vegaEmbed === \"function\") {\n",
       "      displayChart(vegaEmbed);\n",
       "    } else {\n",
       "      loadScript(\"vega\")\n",
       "        .then(() => loadScript(\"vega-lite\"))\n",
       "        .then(() => loadScript(\"vega-embed\"))\n",
       "        .catch(showError)\n",
       "        .then(() => displayChart(vegaEmbed));\n",
       "    }\n",
       "  })({\"config\": {\"view\": {\"continuousWidth\": 400, \"continuousHeight\": 300}}, \"data\": {\"name\": \"data-a72a1603a4fe674271a471ec0496cdd0\"}, \"mark\": \"bar\", \"encoding\": {\"color\": {\"type\": \"nominal\", \"field\": \"team\", \"scale\": {\"scheme\": \"dark2\"}}, \"x\": {\"type\": \"quantitative\", \"field\": \"start\"}, \"x2\": {\"field\": \"end\"}, \"y\": {\"type\": \"nominal\", \"field\": \"person\", \"sort\": [\"team\"]}}, \"$schema\": \"https://vega.github.io/schema/vega-lite/v4.8.1.json\", \"datasets\": {\"data-a72a1603a4fe674271a471ec0496cdd0\": [{\"start\": 7758, \"end\": 7963, \"person\": \"Svetlana Semenova\", \"voice\": \"So our goal for previous weeks for to analyze all the data and come up with several hypothesis that we can test. and discusses new way about the research and the projects and APP doing research for you, for publications the duration other sources explore current solutions that I exist on the market. ended our pov and if i'm authority authority, and so, in the end we have come up with these big statement so Robert who is 29 works as a caregiver. manage four to six patients each from 60 to 90 years old, needs a way to alleviate some of the pressure from trying to remember the timing move which medication for each patient and have access to useful information. So we have come up. With several solutions for the problems that we had and we asked we conducted interviews again and we asked each of our. interviewee to create solutions and we provided from zero to 10 so we've come up with those. marks and we decided to eliminate those who are under eight so we've covered so yeah we. need to do notification system also educational components and we also would like to provide a barcode and probably a bracelet it comes with a barcode. yeah we blend into use these technologies so our framework would be rare need to programming languages javascript and ids visual studio code for ux ui design, we will be using Sigma and for 3D modeling blender. And we also have come up with a blend of monetization maybe till the data that we did it goes we. thought that it would be helpful so for the extra price we can offer additional physical products such as bracelet and we can also offer a free trial trial period for one month. We can also add some daily or weekly reports and yeah into everything will go with a monthly subscription so if you're subscribed, and you have important maybe physical products. yeah, we can also offer a delayed payment and charity organization, probably, which helps for patients. And caregivers. don't really have enough resources to buy our product. Yes, so our plan of action for the next two weeks would be to design the interface to design the bracelet. define the use cases of the user, so we can create a use case diagram to end to find content for the educational part yeah and we've separated a workload for each of them team Member yeah so that said.\", \"team\": \"Convallis\", \"duration\": 205}, {\"start\": 6684, \"end\": 7073, \"person\": \"Reshma\", \"voice\": \"Can you just move to that next line yeah so we basically the the medical research part regarding long cord so long car, it is not when can we call something as long. As when the symptoms of code versus appear more even after four weeks of the first onset of board 90 so that's when we call it long code. And there's a wide range of symptoms from respiratory symptoms to neurological symptoms, so the main major symptoms that we see are fatigue. And shortness of breath and cognitive dysfunction So these are the three major symptoms PC and but other than that there are a lot of small symptoms like hair loss and things like that. We go to the next slide. yeah and the possible causes of long code. Since it's a very new thing researchers are still going on, regarding this, but there have been some possibilities that the researchers have suggested is that there's permanent fiber optic armory changes occurring in the lungs, so this could be one reason and another reason could be. For the heart patients are developing any cardiology codes in terms of that myocardial changes for permanent changes are occurring. Such as persistent myocarditis that could be another reason and again another possibility is that possibility of developing auto antibodies So these are auto antibodies are fighting against our. system, so these could be the reasons and. The possible risk factors. it's The main reason the main risk factors at one stage, so people over 70 years are seen to develop more symptoms compared to young patients, then. Pre existing conditions like. Any diabetes, or any other diseases, these could add to the scene and then viral load so in the initial weeks of. code 90 when a person is infected if they have a higher viral load, this could be a reason for the person to dial up long cord and females are seem to have. To develop long call it TAO chance of developing log or 10 meals, then I experiencing more than five in terms of the first weeks of illness, this is another reason. Any pain when any patient Dallas more than five symptoms, in the first week of illness, the person could develop have a higher chance of developing logo. Next name. yeah so the diagnosing the long corridor, so the diagnosis is based on the different systems that are affected so for someone with a pre existing dimittis condition the diagnosing off, it would be different from someone else who has maybe COPD so. Basically, depends on the pre existing conditions and other than that mainly it's the. chest X Ray and sometimes a CT scan all these other major diagnostic tools, so in our platform also, we would like to. When we download the platform, we are thinking of developing, something in which we can share the. The doctors can share the X rays and. CT scans and all that. Next slide. yeah, these are all the desk could you go to the next, please. yeah. So, as I said earlier, like a competent comprehensive evaluation as needed. like to note. to predict accurate diagnosis. The next slide. yeah and interdisciplinary crossover so mainly it's neurology cardiology and phonology, these are the main speciality, is that we are trying to incorporate. yeah and that's I carefully also comes into play with regard to long covered. Next slide please. Yes, how long does the condition of long college last so studies are still going on and there's no definite answer to this question, but it could, but the studies prove that could go up to even a year or more than that. Next slide. yeah and. The the PR the patients who have been vaccinated have a much lesser chance of developing post forward. Some purpose coordinating syndrome. Next slide. yeah long covered treatment it's also mainly depending on the type of. Depending on the systems that are affected so and it's also symptomatic treatment that's given so for each individual the interdisciplinary therapy has needed. It depends on the pre existing condition, as well as the security of the code episode. So some of the methods of long code rehabilitation are given our spirit with physiotherapy physical training physical measures to go directly psycho education neurological nationals. Next slide. Now that's basically.\", \"team\": \"Covid Warrior\", \"duration\": 389}, {\"start\": 6498, \"end\": 6682, \"person\": \"Elisa Julia\", \"voice\": \"Yes, so we are the colored wires and yeah, so this is our the presentation over a second sprint and the first thing I wanted to mention is what we're actually trying to do. So we've had some meetings within ourselves, and also with the health of future and we. define a bit more our challenge, and we will or at this, we will try, but the challenge is to develop a plugin to allow live virtual consultation directly from the platform between the patient and the doctors. And these should be video, so this is also we refined it after our meeting with me philomena, so this is already getting feedback. So the communication should be spontaneous and the direction also lives. The there's a lot of data generated during the console which also should be included in the patient sales, so there must be a communication between the plugin are our extension and the platform. Doctors can proposals from the calendar, and this is a proposal that philomena and made and which was to integrated with Dr live, which is what they're doing right now, until we don't plan to create a new calendar just to allow them to do it directly with have to live. And and yeah so as a fan point is, we are not really mainly because of time restrictions, we are won't be working on. Regulatory we won't be really focusing on that of course we'll take a look at that, but mainly data protection, and we are some other topics may not be covered to what we are trying to achieve is just a functional plugin that allows the visual presentation. Okay, then what we did during this sprint we did the clinical research in a second rational will give it some some of the summaries. And we had a first meeting with philomena which was really helpful because we define everything that we wanted to, or at least the first questions that we had. We talked about what she was interested in what are some ideas that we thought of but we're actually not very interesting and we started creating also our report to structure some ideas. And then we are still working on a first project with family with health future, so this is also something I think will always be in progress. We got the approval from philomena to create an account to get to know the platform as a patient so that's something that we're doing at the moment. We are also doing market research and technology news so in the next sprint will be focusing mainly on these two on market research and technology. We are basically trying to find what technologies are available, but it would be also easier for us because we don't have that much experience with these type of technologies. Then there's my can you explain the refining. yeah.\", \"team\": \"Covid Warrior\", \"duration\": 184}, {\"start\": 3372, \"end\": 4319, \"person\": \"Saurabh Swaroop\\u2019s iPad\", \"voice\": \"Oh OK OK OK sha sha slowly, and I would repeat them, I would repeat, for I think. The third question, I will start from third question, so our third question asked, would you be live in having suggestions or solutions from our system. aimed towards the address will have negative or bother some emotional state in real time, what does it exactly mean, let me elaborate a little bit, for example, so again, if you are using our system. And if you are very know a headband if you're using our system and you're working right now. you're doing an activity, and right now in the air time you're feeling stressed or anxious and our system detects that you are she is. And it not just notifies you, but the same time it's suggest you solutions to that does the thing in real time right now. Of example like take a little wake tech, you might take a little break slowly on or you might drink a glass of water when they asked for five minutes can take a few deep breaths. And yeah likewise so this kind of the address the suggestions in real time and in answer to that what we received 50% around 50% of the people like they had an emphatic yes Okay, they would like to have. With this mechanism in real time, but other 50% were were towards they would like to have suggestions, but not in but probably not in real time, because if you're already angry or you're already staged and. someone says to you Okay, you are stressed and do this do this do this, then it might be it might not be very good idea in theory time it can make you even more anxious many times so. And so those 50% who are inclined towards know they were like Okay, they they might they would like to have the test. leaders will saturations but probably not in right now, but maybe after some time, maybe tomorrow, maybe day after tomorrow. And that that time, they would be able to appreciate the solutions better Okay, so this desert was better reflected this opinion of this was better reflected in the research of the ocean for to have a question was. Whether you would like to have suggestions or advice on our search term to the tourists negative or borders and emotional state in this perspective. What does that exactly mean the flow the and you have been suppose you have been using our systems and Spanish have one week or a few days for. How many hours a day, as per your convenience and it has recorded or it their stamp your emotional state for the past few days, and it is making you sedation now that okay Florian since a few days. We have detected that you have been feeling discouraged. Anxious or angry between 12pm to 4pm since a few days so maybe you can just take a small dates everyone are. You can take five minutes or 10 Minutes be great after every one hour or you can drink some water, you can do some deep breathing you can do some this little little little yoga exercises and. Or maybe you can talk to someone you Maybe you can talk to someone about the thing which is bothering you may be a friend. If. If if it is Moses, maybe to a. therapist or someone so in response to this question. Around more even more people around 80% of the people had an. Impact pks at Okay, yes, they would like to have a drizzle suggestions, if the suggestion tells them about improving their emotional states that have been recorded in the spectrum in the posh posh days or past week, because they would be able to better appreciate the suggestions now. Okay, and the other 20% of people who were like they don't really care. They will they will more mobile phone home those population who were not even interested in knowing the emotional state in the first place, and this this population this. No one's that population was more coinciding with that population, which had never used or had no not much exposure to the idea of using. Any smartwatch is any devices to take the body function parameters okay so yeah let's move to our next question which is, which was question five so by the time we completed our question for our idea of a basic idea or concept our system was almost fully clear. To the audience to the service objects so as we move to question five the question for five was do you think our system. would be beneficial in the acting emotionally state or monitoring the mental health of mentally ill people who have been diagnosed with who have already been diagnosed with mental health issues, for example, clinical depression or bipolar disorders or skis of PENA. Or the knowledge is diagnosed, maybe they have already been going through treatment or already failed to treatment or already discharged from mental health facilities after treatment. So those people might require more super supervision by by the relatives or by the adopters and there's one more important factor about. This thing with mental health mentally ill people that the suicide rates is significantly higher among mentally ill people. Okay, so, in response to our equation, however, there was no person of this category of mentally ill people category in our in our sample size but, as per their opinion, these people who are not mentally ill, apparently. They had an emphatic yes to our question, all of them, emphatically, all of them faith that our search term could surely be very beneficial. To the supervision and molly emotional health monitoring of mentally ill people, some of them had relatives or friends who had been diagnosed with mental health problems. And they had seen them close enough how their life was going and how much important there supervision and monitoring was yeah and. Among our sample size, there were five out of 50 there were five. medical professionals medical professionals to or some of them at some point of time have dealt with. Mental health also and they were able to give us better insights to. We are thankful to them okay so then we move on to our last question and. The last question was about. Whether whether you are. favorable towards using a headband all the time, a headband all the time to record your EG waves. To track your emotional system deeply So the answer to this thing was a little bit tricky and it was laden with a lots of feedback Okay, let me. Let me start collaborating it 20% of the people had absolutely no problem with fearing a headband, even if they required to fear it. Most of the time they these were mostly those people who have been who have been using smart watches, since a long time now, since many years now, and they. They understand the benefits and they have been using the benefits of smart watches, so they can better appreciate the potential benefits of our system so 20% of these people were had an emphatic years that they would be willing to use a headband. All the time whatever time it requires but other 80% who were who did not have an imperative as. An older adult one fourth of them had some water strong, though, but others had equivocal opinion neither strong no neither is strong, yes. And they were more like that, if you could modify a headband towards towards a CAP towards a hat or the towards a hair band which which females usually use. They would be very willing to use them, they would be very willing to use them and, and if you could just make it more compact. Not just a headband but just a few leads near to just above your ears actually search devices are also available it's not that we would need a new invention and headband easy devices are also already available. So if if the our device had. easy to connecting devices more compact, they would be more willing to use it more more of the time, so this will also among the 80% of people who did not have an imperative, yes, so. To give an overall conclusion of our survey Florian. We would be would be happy, saying that we had a positive response and we've got a motivation to move ahead on our idea but okay before elaborating on that, I would like to show some feedback which we received. From our service objects. First of all, our our APP our system. Was novel to know was novel to them, and some of them had only seen them in SCI fi movies. That written some novels but but Davis men very much excited to see a possibility of it in their life and a few of us are a few of the subjects believe that more than more than normal people are mentally mentally sick patients who have been diagnosed with mental illness. They could be more targeted towards them. And some of the people. As some of the people were just not interested in knowing the emotional level like they simply did not care there's some people will also the Burton these people were. Mostly among that sexual operation which had never used. Any smartwatch or they have a they had never seen any closed ones, using any smart watch any smart device device taking the party function parameters. To try some important feedbacks where the flow yeah they suggested that we can in the later on, we can modify our system to be also targeted towards. middle aged people who are suffering from lifestyle diseases such as hypertension, because lifestyle diseases are also. Very much coordinated and linked to the emotional states, those who are suffering from anger issues, though those are suffering from anxiety, they have been shown. To have high incidence rates of hypertension and other lifestyle disease so later on in future, we might have a focused towards them and. On. The apart, apart from that, the overwhelming feedback was was towards taking the step to make our headband headband more compact more compact or more blending towards the normal us like blending it in a cab or in a head. In our CAP or in a hat or in here band it's females us so that they will be able to use it in the outdoors to well doing the other activities so. Overall flow yeah I would. I would like to say that we got a largely positive response and it gave us enough motivation to move forward with our idea and. So what we are planning ahead is to. Have so so basically steps basically steps which we which I would like to enumerate. We should take forward ahead is. We should test we should test with the basic premise of our idea with an easy with a portable EG device that is a headband. Which is as of now, which is as of now, not available in the lab of ECU of power ECR I have already visited our lab and we checked all the. instruments already available, but as of now, it is not yet available there, however, we check the prices and all it was not not very costly fortunately so. Once we once we have our we once we have that device, we can move on. With. starting the testing is starting the testing on volunteers subjects and really relating it with the EG with the ej study with the emotional data, and we would be Designing an APP which will be which will be analyzing the ej study of the person. With the emotional state and giving them the desert and, accordingly, giving them suggestions to what they should do in real time. According to passion to improve their emotional state, so we know Florian this is to make it fully commercial fully commercial. This could become a very large project to be implement implemented by a very big corporation, but our aim initially is to make it. At the scale of a PLC a proof of concept to make it function, make it functional at a very basic right now, here, and I think. I think we have a strong belief that you would be able to do so and we have enough skills and opportunities to do so, too, and this idea, this basic concept has a very long way to go, in future, we believe, so floria and yeah so so now we're open to your questions and your feedback.\", \"team\": \"Deep Divers\", \"duration\": 947}, {\"start\": 2513, \"end\": 2994, \"person\": \"Saurabh Swaroop\\u2019s iPad\", \"voice\": \"yeah so I Florian so in our last session. And, before that, in the initial session we started with what our basic plan was what our basic idea was so, in short, the basic idea was to. was to do an emotional tracking was to create a system to track emotions that emotions and give the user, an idea. Of what the emotional State currently is and what the emotional state was in the spectrum okay to make things more clear to make things more clear okay first, first of all, let me first English, what we are going to present today. First, we are, we are going to present our idea with little bit more clarity and, second, of all and, second, we are going to present our survey results survey results in detail and the feedback we have got from the from our survey and what we are planning as immediate step. Currently, so. To make our idea more clear what concept we have and what we are working on okay let's start with. I think every one of us have used a smartwatch some time or the other, or we have seen someone using a smartwatch. The what is smart smart watch basically tracks a smartwatch tracks your heart rate I smartwatch tracks your number of steps you have covered. In today or the large day or in the previous week it says it monitors how much calories you have burned today or yesterday, or in the last week or how much you have slept in in the current are in the spectrum so on the lines of that our device or our system. aims to tap the emotional state of the user, both in the current in the vr type, as well as over the past day or over the last week okay so on this, this is our basic concept and on the lines of this we move ahead with the ocean and our survey, so, in total, we serve it around. We serve it around have 50 people and before that we created a detailed questionnaire so once once i'm done to the questionnaire once i'm done to explaining the. concept of basic idea will be more clear to you all okay so let's start with the questionnaire now, so the first question we asked. Our subjects our service objects was, would you be interested in knowing your emotional condition in theory time in moment whether you're feeling stressed or anxious or excited you're in low mood. Now you're feeling emotional breakdown, are you calm you down the aisle sluggish you hyperactive bold any emotional condition in the time. And the second question was, would you be interested in knowing your emotional condition in the to spread over the parody with the past week or any space, so all ne specified period of time during the previous days. So first question was about in real time second question was about in the respective that third question was, would you be interested in. in real time solutions in real science is a time idolize that our session would give to you for this for this all being negative or bothersome emotional states. In theory, time to be interested in the theory time solution that you would be receiving from our system to dissolve that bothers them or negative emotional states and our fourth question was. Would you be interested in the solution for dissolving negative or bothersome emotional states in the prospect in the past, I mean. I mean the our system would have detected your emotion would have grabbed your emotions over the past days or bi weekly and would be suggesting solutions to dissolve that now. The they will they will take your emotions or the week and for any negative or bothers me state they would be suggesting solutions, now it not in the VI time the fourth question was about to spread. The fifth question was to be do you believe our emotional tracking system and the desert and possible solution given mechanism could be beneficial to mentally ill people. Sites, would you be willing to be a headband or EG device to take your emotions, as part of our system Okay, so I hope our basic concept is a little bit more clear to you right now what we're actually planning to do we actually planning to track the emotional shade of people by. By promoting them to wear a headband link to our system and our headband would detect the easy and the EG waves in real time and also over the past week or past days whenever they will that headband and those EG waves he EG studies of. their brains would be analyzed to give out the emotional state. yeah so let's move ahead without the district of our survey. Okay, so. We had the total participants 50. And we have three TEAM members, and we all tried to reach out to as much as people as possible and out of our total number of participants, it is today about 32 males and females. yeah so let's move on to the idea, the age group, our of our survey population was between 20 years to 25 years of age, so our target of target look was pretty young people as yet okay let's move on to the next slide. Okay, so the desert of our first survey is October 1 survey, the first question, the first question, which was would they be interested in knowing the own emotional state in 09. It came out to be what 6040 60% of the people were like K yeah they would like to they would like to, and they would be interested in know in they would be interested in knowing the. chili 40% of the people would be interested in knowing their emotional state in real time. But there is a catch here, which will be which i'll be able to explain with dancers, have further questions 40% of the people were. Directly they were saying that yeah they would want to do their emotional state in theory time yeah but the 60% were little bit apprehensive. With doubtful whether they would like to know your emotional state at the time, because they say Okay, we already know whether what we are feeling like now, but they will not unequivocal. They were like 50% of people were like Okay, they might they might not. So we moved out with the second question, and with further questions their opinions became more clear it came with more clarity so. that the second question.\", \"team\": \"Deep Divers\", \"duration\": 481}, {\"start\": 3065, \"end\": 3352, \"person\": \"Saurabh Swaroop\\u2019s iPad\", \"voice\": \"yeah I totally understand yeah so while explaining it here to explain at every step what question one means what Christian to means okay yeah Okay, let me start from the beginning about the findings of our surveys OK. OK so for our question one for a question, one which was the weather, you would be like, would you be interested in knowing what your emotional state in theory time in real time, the answer was on. The answer was around 6040 around 60% of the people were like okay yeah they would be interested in knowing the emotional state in the theory time. They would be interested and 40% of the people were. Somewhat be vocal. They were like they they are not sure whether they would want to nobody was that Okay, they would not want to, but they were not sure they would want to if they would want to because. Most people already they were saying the 40% of the people were saying okay they're like already know what they're feeling in real time Okay, but. Their EP vocal answer would become clear with the with the answers of next questions OK so moving on to the question to the question was whether they would be interested in knowing the emotional state in the prospect like. Like Julian if you have been using this system, since a week or a few days, your emotional state would be recorded by our system. And it would be presented to you in forms of a chart or graph. yeah, and so the question was, would you be interested in knowing your emotional state in this perspective What was your emotional state yesterday or over the past week. How, you were feeling yesterday from 12pm to 2pm how are you how are you feeling on the previous webinars day from 6pm to 8pm so, would you be interested in knowing that. So the answer to this was a little bit more unequivocal towards yours was 70% of the people were like emphatic yes answers. Okay yeah they would be more interested to it snowing Yes, they would want to have an idea of their emotions in two steps. Because when when our system tells you that okay so yeah and you felt a little British test out yesterday from 12pm to do PM or last Wednesday from 6pm to 8pm. You would have an idea in your mind okay what I was doing that time Okay, maybe I wish I was thinking too much about my work or. Or maybe I was thinking too much about my my issues with my friends or my family during that time. So you can you will be able to correlate the activity you're doing the things we're thinking with your emotional state being shown by our system, so the 30% of the people which we're not sure about a yeses pawns in the question to. Most of the people for Question one question two who were towards inclined towards. The vocal or the notice ponds where those who have not already been exposed to an idea to the idea of using a smart device device to track. Their body parameters already this thing we have observed it those who have already used or they have seen the close ones, using a smartwatch. Smart was to track calories in a steps and other body parameters, they were more inclined towards the year sounds because they have been. exposed previously to tracking their body function parameters state monitoring devices. And so they were able to better comprehend what our system was actually aiming towards and what could be the result of that, and in what way would be it could be beneficial to them. Okay, so um the question the question three was our question was whether whether you would be interested in having a salvation from our system. A suggestion from our system to the address your negative or borders and emotional state in the time What this actually means brilliancy suppose, for example, you're using our system and. you're all you're doing something, and you are feeling. feeling anxious and.\", \"team\": \"Deep Divers\", \"duration\": 287}, {\"start\": 4420, \"end\": 4453, \"person\": \"Saurabh Swaroop\\u2019s iPad\", \"voice\": \"Okay yeah yeah that was part of our agenda today for. Our discussion our presentation. We like to move ahead with a request to you if we could talk to. pj device can our lab in his era cause to have to have our team Members, we are already infiltration and we did visit the lab last week and we talked to Danny the lab in charge, India, we went to all the available devices yet.\", \"team\": \"Deep Divers\", \"duration\": 33}, {\"start\": 4527, \"end\": 4583, \"person\": \"Naina\", \"voice\": \"yeah actually like Florian like when we have visited so it's like we have checked, most of the senses over there, the devices. But actually which we are requiring that was not existing there so thing is like Vietnam to the numerator so we told like if your project is a true you get a. lead from your supervisor so, then we can think about it, even if we have to go not so it's like. from you, before like if it is approved, then we can really go ahead with this so like, as you know, like we really have the limited time also until June and July, so we can put together all the sensors and devices and the top players is a spreadsheet and we can provide you. More can give our feedback and my freakin move ahead with this island if the university can provide a standard, and we can really start with the things.\", \"team\": \"Deep Divers\", \"duration\": 56}, {\"start\": 4715, \"end\": 4757, \"person\": \"Saurabh Swaroop\\u2019s iPad\", \"voice\": \"Okay, no, this was the slides, and yet the slide with questions I was talking about. Okay yeah so anyone that thing you pointed out videos is around out did you round up the survey results yeah we did round up because a few of the answers were unequivocal. A few of the answers on it people, so we did is owned up. The services a little bit and yeah So the question, we would like to ask you Julian. Apart from to clean the device and moving ahead with the device. What would you suggest, we should take an immediate next step.\", \"team\": \"Deep Divers\", \"duration\": 42}, {\"start\": 2219, \"end\": 2280, \"person\": \"Amelie Haas\", \"voice\": \"I mean that was the thing that dominic said last week it was like, why do we want to build an APP, why is it not something else and. So we went out into that direction, the last week two, and you know kind of did some brainstorming and thought of different approaches which will already also had an hour presentation. To basically just say Okay, can we can we can look at it from a scientific point of view and we don't actually get the users, but we we build an APP for scientists to contact users or two to get the data from there, or I don't know how. or can we just do like a middle we're where we say okay and we're just doing a whit whit just transferring data from Google and apple how to another scientific database. So you should Should we continue down that direction, what other approaches, we could go to also we actually go for. User base.\", \"team\": \"Hidden Layers\", \"duration\": 61}, {\"start\": 949, \"end\": 984, \"person\": \"Amelie Haas\", \"voice\": \"Basically, if i'm donating my data, my name is Emily 25 i'm from a rural area i'm not pregnant if if I were to donate my data I might not want that people know that my name is i'm going to 25. So we could change my name to I don't know motto, and my age to 28 and then it's not. Like. A certain age group that we're keeping me in which is my actual age group, because you probably know, this leap changes there with growing and aging.\", \"team\": \"Hidden Layers\", \"duration\": 35}, {\"start\": 861, \"end\": 944, \"person\": \"Amelie Haas\", \"voice\": \"So yeah basically what we did here is when we asked in our interviews in our participants we basically asked some some personal data, whether they're male or female, whether they live in our rural or urban area, so this is just where they where they. Are. So basically how how loud or unreadiness really. Maybe that can have an impact on sleep for quite likely to have an impact on sleep, then we asked if they have wearables used to know. Whether they were a during the night or notch and if provided was that question where we If science, was able to provide a variable for you, would you wear it. So you provided with 25%. Then we asked something about data protection so in order to keep that data valid and significant which we talked about with Julia. We asked if it were Okay, for them to just change the name and age so change the eight within a different within a certain age group to actually keep a comparable but change the personal data, a little bit, but not fully anonymize it defined yeah just.\", \"team\": \"Hidden Layers\", \"duration\": 83}, {\"start\": 798, \"end\": 823, \"person\": \"Edina Larios\", \"voice\": \"yeah right here, essentially, we just arrived again to the usual we have questions for you as well, and in this crumb. We have a question to you furious, but this is probably something what we can then, and we should probably manage in a breakout room or something later on, perhaps, and then later on and museum rights, we will also have some technical related or tech yeah ah.\", \"team\": \"Hidden Layers\", \"duration\": 25}, {\"start\": 744, \"end\": 790, \"person\": \"Ledia Leka\", \"voice\": \"Okay, so this time I am. Now our steps are our plans for the next chrome we as modular said, are planning to conduct. participant interviews that next phase second phase, and then we were thinking about starting with first ui design ideas I just don't have our basic. basic idea of the APP or what are we trying to do, and the features that it is going to include also we. plan our idea eating of business model, and also how can specific data extracted from wearable databases, this is a research question that we're going to spend a lot of time researching the last step for the next round is to IDA IDA different approaches and their evaluation.\", \"team\": \"Hidden Layers\", \"duration\": 46}, {\"start\": 677, \"end\": 738, \"person\": \"Matilda Simon\", \"voice\": \"Oh, this one yeah. that's me. So yeah for the next scrub we are planning to start conceptualizing how our next round of interviews will go probably some more specific demographic. Perhaps going further with the pregnant women, as well as to analyze any incoming data we have in the form of coding and review and qualitative interview data and further analyzing any Moxley data that we have already acquired. And second we plan to venture a few different approaches to how the product will be utilized in either a consumer scientific or a generic sense. And we will continue to look at and compare profit versus nonprofit models and think about how we will incentivize all potential stakeholders. And lastly, we will continue to research, what type of data is needed or lacking in sleep research and how the different data types are available for the consumer from each current wearable on the market and how they differ from each other. Thank you for that we we do next.\", \"team\": \"Hidden Layers\", \"duration\": 61}, {\"start\": 535, \"end\": 676, \"person\": \"Amelie Haas\", \"voice\": \"yeah that's me bear with leak into through sleep statistics again, well, we found out last week that about it, or that 80% of pregnant women experienced some form of tanya. which we took as incentive to actually talk to her three of my friends who are pregnant, at the moment, and my neighbor who's in the wife. and actually asked them do you especially, especially now have problems with sleep in your pregnancy. And with my neighbor a midwife, we also talk or I also talked to her and was like okay what what's your experience on that and, interestingly two out of the three seed, they have really intensive dreams which they didn't have before, for example, and that they need a lot of sleep. And yes, this is all. you're influenced and called upon by their pregnancy, so the pregnancy is actually reason for some kind of sleeping problems, all three of them say that they they are usually good sleepers so. insomnia, or something like that is not a problem for them, but just in general they need at least nine hours of sleep a day. And one girl sleeps at night because she doesn't have to get up in the morning and another one says she's so tired in the afternoon, she sleeps at least one hour in the afternoon. But also, even though she used to be a night owl and don't look dumb third and like to get up in the morning, she now get wakes up at five between five and six, eight and can't go back to sleep. So, since they all didn't really have like insomnia, and see problems they didn't win relative right people to ask how those could be solved and how they think that could be resolved. But they all three of them thought that pregnant women would be really, really willing to donate a data, because it might actually help. Science and improving the pregnancy care as well. And then I think i'm going to hand over to Mattel yeah. I think it's me.\", \"team\": \"Hidden Layers\", \"duration\": 141}, {\"start\": 450, \"end\": 531, \"person\": \"Yamuna Bandaru\", \"voice\": \"Okay Good morning, this is a webinar we have done some brainstorming exercise on business ideas like. With the APP we can offer one feature like sleep tracking fully for free, but we offer other features like fitness vitals etc, with some amount of payment. And the other one we thought is like if we want to motivate the users, we need to make them active in participation fulfilling service. So we plan to get coupons in exchange for filling service regularly and these coupons can be used as free monthly subscriptions. And finally, once we all know that consumers are often more histon to donate the data unless they know the exact uses of their data, so we want to design an additional future to maintain transparency, like consumer can have control and choose what data is being used for them. And coming to know networking, we are, we talked to we are waiting for the replace of sleep scientists be negotiating to fix an appointment with them and. We reached out to network of interested participants up to 22 persons and we analyze the results, as I didn't explain that's it for my son.\", \"team\": \"Hidden Layers\", \"duration\": 81}, {\"start\": 314, \"end\": 449, \"person\": \"Edina Larios\", \"voice\": \"So good morning and i'm going to start us off, we are the hidden layers shockingly, and this is our scoring points from the last two weeks. We still keeping this face because it's just that good on the American you jump on to the next slide Okay, so in the first part of representation we're going to talk a little bit about what we actually achieved in the last two weeks, just like last time. First i'm going to start us off that as dominic also. instructed we continued with the interviews We already have a couple of them in so we also started essentially analyzing those. which I am going to talk about in a second into a certain extent. And from product management side I also continued reviewing APP feedbacks or reading reviews essentially just to get a little bit of more fear to what the people want essentially American shortly jump on to the next slide and then we're going to come back to this one for you muna. Exactly so. The couple of answers what we already received from the first round of interviews from our own network already starts to show a certain pattern. This clearly is going to change as we go on as well with the more deeper layer questions, as it is, but this is already certainly something what we could start basing our possible solution later on how many, can I ask you to jump back to the previous one, thank you very much. So I said you already have the first round of interviews and the analysis of results, we are also flow and thank you again, very much for setting us up with. Your data scientists contacts and we already had an interview with Julia and we're waiting on are already in the process of arranging a schedule with the other two gentlemen. For some kind of appointment and then here, I am going to give over to your Mona and she's going to talk a little bit about. Business approach ideas, what we are exploring at the moment.\", \"team\": \"Hidden Layers\", \"duration\": 135}, {\"start\": 1982, \"end\": 2017, \"person\": \"Edina Larios\", \"voice\": \"We actually even considered this that for the APP we would have a section, which is like our our sleep wiki or something like that, where essentially with Ai we could have personalized. tips or advances or just information, like a news feed but personalized on that patient or on the participants. Information essentially what they given that i'm struggling with I don't know insomnia i'm pregnant whatever and then the I can sort out based on the information what to push as naturally to that participant.\", \"team\": \"Hidden Layers\", \"duration\": 35}, {\"start\": 1382, \"end\": 1409, \"person\": \"Amelie Haas\", \"voice\": \"yeah might be good, just before the midterm. Exactly. yeah so one more thing that I was thinking that I haven't actually pitch to the group yet, but for the extra I want to contact lunchtime medical. and see if they have some interesting insights as well, and they have an office here in New York, and so I might actually just swing by with a bike one day. Next, two weeks and see if they can be of any assistance to us.\", \"team\": \"Hidden Layers\", \"duration\": 27}, {\"start\": 1542, \"end\": 1563, \"person\": \"Edina Larios\", \"voice\": \"The Apps actually even has not. Software as medical device or application as medical device but it's still kind of has a recommendation that a the APP the accelerometer or whatever detected that you're you're kind of not reading what's going on, so somebody. might even if they are not categorized as a medical device they kind of already at least make a suggestion for this.\", \"team\": \"Hidden Layers\", \"duration\": 21}, {\"start\": 5589, \"end\": 6038, \"person\": \"OSARODION OHENZUWA\", \"voice\": \"Okay, so our group name impossible, is nothing. short. Of the sasquatch infection. So talked about inspiration, as with the hospitals clinics this slide is in pain, if you make it in this ratio, as the mosquitoes clinics could be the solution in your needs. and stick with us internist and physicians surgeons nurses patients. misled, if anything, the. slideshow. So our point of view. We we modified our points of view of time in the missing. it's missing Amina so our points of views and family physicians house Esther. need a way to accurately predict patients who have for ability of developing long covered right from the first day of clinical presentation in the hospital. And this is because it's significant proportion of fusco with patients to suffer from life debilitating could be related morbidity after acute treatment okay next slide please. And then, as original with much they were trying to define a clinical parameters or criteria for potential screen upgrading and also retrieve data from probably scientific articles and then the length of it websites. insolent this. Yes, okay we'll check that a business like pubmed Google scholar. And also, we reviewed case studies clinical case studies nuts and optimistic in this is OK, and then they also the water to organization and statistical reporting period 19 we also checked that's their business like. Okay, now we also had them Okay, and we conducted interview, and we asked him doctors is a house and some questions festival for the understood by the concepts in long covered. If there are any problems or issues arising from either the prevention, diagnosis, treatment or management of this condition and what areas of improvement, the clinic Al Qaeda would suggest in the aspect of non compete next question. We also ask them if they had any idea of puts on how these programs could be addressed, how we could not efficient at an increased risk of covered. And what's their opinion was a Baltistan a scoring system for prediction of long of it and also business and the commercial value and we realized that. The majority of them actually didn't know the concept called long long curve, it would say when patient had discovered. symptoms after treatment and they come back, they just treat the symptoms and when majority of them were open to the idea of. Having a scoring system that could help them easily know this patient right from the physio of presentation, if you have the clinic in covert states or not. So they can share their clinic appointment and then after waiter a lot of articles and literature reviews and also a withdrew make our case studies were able to isolate them six per click or parameters. Now we now we can start recording this image in patients with non covered the age of the patient, the agenda in number of symptoms, in the first week of diagnosis, the body mass index. The prayers of associated comorbidities and the vaccination status, this is also synonymous, is to to study conducted by them Swiss. institutes in Zurich and in which they developed a similar scoring system called packs but they usually be each the symptoms are tests we pray ish history of asthma and the Prince of co-morbidities so now, the first criteria at the age of the patient. me study conducted by should read i'll UK study published in 2021 say that patient 9% of 9.9% of patient how long can we delay is between 18 and 4049 years. 15.9% of patients, where is between 50 and 69 is way too into what we may be sent to flunk of efficient way is about 70 years. And this equivalent to mathematical ratio of one to 1.5 to two and there we go ahead and pitch in between it's you know 40 years with a quality score of one point. Those from 50 to 69 years were given a score 1.5 points, and those are both 70 years we scored two points based on this criteria, please emptiness late. And then the gender of the patient and why some studies reported our closest statistical significant significant difference in Jeddah among sufficient, but a study discovered a majority of this patient we said to be females. It disproportionately affected females, and then 14.9% of them were famous compared to what you're saying yeah and in fact the sense of meals had long coffee. And this corresponds to the ratio of 1.5 to one and so more like a being a female the risk will say to have increased by 50% and so female patient way to given this coven Point five points, whether they're male counterparts at what is called a single points nestle. The number of systems to the festival, this was a world most statistical significance significance in points and then about 10 symptoms. were isolated take almost symptoms and if a patient has five or more of these symptoms it's it's it's proteins is strong game and prognosis of having uncovered the range from fatigue headaches common symptoms, we have all heard about the cove Chesapeake Bay area so on. In the study conducted by cigarette i'll the odds ratio for each particular symptom predicting long covered bridge from one to for an average of 2.5 for females, while its range from 0.5 to 4.5 and average of seems similar average for meals. And Wendy Wendy odds ratio for patient having at least five of these symptoms, was it was calculated in this study its range from three to 5.5 an average of 4.3 females next slide please. Thank you, and its range from 2.5 to six on average of 4.25 million meals and taking both averages as your ratio in 2.5. Throughout the ratio of 4.3 who are fit ratio of one to 1.7 approximately one to two, so this states that's efficient having five or more symptoms. The risk of having local means increased 100% complete or somebody having less than five symptoms so they're giving you score one where does have you ever given this quote so next thing. And the body mass index. Most of this report that the trend that majority of this patient or how long of a good way overweight or obese having at least a body mass index of 25.0 kilograms per meter squared. In a study conducted by we give him a cut it all published in 2021 on on healthcare workers, and most of a 50 51% of lankov.\", \"team\": \"Impossible is Nothing\", \"duration\": 449}, {\"start\": 6039, \"end\": 6483, \"person\": \"OSARODION OHENZUWA\", \"voice\": \"How the BMI both students that point zero and this and the p value of 0.020. Which is statistically significant and so, hence patients will be a minus 3508 giving a score of one, why does above to a temporary zero be given a score two points nestle. Yes, the fifth clicker parameter was the presence of other comorbidities of. Two studies isolated that's the first study said in chronic embrace Richard disease, they 2.3% of patient our local. symptoms and had a history of respiratory disease are 4% of them had that two diabetes about three points of his head had his stroke high potential and the most common in women had history of mental illness prop to the to the in sickness in another study. Craig respiratory disease 9.5%. of them had have longer efficient heart disease, and then the p value of 0.007 which is, which is. Statistically significant, and this was observed in about one SEC more efficient so i'm looking at this, so hey, especially with no comorbidities were given a score of one. And then missions, having non respiratory comorbidities, for example, type to DM hypertension mentor in this were saying the score 1.5. Why patients suffering from chronic respiratory diseases like asthma chronic obstructive pulmonary disease obstructive sleep apnea syndromes with given a score two points and. yeah so okay next slide please and then Alaska anchor points, the first initial status in a study conducted by your balcony at all published recently about four weeks ago, which was reported a patient who had who had at least to complete it could be 19 vaccine disease. about what he did today no specifically by the type of coordinating by symbol, so they had a 41.9% decrease in the also have been known. to him only 9.9% of them actually had long could be compared to 14.6% of similar participants now fascinated I had no could be. So, looking at this ratio wise, it was a one to 1.5 so so we're able to do that, not having coordinating vaccine increases the chance of having long cookie by 50% so this means that vascular patient has got one on backseat efficient we scored 1.5 so this. is customary. For the edge, as I said before, just to recap it into 4949 years we give you one point 50 to 69 1.5 points above or equal to 72.4 the agenda females was called 1.5 points meals you single point. Number six in the face trick less i'm facing terms it's called the point and greater or equal to facing in terms it's called coupons looks like this. For the body mass index and people have been less than 10 5.0 kilograms per meter squared is called one points and those have been at least two and 510 kilograms per meter squared we scored two points. and praying so for our Karma with his absence of any comorbidities like any past in there, we give you one points and brains of non respiratory comorbidities. Including tied to DM high potential cardiac disease may that in is your kidney disease in isn't easy I put it on esoteric, and this was because. It was, it was not the phoenix are some studies discovered that people that have chronic kidney disease had an increased chance of having long covered why some studies disputed that so. And then Prince of chronic respiratory diseases, for example at smart, especially in chronicles for constructive pulmonary disease and obviously partner syndrome had two points. And then the last point first initial status, those are vaccinated taking at least to do this with quality points and those that are not completely fascinated are given 1.5 points. And now we use these criteria, as I said before they see this a Swiss scientists are Zurich and walked on this and then last year they probably realistic calculator that could help to estimate these what they worked on just four criteria each. Pretty number of sequence, in the first week and history of asthma and also the impressive immunoglobulin these are chemicals are miserable. And we discover that in order to make it more easy for some patients to us yeah so that is no it's just strictly for physicians and now item petition. As you can observe that all the scoring parameters have at least a score of 1.2 there's No zero points yeah so does it, so the minimum score achievable is actually six points and the maximum score achievable is 11 points and then use it using the scoring system and also. Trying to compare with what was released last year by histories institute's. Fishing scoring less than seven points were assigned the nordics nordics and value those heavy from seven to 7.5 points had my risk. And those as cause from a 3.5 we had the moderate risk of having long of it and those have been at least nine points Heidi see various coffee no coffee that most likely. yeah we're talking about we're talking briefly about the business model we plan to him in developing the mobile APP downloaded the mobile APP. which can be downloaded from Google play store for android users and also the apple store for iPhone users. And, thereby making this up not only accessible to physicians or healthcare workers, but also to curious patients who love to know the oreck scoring. system, as you can see the parameters anybody can actually use anybody that has covered can actually use these parameters, we can answer actually answer the questions on scholarship. Is practical yeah That would be a basic plan for non paying users and it will be attached to just three attempts or trails of the so the scoring system that will be for the basic plan which will be free in SF this. is for the premium plan, these are people that will be subscribers are decided paying customers and especially only limited as it can be for multiple operations. For those are not yet convinced of the usefulness of this APP will put a seven day free trial for them, and only limited access and I thought that they can decide if they're going to pay for this. association could either be weekly two years monthly several years yearly it's a years depending on individual diesel preference our APP is also open for commercial advertisement by brands and marketers as an admin so have riven nestle. yeah it's why references yeah listening. yeah misled. yeah Thank you it's like oh yeah this step is to design, it puts with a for the clinical application yeah i'm a Python. API could, thank you very much.\", \"team\": \"Impossible is Nothing\", \"duration\": 444}, {\"start\": 7491, \"end\": 7740, \"person\": \"Jubaida\", \"voice\": \"So this is our team met phoenix our challenges medication management. So this is the overview of our elastic activists like he did in the last week, like as previously, we also do research and other things so. The last week we did more interferes with professional caregivers and social workers who were actually non professional caregivers but also conducted more research on existing solution application and we analyzed existing medication management tools. And the outcome from our last week activities that we actually took interview form for people to have them were professional caregivers and two of them were non professional caregivers they were actually social. social workers so are the problems that told us that some patients will take medicine propel a sudden talks from people who have less memory. communication with the gold edge patients difficulty in dealing patient to disabilities and less memory and difficulty in dealing with emergency situation so. We also did maybe interviews previously and from all these, we decided to we have just came up into this says that we find out four main problems that. will be going either any one of these like for psychological part some people were. complaining about they were facing physical serious mental says so for the psychological particles caregiver suffer from mental stress and for educational part many people complain that there's like of information, knowledge, a potential solution and some caregivers don't. don't know about the medication at other stuff and for medication part can give us a feel for managing parameters of medication and. So many things and for sense of part some people so just just asked if we want to work on something, why not we work on sensor practical. caregivers want to know the body parameters for emergency need like the parameters of BP glucose monitoring and other things. Like they can get the information of their patients by they're staying at their home so something that can be helpful for knowing that parameters of the patients. And proposed solution that we think about for our problem. We can build an application so we did research on application, there are many kinds of application their web application native application hybrid application. So we are not yet decided which one we're going to do, and we don't know who you are up to us. And also, from your feedback we need that info website, we don't know about that, and we also thought about two bucks so from your question. island are the programming language, we want to use like the person in our team knows Python and are the ID we. know and we can use these are studio pie chart or our studio that data analytics or statistics part, we are not sure about we are we going to do the data analytics or statistics and for them. It would be great if we can keep it simple and we can keep it like Microsoft windows or android and the time, then I as our example station will be and on may six so. If we are going to build something that is from May to June 30. And we have some question for you, if it is so to create an APP which one of the system for us within these pure habit on it, but or waiver, or what else you can. You can suggest us for weight side of it, the recommendation and for sensor wearable do we have to build that sense of ourselves, our else. Thank you.\", \"team\": \"Med Phoenix\", \"duration\": 249}, {\"start\": 7110, \"end\": 7353, \"person\": \"Marian Esskaros\", \"voice\": \"Okay. So continuing of our last presentation about how to. prioritize our problems, we also and the psychology and mental health problem. But we didn't yeah we also voted for that so basically we have four main problems that we were a little bit stuck in the last minute to decide which problem should we go through or tackle because we contacted. yeah we tried to contact them and we have developers like sheila and stuff but we didn't receive a response, so we actually couldn't. make an appointment with her or within a week teams so. We just based ourself on our votes our mindsets to discuss which problem of this Rebecca a yeah and we agreed on this nice problem. So why we did not agree on other problems, because with an s tackling is a bit challenging and records professionals such as psychologist psychologist so the visibility aspect will not be. will not be. reached. In that problem regarding the other problem which had a high score that a lot of competitors markets are already in the problem of forget to give medications and it can also be solved by some alarm so. The vulnerability aspect will actually will not be reached, also in that. problem also regarding the lack of knowledge of medicines will require us to take all the knowledge from Google. Evaluating it making sure that it's accurate and put it into the APP so they don't have to go through 1000 pages on Facebook, so it can be a PhD product because we don't have much time in that yeah and. Why did we choose our problem, like. yeah what's our problem is to make a community for caregivers it's still like a Facebook or clubhouse or something like that. we're still in the beginning, we just defined the problem, so we don't actually have. A. point of view of it so. yeah also it's. Slightly easy to be implemented, as there are no much competitors in the market and that. We thought of a technical point of view, making a web based application for caregivers to share an ask for anything so they they actually can find the solution for other problems that we did not tackle like, for example, missing the medication and having mental problem. And also. Professionals like caregivers professionals like they are taking care of their. family member, they can also apply for this application as experts so. We can like have an option to ask an expert or something. yeah. Our next step would be to make a prototype for the Web based application and we did not get that answers the questions we wanted to ask for she knew because we didn't meet her. So we're still on on hold on that point. yeah but no but and Johnson once is Bella. Someone from our team. yeah.\", \"team\": \"Medicare\", \"duration\": 243}, {\"start\": 7356, \"end\": 7474, \"person\": \"Bella Ndaa\", \"voice\": \"Okay hi everyone, so I would like to answer perfect Professor the professor's questions on island for for the Ai and data analysis part. How would the data look like we're not sure, but it looks like it's going to be unstructured data i'm not sure for that one, the problem was answered programming language were using Python and ID most likely vs code. Time line we are looking realistically are about 200 hours, but again we're not looking at completely deployed web application, if we can reach a prototype with. usable functionality, that will be good. data analysis, yes, we will have data analysis in terms of analyzing the data from, for example, what features, the users would like to have in the APP and then for after building some type of prototype there will be data analysis of how. Like some type of feedback about the usability of the APP and the different features. And then. I think, does the part for Ai and data analysis I think i've answered all the different questions. For for the ui we are looking at. Something that is easier probably html and CSS i'm not sure, but see something that is easier to do and that could. Give results easily. And that's it, for my part, excellent. and\", \"team\": \"Medicare\", \"duration\": 118}]}}, {\"mode\": \"vega-lite\"});\n",
       "</script>"
      ],
      "text/plain": [
       "alt.Chart(...)"
      ]
     },
     "execution_count": 189,
     "metadata": {},
     "output_type": "execute_result"
    }
   ],
   "source": [
    "import altair as alt\n",
    "import datetime as dt\n",
    "import pandas as pd\n",
    "\n",
    "\n",
    "alt.renderers.enable('default')\n",
    "\n",
    "#data\n",
    "\n",
    "alt.Chart(df).mark_bar().encode(\n",
    "    x='start',\n",
    "    x2='end',\n",
    "    y=alt.Y('person', sort=['team']),\n",
    "    color=alt.Color('team', scale=alt.Scale(scheme='dark2'))\n",
    ")"
   ]
  },
  {
   "cell_type": "code",
   "execution_count": 190,
   "id": "cec9633a-7675-4428-88b8-a92d4e800424",
   "metadata": {},
   "outputs": [],
   "source": [
    "from moviepy.video.io.ffmpeg_tools import ffmpeg_extract_subclip"
   ]
  },
  {
   "cell_type": "code",
   "execution_count": 191,
   "id": "9b3d981b-ef6e-4c1f-83f1-3c4e4acad4e6",
   "metadata": {},
   "outputs": [
    {
     "name": "stdout",
     "output_type": "stream",
     "text": [
      "Moviepy - Running:\n",
      ">>> \"+ \" \".join(cmd)\n",
      "Moviepy - Command successful\n",
      "Moviepy - Running:\n",
      ">>> \"+ \" \".join(cmd)\n",
      "Moviepy - Command successful\n",
      "Moviepy - Running:\n",
      ">>> \"+ \" \".join(cmd)\n",
      "Moviepy - Command successful\n",
      "Moviepy - Running:\n",
      ">>> \"+ \" \".join(cmd)\n",
      "Moviepy - Command successful\n",
      "Moviepy - Running:\n",
      ">>> \"+ \" \".join(cmd)\n",
      "Moviepy - Command successful\n",
      "Moviepy - Running:\n",
      ">>> \"+ \" \".join(cmd)\n",
      "Moviepy - Command successful\n",
      "Moviepy - Running:\n",
      ">>> \"+ \" \".join(cmd)\n",
      "Moviepy - Command successful\n",
      "Moviepy - Running:\n",
      ">>> \"+ \" \".join(cmd)\n",
      "Moviepy - Command successful\n",
      "Moviepy - Running:\n",
      ">>> \"+ \" \".join(cmd)\n",
      "Moviepy - Command successful\n",
      "Moviepy - Running:\n",
      ">>> \"+ \" \".join(cmd)\n",
      "Moviepy - Command successful\n",
      "Moviepy - Running:\n",
      ">>> \"+ \" \".join(cmd)\n",
      "Moviepy - Command successful\n",
      "Moviepy - Running:\n",
      ">>> \"+ \" \".join(cmd)\n",
      "Moviepy - Command successful\n",
      "Moviepy - Running:\n",
      ">>> \"+ \" \".join(cmd)\n",
      "Moviepy - Command successful\n",
      "Moviepy - Running:\n",
      ">>> \"+ \" \".join(cmd)\n",
      "Moviepy - Command successful\n",
      "Moviepy - Running:\n",
      ">>> \"+ \" \".join(cmd)\n",
      "Moviepy - Command successful\n",
      "Moviepy - Running:\n",
      ">>> \"+ \" \".join(cmd)\n",
      "Moviepy - Command successful\n",
      "Moviepy - Running:\n",
      ">>> \"+ \" \".join(cmd)\n",
      "Moviepy - Command successful\n",
      "Moviepy - Running:\n",
      ">>> \"+ \" \".join(cmd)\n",
      "Moviepy - Command successful\n",
      "Moviepy - Running:\n",
      ">>> \"+ \" \".join(cmd)\n",
      "Moviepy - Command successful\n",
      "Moviepy - Running:\n",
      ">>> \"+ \" \".join(cmd)\n",
      "Moviepy - Command successful\n",
      "Moviepy - Running:\n",
      ">>> \"+ \" \".join(cmd)\n",
      "Moviepy - Command successful\n",
      "Moviepy - Running:\n",
      ">>> \"+ \" \".join(cmd)\n",
      "Moviepy - Command successful\n",
      "Moviepy - Running:\n",
      ">>> \"+ \" \".join(cmd)\n",
      "Moviepy - Command successful\n",
      "Moviepy - Running:\n",
      ">>> \"+ \" \".join(cmd)\n",
      "Moviepy - Command successful\n",
      "Moviepy - Running:\n",
      ">>> \"+ \" \".join(cmd)\n",
      "Moviepy - Command successful\n",
      "Moviepy - Running:\n",
      ">>> \"+ \" \".join(cmd)\n",
      "Moviepy - Command successful\n"
     ]
    }
   ],
   "source": [
    "\n",
    "for row in list(df.to_records()):\n",
    "    _,start, end,_, voice, team, duration = row\n",
    "    \n",
    "    ffmpeg_extract_subclip(filename, float(start), float(end), targetname=str(start)+'_'+str(team)+'.mp4')\n",
    "    "
   ]
  },
  {
   "cell_type": "code",
   "execution_count": null,
   "id": "7dce97bc-d035-40ba-abbd-641da0f5c990",
   "metadata": {},
   "outputs": [],
   "source": []
  },
  {
   "cell_type": "code",
   "execution_count": 213,
   "id": "a1ffbea0-6e1c-4138-8eba-a6202d03de67",
   "metadata": {},
   "outputs": [
    {
     "name": "stdout",
     "output_type": "stream",
     "text": [
      "| team                  | voice                                                                                                                                                                                                                                                                                                                                                                                                                                                                                                                                                                                                                                                                                                                                                                                                                                                                                                                                                                                                                                                                                                                                                                                                                                                                                                                                                                                                                                                                                                                                                                                                                                                                                                                                                                                                                                                                                                                                                                                                                                                                                                                                                                                                                                                                                                                                                                                                                                                                                                                                                                                                                                                                                                                                                                                                                                                                                                                                                                                                                                                                                                                                                                                                                                                                                                                                                                                                                                                                                                                                                                                                                                                                                                                                                                                                                                                                                                                                                                                                                                                                                                                                                                                                                                                                                                                                                                                                                                                                                                                                                                                                                                                                                                                                                                                                                                                                                                                                                                                                                                                                                                                                                                                                                                                                                                                                                                                                                                                                                                                                                                                                                                                                                                                                                                                                                                                                                                                                                                                                                                                                                                                                                                                                                                                                                                                                                                                                                                                                                                                                                                                                                                                                                                                                                                                                                                                                                                                                                                                                                                                                                                                                                                                                                                                                                                                                                                                                                                                                                                                                                                                                                                                                                                                                                                                                                                                                                                                                                                                                                                                                                                                                                                                                                                                                                                                                                                                                                                                                                                                                                                                                                                                                                                                                                                                                                                                                                                                                                                                                                                                                                                                                                                                                                                                                                                                                                                                                                                                                                                                                                                                                                                                                                                                                                                                                                                                                                                                                                                                                                                                                                                                                                                                                                                                                                                                                                                                                                                                                                                                                                                                                                                                                                                                                                                                                                                                                                                                                                                                                                                                                                                                                                                                                                                                                                                                                                                                                                                                                                                                                                                                                                                                                                                                                                                                                                                                                                                                                                                                                                                                                                                                                                                                                                                                                                                                                                                                                                                                                                                                                                                                                                                                                                                                                                                                                                                                                                                                                                                                                                                                                                                                                                                                                                                                                                                                                                                                                                                                                                                                                                                                                                                                                                                                                                                                                                                                                                                                                                                                                                                                                                                                                                                                                                                                                                                                                                                                                                                                                                                                                                                                                                                                                                                                                                                                                                                                                                                                                                                                                                                                                                                                                                                                                                                                                                                                                                                                                                                                                                                                                                                                                                                                                                                                                                                                                                                                                                                                                                                                                                                                                                                                                                                                                                                                                                                                                                                                                                                                                                                                                                                                                                                                                                                                                                                                                                                                                                                                                                                                                                                                                                                                                                                                                                                                                                                                                                                                                                                                                                                                                                                                                                                                                                                                                                                                                                                                                                                                                                                                                                                                                                                                                                                                                                                                                                                                                                                                                                                                                                                                                                                                                                                                                                                                                                                                                                                                                                                                                                                                                                                                                                                                                                                                                                                                                                                                                                                                                                                                                                                                                                                                                                                                                                                                                                                                                                                                                                                                                                                                                                                                                                                                                                                                                                                                                                                                                                                                                                                                                                                                                                                                                                                                                                                                                                                                                                                                                                                                                                                                                                                                                                                                                                                                                                                                                                                                                                                                                                                                                                                                                                                                                                                                                                                                                                                                                                                                                                                                                                                                                                                                                                                                                                                                                                                                                                                                                                                                                                                                                                                                                                                                                                                                                                                                                                                                                                                                                                                                                                                                                                                                                                                                                                                                                                                                                                                                                                                                                                                                                                                                                                                                                                                                                                                                                                                                                                                                                                                                                                                                                            |\n",
      "|:----------------------|:-----------------------------------------------------------------------------------------------------------------------------------------------------------------------------------------------------------------------------------------------------------------------------------------------------------------------------------------------------------------------------------------------------------------------------------------------------------------------------------------------------------------------------------------------------------------------------------------------------------------------------------------------------------------------------------------------------------------------------------------------------------------------------------------------------------------------------------------------------------------------------------------------------------------------------------------------------------------------------------------------------------------------------------------------------------------------------------------------------------------------------------------------------------------------------------------------------------------------------------------------------------------------------------------------------------------------------------------------------------------------------------------------------------------------------------------------------------------------------------------------------------------------------------------------------------------------------------------------------------------------------------------------------------------------------------------------------------------------------------------------------------------------------------------------------------------------------------------------------------------------------------------------------------------------------------------------------------------------------------------------------------------------------------------------------------------------------------------------------------------------------------------------------------------------------------------------------------------------------------------------------------------------------------------------------------------------------------------------------------------------------------------------------------------------------------------------------------------------------------------------------------------------------------------------------------------------------------------------------------------------------------------------------------------------------------------------------------------------------------------------------------------------------------------------------------------------------------------------------------------------------------------------------------------------------------------------------------------------------------------------------------------------------------------------------------------------------------------------------------------------------------------------------------------------------------------------------------------------------------------------------------------------------------------------------------------------------------------------------------------------------------------------------------------------------------------------------------------------------------------------------------------------------------------------------------------------------------------------------------------------------------------------------------------------------------------------------------------------------------------------------------------------------------------------------------------------------------------------------------------------------------------------------------------------------------------------------------------------------------------------------------------------------------------------------------------------------------------------------------------------------------------------------------------------------------------------------------------------------------------------------------------------------------------------------------------------------------------------------------------------------------------------------------------------------------------------------------------------------------------------------------------------------------------------------------------------------------------------------------------------------------------------------------------------------------------------------------------------------------------------------------------------------------------------------------------------------------------------------------------------------------------------------------------------------------------------------------------------------------------------------------------------------------------------------------------------------------------------------------------------------------------------------------------------------------------------------------------------------------------------------------------------------------------------------------------------------------------------------------------------------------------------------------------------------------------------------------------------------------------------------------------------------------------------------------------------------------------------------------------------------------------------------------------------------------------------------------------------------------------------------------------------------------------------------------------------------------------------------------------------------------------------------------------------------------------------------------------------------------------------------------------------------------------------------------------------------------------------------------------------------------------------------------------------------------------------------------------------------------------------------------------------------------------------------------------------------------------------------------------------------------------------------------------------------------------------------------------------------------------------------------------------------------------------------------------------------------------------------------------------------------------------------------------------------------------------------------------------------------------------------------------------------------------------------------------------------------------------------------------------------------------------------------------------------------------------------------------------------------------------------------------------------------------------------------------------------------------------------------------------------------------------------------------------------------------------------------------------------------------------------------------------------------------------------------------------------------------------------------------------------------------------------------------------------------------------------------------------------------------------------------------------------------------------------------------------------------------------------------------------------------------------------------------------------------------------------------------------------------------------------------------------------------------------------------------------------------------------------------------------------------------------------------------------------------------------------------------------------------------------------------------------------------------------------------------------------------------------------------------------------------------------------------------------------------------------------------------------------------------------------------------------------------------------------------------------------------------------------------------------------------------------------------------------------------------------------------------------------------------------------------------------------------------------------------------------------------------------------------------------------------------------------------------------------------------------------------------------------------------------------------------------------------------------------------------------------------------------------------------------------------------------------------------------------------------------------------------------------------------------------------------------------------------------------------------------------------------------------------------------------------------------------------------------------------------------------------------------------------------------------------------------------------------------------------------------------------------------------------------------------------------------------------------------------------------------------------------------------------------------------------------------------------------------------------------------------------------------------------------------------------------------------------------------------------------------------------------------------------------------------------------------------------------------------------------------------------------------------------------------------------------------------------------------------------------------------------------------------------------------------------------------------------------------------------------------------------------------------------------------------------------------------------------------------------------------------------------------------------------------------------------------------------------------------------------------------------------------------------------------------------------------------------------------------------------------------------------------------------------------------------------------------------------------------------------------------------------------------------------------------------------------------------------------------------------------------------------------------------------------------------------------------------------------------------------------------------------------------------------------------------------------------------------------------------------------------------------------------------------------------------------------------------------------------------------------------------------------------------------------------------------------------------------------------------------------------------------------------------------------------------------------------------------------------------------------------------------------------------------------------------------------------------------------------------------------------------------------------------------------------------------------------------------------------------------------------------------------------------------------------------------------------------------------------------------------------------------------------------------------------------------------------------------------------------------------------------------------------------------------------------------------------------------------------------------------------------------------------------------------------------------------------------------------------------------------------------------------------------------------------------------------------------------------------------------------------------------------------------------------------------------------------------------------------------------------------------------------------------------------------------------------------------------------------------------------------------------------------------------------------------------------------------------------------------------------------------------------------------------------------------------------------------------------------------------------------------------------------------------------------------------------------------------------------------------------------------------------------------------------------------------------------------------------------------------------------------------------------------------------------------------------------------------------------------------------------------------------------------------------------------------------------------------------------------------------------------------------------------------------------------------------------------------------------------------------------------------------------------------------------------------------------------------------------------------------------------------------------------------------------------------------------------------------------------------------------------------------------------------------------------------------------------------------------------------------------------------------------------------------------------------------------------------------------------------------------------------------------------------------------------------------------------------------------------------------------------------------------------------------------------------------------------------------------------------------------------------------------------------------------------------------------------------------------------------------------------------------------------------------------------------------------------------------------------------------------------------------------------------------------------------------------------------------------------------------------------------------------------------------------------------------------------------------------------------------------------------------------------------------------------------------------------------------------------------------------------------------------------------------------------------------------------------------------------------------------------------------------------------------------------------------------------------------------------------------------------------------------------------------------------------------------------------------------------------------------------------------------------------------------------------------------------------------------------------------------------------------------------------------------------------------------------------------------------------------------------------------------------------------------------------------------------------------------------------------------------------------------------------------------------------------------------------------------------------------------------------------------------------------------------------------------------------------------------------------------------------------------------------------------------------------------------------------------------------------------------------------------------------------------------------------------------------------------------------------------------------------------------------------------------------------------------------------------------------------------------------------------------------------------------------------------------------------------------------------------------------------------------------------------------------------------------------------------------------------------------------------------------------------------------------------------------------------------------------------------------------------------------------------------------------------------------------------------------------------------------------------------------------------------------------------------------------------------------------------------------------------------------------------------------------------------------------------------------------------------------------------------------------------------------------------------------------------------------------------------------------------------------------------------------------------------------------------------------------------------------------------------------------------------------------------------------------------------------------------------------------------------------------------------------------------------------------------------------------------------------------------------------------------------------------------------------------------------------------------------------------------------------------------------------------------------------------------------------------------------------------------------------------------------------------------------------------------------------------------------------------------------------------------------------------------------------------------------------------------------------------------------------------------------------------------------------------------------------------------------------------------------------------------------------------------------------------------------------------------------------------------------------------------------------------------------------------------------------------------------------------------------------------------------------------------------------------------------------------------------------------------------------------------------------------------------------------------------------------------------------------------------------------------------------------------------------------------------------------------------------------------------------------------------------------------------------------------------------------------------------------------------------------------------------------------------------------------------------------------------------------------------------------------------------------------------------------------------------------------------------------------------------------------------------------------------------------------------------------------------------------------------------------------------------------------------------------------------------------------------------------------------------------------------------------------------------------------------------------------------------------------------------------------------------------------------------------------------------------------------------------------------------------------------------------------------------------------------------------------------------------------------------------------------------------------------------------------------------------------------------------------------------------------------------------------------------------------------------------------------------------------------------------------------------------------------------------------------------------------------------------------------------------------------------------------------------------------------------------------------------------------------------------------------------------------------------------------------------------------------------------------------------------------------------------------------------------------------------------------------------------------------------------------------------------------------------------------------------------------------------------------------------------------------------------------------------------------------------------------------------------------------------------------------------------------------------------------------------------------------------------------------------------------------------------------------------------------------------------------------------------------------------------------------------------------------------------------------------------------------------------------------------------------------------------------------------------------------------------------------------------------------------------------------------------------------------------------------------------------------------------------------------------------------------------------------------------------------------------------------------------------------------------------------------------------------------------------------------------------------------------------------------------------------------------------------------------------------------------------------------------------------------------------------------------------------------------------------------------------------------------------------------------------------------------------------------------------------------------------------------------------------------------------------------------------------------------------------------------------------------------------------------------------------------------------------------------------------------------------------------------------------------------------------------------------------------------------------------------------------------------------------------------------------------------------------------------------------------------------------------------------------------------------------------------------------------------------------------------------------------------------------------------------------------------------------------------------------------------------------------------------------------------------------------------------------------------------------------------------------------------------------------------------------------------------------------------------------------------------------------------------------------------------------------------------------------------------------------------------------------------------------------------------------------------------------------------------------------------------------------------------------------------------------------------------------------------------------------------------------------------------------------------------------------------------------------------------------------------------------------------------------------------------------------------------------------------------------------------------------------------------------------------------------------------------------------------------------------------------------------------------------------------------------------------------------------------------------------------------------------------------------------------------------------------------------------------------------------------------------------------------------------------------------------------------------------------------------------------------------------------------------------------------------------------|\n",
      "| Convallis             | [\"So our goal for previous weeks for to analyze all the data and come up with several hypothesis that we can test. and discusses new way about the research and the projects and APP doing research for you, for publications the duration other sources explore current solutions that I exist on the market. ended our pov and if i'm authority authority, and so, in the end we have come up with these big statement so Robert who is 29 works as a caregiver. manage four to six patients each from 60 to 90 years old, needs a way to alleviate some of the pressure from trying to remember the timing move which medication for each patient and have access to useful information. So we have come up. With several solutions for the problems that we had and we asked we conducted interviews again and we asked each of our. interviewee to create solutions and we provided from zero to 10 so we've come up with those. marks and we decided to eliminate those who are under eight so we've covered so yeah we. need to do notification system also educational components and we also would like to provide a barcode and probably a bracelet it comes with a barcode. yeah we blend into use these technologies so our framework would be rare need to programming languages javascript and ids visual studio code for ux ui design, we will be using Sigma and for 3D modeling blender. And we also have come up with a blend of monetization maybe till the data that we did it goes we. thought that it would be helpful so for the extra price we can offer additional physical products such as bracelet and we can also offer a free trial trial period for one month. We can also add some daily or weekly reports and yeah into everything will go with a monthly subscription so if you're subscribed, and you have important maybe physical products. yeah, we can also offer a delayed payment and charity organization, probably, which helps for patients. And caregivers. don't really have enough resources to buy our product. Yes, so our plan of action for the next two weeks would be to design the interface to design the bracelet. define the use cases of the user, so we can create a use case diagram to end to find content for the educational part yeah and we've separated a workload for each of them team Member yeah so that said.\"]                                                                                                                                                                                                                                                                                                                                                                                                                                                                                                                                                                                                                                                                                                                                                                                                                                                                                                                                                                                                                                                                                                                                                                                                                                                                                                                                                                                                                                                                                                                                                                                                                                                                                                                                                                                                                                                                                                                                                                                                                                                                                                                                                                                                                                                                                                                                                                                                                                                                                                                                                                                                                                                                                                                                                                                                                                                                                                                                                                                                                                                                                                                                                                                                                                                                                                                                                                                                                                                                                                                                                                                                                                                                                                                                                                                                                                                                                                                                                                                                                                                                                                                                                                                                                                                                                                                                                                                                                                                                                                                                                                                                                                                                                                                                                                                                                                                                                                                                                                                                                                                                                                                                                                                                                                                                                                                                                                                                                                                                                                                                                                                                                                                                                                                                                                                                                                                                                                                                                                                                                                                                                                                                                                                                                                                                                                                                                                                                                                                                                                                                                                                                                                                                                                                                                                                                                                                                                                                                                                                                                                                                                                                                                                                                                                                                                                                                                                                                                                                                                                                                                                                                                                                                                                                                                                                                                                                                                                                                                                                                                                                                                                                                                                                                                                                                                                                                                                                                                                                                                                                                                                                                                                                                                                                                                                                                                                                                                                                                                                                                                                                                                                                                                                                                                                                                                                                                                                                                                                                                                                                                                                                                                                                                                                                                                                                                                                                                                                                                                                                                                                                                                                                                                                                                                                                                                                                                                                                                                                                                                                                                                                                                                                                                                                                                                                                                                                                                                                                                                                                                                                                                                                                                                                                                                                                                                                                                                                                                                                                                                                                                                                                                                                                                                                                                                                                                                                                                                                                                                                                                                                                                                                                                                                                                                                                                                                                                                                                                                                                                                                                                                                                                                                                                                                                                                                                                                                                                                                                                                                                                                                                                                                                                                                                                                                                                                                                                                                                                                                                                                                                                                                                                                                                                                                                                                                                                                                                                                                                                                                                                                                                                                                                                                                                                                                                                                                                                                                                                                                                                                                                                                                                                                                                                                                                                                                                                                                                                                                                                                                                                                                                                                                                                                                                                                                                                                                                                                                                                                                                                                                                                                                                                                                                                                                                                                                                                                                                                                                                                                                                                                                                                                                                                                                                                                                                                                                                                                                                                                                                                                                                                                                                                                                                                                                                                                                                                                                                                                                                                                                                                                                                                                                                                                                                                                                                                                                                                                                                                                                                                                                                                                                                                                                                                                                                                                                                                                                                                                                                                                                                                                                                                                                                                                                                                                                                                                                                                                                                                                                                                                                                                                                                                                                                                                                                                                                                                                                                                                                                                                                                                                                                                                                                                                                                                                                                                                                                                                                                                                                                                                                                                                                                                                                                                                                                                                                                                                                                                                                                                                                                                                                                                                                                                                                                                                                                                                                                                                                                                                                                                                                                                                                                                                                                                                                                                                                                                                                                                                                                                                                                                                                                                                                                                                                                                                                                                                                                                                                                                                                                                                                                                                                                                                           |\n",
      "| Covid Warrior         | [\"Can you just move to that next line yeah so we basically the the medical research part regarding long cord so long car, it is not when can we call something as long. As when the symptoms of code versus appear more even after four weeks of the first onset of board 90 so that's when we call it long code. And there's a wide range of symptoms from respiratory symptoms to neurological symptoms, so the main major symptoms that we see are fatigue. And shortness of breath and cognitive dysfunction So these are the three major symptoms PC and but other than that there are a lot of small symptoms like hair loss and things like that. We go to the next slide. yeah and the possible causes of long code. Since it's a very new thing researchers are still going on, regarding this, but there have been some possibilities that the researchers have suggested is that there's permanent fiber optic armory changes occurring in the lungs, so this could be one reason and another reason could be. For the heart patients are developing any cardiology codes in terms of that myocardial changes for permanent changes are occurring. Such as persistent myocarditis that could be another reason and again another possibility is that possibility of developing auto antibodies So these are auto antibodies are fighting against our. system, so these could be the reasons and. The possible risk factors. it's The main reason the main risk factors at one stage, so people over 70 years are seen to develop more symptoms compared to young patients, then. Pre existing conditions like. Any diabetes, or any other diseases, these could add to the scene and then viral load so in the initial weeks of. code 90 when a person is infected if they have a higher viral load, this could be a reason for the person to dial up long cord and females are seem to have. To develop long call it TAO chance of developing log or 10 meals, then I experiencing more than five in terms of the first weeks of illness, this is another reason. Any pain when any patient Dallas more than five symptoms, in the first week of illness, the person could develop have a higher chance of developing logo. Next name. yeah so the diagnosing the long corridor, so the diagnosis is based on the different systems that are affected so for someone with a pre existing dimittis condition the diagnosing off, it would be different from someone else who has maybe COPD so. Basically, depends on the pre existing conditions and other than that mainly it's the. chest X Ray and sometimes a CT scan all these other major diagnostic tools, so in our platform also, we would like to. When we download the platform, we are thinking of developing, something in which we can share the. The doctors can share the X rays and. CT scans and all that. Next slide. yeah, these are all the desk could you go to the next, please. yeah. So, as I said earlier, like a competent comprehensive evaluation as needed. like to note. to predict accurate diagnosis. The next slide. yeah and interdisciplinary crossover so mainly it's neurology cardiology and phonology, these are the main speciality, is that we are trying to incorporate. yeah and that's I carefully also comes into play with regard to long covered. Next slide please. Yes, how long does the condition of long college last so studies are still going on and there's no definite answer to this question, but it could, but the studies prove that could go up to even a year or more than that. Next slide. yeah and. The the PR the patients who have been vaccinated have a much lesser chance of developing post forward. Some purpose coordinating syndrome. Next slide. yeah long covered treatment it's also mainly depending on the type of. Depending on the systems that are affected so and it's also symptomatic treatment that's given so for each individual the interdisciplinary therapy has needed. It depends on the pre existing condition, as well as the security of the code episode. So some of the methods of long code rehabilitation are given our spirit with physiotherapy physical training physical measures to go directly psycho education neurological nationals. Next slide. Now that's basically.\", \"Yes, so we are the colored wires and yeah, so this is our the presentation over a second sprint and the first thing I wanted to mention is what we're actually trying to do. So we've had some meetings within ourselves, and also with the health of future and we. define a bit more our challenge, and we will or at this, we will try, but the challenge is to develop a plugin to allow live virtual consultation directly from the platform between the patient and the doctors. And these should be video, so this is also we refined it after our meeting with me philomena, so this is already getting feedback. So the communication should be spontaneous and the direction also lives. The there's a lot of data generated during the console which also should be included in the patient sales, so there must be a communication between the plugin are our extension and the platform. Doctors can proposals from the calendar, and this is a proposal that philomena and made and which was to integrated with Dr live, which is what they're doing right now, until we don't plan to create a new calendar just to allow them to do it directly with have to live. And and yeah so as a fan point is, we are not really mainly because of time restrictions, we are won't be working on. Regulatory we won't be really focusing on that of course we'll take a look at that, but mainly data protection, and we are some other topics may not be covered to what we are trying to achieve is just a functional plugin that allows the visual presentation. Okay, then what we did during this sprint we did the clinical research in a second rational will give it some some of the summaries. And we had a first meeting with philomena which was really helpful because we define everything that we wanted to, or at least the first questions that we had. We talked about what she was interested in what are some ideas that we thought of but we're actually not very interesting and we started creating also our report to structure some ideas. And then we are still working on a first project with family with health future, so this is also something I think will always be in progress. We got the approval from philomena to create an account to get to know the platform as a patient so that's something that we're doing at the moment. We are also doing market research and technology news so in the next sprint will be focusing mainly on these two on market research and technology. We are basically trying to find what technologies are available, but it would be also easier for us because we don't have that much experience with these type of technologies. Then there's my can you explain the refining. yeah.\"]                                                                                                                                                                                                                                                                                                                                                                                                                                                                                                                                                                                                                                                                                                                                                                                                                                                                                                                                                                                                                                                                                                                                                                                                                                                                                                                                                                                                                                                                                                                                                                                                                                                                                                                                                                                                                                                                                                                                                                                                                                                                                                                                                                                                                                                                                                                                                                                                                                                                                                                                                                                                                                                                                                                                                                                                                                                                                                                                                                                                                                                                                                                                                                                                                                                                                                                                                                                                                                                                                                                                                                                                                                                                                                                                                                                                                                                                                                                                                                                                                                                                                                                                                                                                                                                                                                                                                                                                                                                                                                                                                                                                                                                                                                                                                                                                                                                                                                                                                                                                                                                                                                                                                                                                                                                                                                                                                                                                                                                                                                                                                                                                                                                                                                                                                                                                                                                                                                                                                                                                                                                                                                                                                                                                                                                                                                                                                                                                                                                                                                                                                                                                                                                                                                                                                                                                                                                                                                                                                                                                                                                                                                                                                                                                                                                                                                                                                                                                                                                                                                                                                                                                                                                                                                                                                                                                                                                                                                                                                                                                                                                                                                                                                                                                                                                                                                                                                                                                                                                                                                                                                                                                                                                                                                                                                                                                                                                                                                                                                                                                                                                                                                                                                                                                                                                                                                                                                                                                                                                                                                                                                                                                                                                                                                                                                                                                                                                                                                                                                                                                                                                                                                                                                                                                                                                                                                                                                                                                                                                                                                                                                                                                                                                                                                                                                                                                                                                                                                                                                                                                                                                                                                                                                                                                                                                                                                                                                                                                                                                                                                                                                                                                                                                                                                                                                                                                                                                                                                                                                                                                                                                                                                                                                                                                                                                                                                                                                                                                                                                                                                                                                                                                                                                                                                                                                                                                                                                                                                                                                                                                                                                                                                                                                                                                                                                                                                                                                                                                                                                                                                                                                                                                                                                                                                                                                                                                                                                                                                                                                                                                                                                                                                                                                                                                                                                                                                                                                                                                                                                                                                                                                                                                                                                                                                                                                                                                                                                                                                                                                                                                                                                                                                                                                                                                                                                                                                                                                                                                                                                                                                                                                                                                                                                                                                                                                                                                                                                                                                                                                                                                                                                                                                                                                                                                                                                                                                                                                                                                                                                                                                                                                                                                                                                                                                                                                                                                                                                                                    |\n",
      "| Deep Divers           | [\"Oh OK OK OK sha sha slowly, and I would repeat them, I would repeat, for I think. The third question, I will start from third question, so our third question asked, would you be live in having suggestions or solutions from our system. aimed towards the address will have negative or bother some emotional state in real time, what does it exactly mean, let me elaborate a little bit, for example, so again, if you are using our system. And if you are very know a headband if you're using our system and you're working right now. you're doing an activity, and right now in the air time you're feeling stressed or anxious and our system detects that you are she is. And it not just notifies you, but the same time it's suggest you solutions to that does the thing in real time right now. Of example like take a little wake tech, you might take a little break slowly on or you might drink a glass of water when they asked for five minutes can take a few deep breaths. And yeah likewise so this kind of the address the suggestions in real time and in answer to that what we received 50% around 50% of the people like they had an emphatic yes Okay, they would like to have. With this mechanism in real time, but other 50% were were towards they would like to have suggestions, but not in but probably not in real time, because if you're already angry or you're already staged and. someone says to you Okay, you are stressed and do this do this do this, then it might be it might not be very good idea in theory time it can make you even more anxious many times so. And so those 50% who are inclined towards know they were like Okay, they they might they would like to have the test. leaders will saturations but probably not in right now, but maybe after some time, maybe tomorrow, maybe day after tomorrow. And that that time, they would be able to appreciate the solutions better Okay, so this desert was better reflected this opinion of this was better reflected in the research of the ocean for to have a question was. Whether you would like to have suggestions or advice on our search term to the tourists negative or borders and emotional state in this perspective. What does that exactly mean the flow the and you have been suppose you have been using our systems and Spanish have one week or a few days for. How many hours a day, as per your convenience and it has recorded or it their stamp your emotional state for the past few days, and it is making you sedation now that okay Florian since a few days. We have detected that you have been feeling discouraged. Anxious or angry between 12pm to 4pm since a few days so maybe you can just take a small dates everyone are. You can take five minutes or 10 Minutes be great after every one hour or you can drink some water, you can do some deep breathing you can do some this little little little yoga exercises and. Or maybe you can talk to someone you Maybe you can talk to someone about the thing which is bothering you may be a friend. If. If if it is Moses, maybe to a. therapist or someone so in response to this question. Around more even more people around 80% of the people had an. Impact pks at Okay, yes, they would like to have a drizzle suggestions, if the suggestion tells them about improving their emotional states that have been recorded in the spectrum in the posh posh days or past week, because they would be able to better appreciate the suggestions now. Okay, and the other 20% of people who were like they don't really care. They will they will more mobile phone home those population who were not even interested in knowing the emotional state in the first place, and this this population this. No one's that population was more coinciding with that population, which had never used or had no not much exposure to the idea of using. Any smartwatch is any devices to take the body function parameters okay so yeah let's move to our next question which is, which was question five so by the time we completed our question for our idea of a basic idea or concept our system was almost fully clear. To the audience to the service objects so as we move to question five the question for five was do you think our system. would be beneficial in the acting emotionally state or monitoring the mental health of mentally ill people who have been diagnosed with who have already been diagnosed with mental health issues, for example, clinical depression or bipolar disorders or skis of PENA. Or the knowledge is diagnosed, maybe they have already been going through treatment or already failed to treatment or already discharged from mental health facilities after treatment. So those people might require more super supervision by by the relatives or by the adopters and there's one more important factor about. This thing with mental health mentally ill people that the suicide rates is significantly higher among mentally ill people. Okay, so, in response to our equation, however, there was no person of this category of mentally ill people category in our in our sample size but, as per their opinion, these people who are not mentally ill, apparently. They had an emphatic yes to our question, all of them, emphatically, all of them faith that our search term could surely be very beneficial. To the supervision and molly emotional health monitoring of mentally ill people, some of them had relatives or friends who had been diagnosed with mental health problems. And they had seen them close enough how their life was going and how much important there supervision and monitoring was yeah and. Among our sample size, there were five out of 50 there were five. medical professionals medical professionals to or some of them at some point of time have dealt with. Mental health also and they were able to give us better insights to. We are thankful to them okay so then we move on to our last question and. The last question was about. Whether whether you are. favorable towards using a headband all the time, a headband all the time to record your EG waves. To track your emotional system deeply So the answer to this thing was a little bit tricky and it was laden with a lots of feedback Okay, let me. Let me start collaborating it 20% of the people had absolutely no problem with fearing a headband, even if they required to fear it. Most of the time they these were mostly those people who have been who have been using smart watches, since a long time now, since many years now, and they. They understand the benefits and they have been using the benefits of smart watches, so they can better appreciate the potential benefits of our system so 20% of these people were had an emphatic years that they would be willing to use a headband. All the time whatever time it requires but other 80% who were who did not have an imperative as. An older adult one fourth of them had some water strong, though, but others had equivocal opinion neither strong no neither is strong, yes. And they were more like that, if you could modify a headband towards towards a CAP towards a hat or the towards a hair band which which females usually use. They would be very willing to use them, they would be very willing to use them and, and if you could just make it more compact. Not just a headband but just a few leads near to just above your ears actually search devices are also available it's not that we would need a new invention and headband easy devices are also already available. So if if the our device had. easy to connecting devices more compact, they would be more willing to use it more more of the time, so this will also among the 80% of people who did not have an imperative, yes, so. To give an overall conclusion of our survey Florian. We would be would be happy, saying that we had a positive response and we've got a motivation to move ahead on our idea but okay before elaborating on that, I would like to show some feedback which we received. From our service objects. First of all, our our APP our system. Was novel to know was novel to them, and some of them had only seen them in SCI fi movies. That written some novels but but Davis men very much excited to see a possibility of it in their life and a few of us are a few of the subjects believe that more than more than normal people are mentally mentally sick patients who have been diagnosed with mental illness. They could be more targeted towards them. And some of the people. As some of the people were just not interested in knowing the emotional level like they simply did not care there's some people will also the Burton these people were. Mostly among that sexual operation which had never used. Any smartwatch or they have a they had never seen any closed ones, using any smart watch any smart device device taking the party function parameters. To try some important feedbacks where the flow yeah they suggested that we can in the later on, we can modify our system to be also targeted towards. middle aged people who are suffering from lifestyle diseases such as hypertension, because lifestyle diseases are also. Very much coordinated and linked to the emotional states, those who are suffering from anger issues, though those are suffering from anxiety, they have been shown. To have high incidence rates of hypertension and other lifestyle disease so later on in future, we might have a focused towards them and. On. The apart, apart from that, the overwhelming feedback was was towards taking the step to make our headband headband more compact more compact or more blending towards the normal us like blending it in a cab or in a head. In our CAP or in a hat or in here band it's females us so that they will be able to use it in the outdoors to well doing the other activities so. Overall flow yeah I would. I would like to say that we got a largely positive response and it gave us enough motivation to move forward with our idea and. So what we are planning ahead is to. Have so so basically steps basically steps which we which I would like to enumerate. We should take forward ahead is. We should test we should test with the basic premise of our idea with an easy with a portable EG device that is a headband. Which is as of now, which is as of now, not available in the lab of ECU of power ECR I have already visited our lab and we checked all the. instruments already available, but as of now, it is not yet available there, however, we check the prices and all it was not not very costly fortunately so. Once we once we have our we once we have that device, we can move on. With. starting the testing is starting the testing on volunteers subjects and really relating it with the EG with the ej study with the emotional data, and we would be Designing an APP which will be which will be analyzing the ej study of the person. With the emotional state and giving them the desert and, accordingly, giving them suggestions to what they should do in real time. According to passion to improve their emotional state, so we know Florian this is to make it fully commercial fully commercial. This could become a very large project to be implement implemented by a very big corporation, but our aim initially is to make it. At the scale of a PLC a proof of concept to make it function, make it functional at a very basic right now, here, and I think. I think we have a strong belief that you would be able to do so and we have enough skills and opportunities to do so, too, and this idea, this basic concept has a very long way to go, in future, we believe, so floria and yeah so so now we're open to your questions and your feedback.\", \"yeah so I Florian so in our last session. And, before that, in the initial session we started with what our basic plan was what our basic idea was so, in short, the basic idea was to. was to do an emotional tracking was to create a system to track emotions that emotions and give the user, an idea. Of what the emotional State currently is and what the emotional state was in the spectrum okay to make things more clear to make things more clear okay first, first of all, let me first English, what we are going to present today. First, we are, we are going to present our idea with little bit more clarity and, second, of all and, second, we are going to present our survey results survey results in detail and the feedback we have got from the from our survey and what we are planning as immediate step. Currently, so. To make our idea more clear what concept we have and what we are working on okay let's start with. I think every one of us have used a smartwatch some time or the other, or we have seen someone using a smartwatch. The what is smart smart watch basically tracks a smartwatch tracks your heart rate I smartwatch tracks your number of steps you have covered. In today or the large day or in the previous week it says it monitors how much calories you have burned today or yesterday, or in the last week or how much you have slept in in the current are in the spectrum so on the lines of that our device or our system. aims to tap the emotional state of the user, both in the current in the vr type, as well as over the past day or over the last week okay so on this, this is our basic concept and on the lines of this we move ahead with the ocean and our survey, so, in total, we serve it around. We serve it around have 50 people and before that we created a detailed questionnaire so once once i'm done to the questionnaire once i'm done to explaining the. concept of basic idea will be more clear to you all okay so let's start with the questionnaire now, so the first question we asked. Our subjects our service objects was, would you be interested in knowing your emotional condition in theory time in moment whether you're feeling stressed or anxious or excited you're in low mood. Now you're feeling emotional breakdown, are you calm you down the aisle sluggish you hyperactive bold any emotional condition in the time. And the second question was, would you be interested in knowing your emotional condition in the to spread over the parody with the past week or any space, so all ne specified period of time during the previous days. So first question was about in real time second question was about in the respective that third question was, would you be interested in. in real time solutions in real science is a time idolize that our session would give to you for this for this all being negative or bothersome emotional states. In theory, time to be interested in the theory time solution that you would be receiving from our system to dissolve that bothers them or negative emotional states and our fourth question was. Would you be interested in the solution for dissolving negative or bothersome emotional states in the prospect in the past, I mean. I mean the our system would have detected your emotion would have grabbed your emotions over the past days or bi weekly and would be suggesting solutions to dissolve that now. The they will they will take your emotions or the week and for any negative or bothers me state they would be suggesting solutions, now it not in the VI time the fourth question was about to spread. The fifth question was to be do you believe our emotional tracking system and the desert and possible solution given mechanism could be beneficial to mentally ill people. Sites, would you be willing to be a headband or EG device to take your emotions, as part of our system Okay, so I hope our basic concept is a little bit more clear to you right now what we're actually planning to do we actually planning to track the emotional shade of people by. By promoting them to wear a headband link to our system and our headband would detect the easy and the EG waves in real time and also over the past week or past days whenever they will that headband and those EG waves he EG studies of. their brains would be analyzed to give out the emotional state. yeah so let's move ahead without the district of our survey. Okay, so. We had the total participants 50. And we have three TEAM members, and we all tried to reach out to as much as people as possible and out of our total number of participants, it is today about 32 males and females. yeah so let's move on to the idea, the age group, our of our survey population was between 20 years to 25 years of age, so our target of target look was pretty young people as yet okay let's move on to the next slide. Okay, so the desert of our first survey is October 1 survey, the first question, the first question, which was would they be interested in knowing the own emotional state in 09. It came out to be what 6040 60% of the people were like K yeah they would like to they would like to, and they would be interested in know in they would be interested in knowing the. chili 40% of the people would be interested in knowing their emotional state in real time. But there is a catch here, which will be which i'll be able to explain with dancers, have further questions 40% of the people were. Directly they were saying that yeah they would want to do their emotional state in theory time yeah but the 60% were little bit apprehensive. With doubtful whether they would like to know your emotional state at the time, because they say Okay, we already know whether what we are feeling like now, but they will not unequivocal. They were like 50% of people were like Okay, they might they might not. So we moved out with the second question, and with further questions their opinions became more clear it came with more clarity so. that the second question.\", \"yeah I totally understand yeah so while explaining it here to explain at every step what question one means what Christian to means okay yeah Okay, let me start from the beginning about the findings of our surveys OK. OK so for our question one for a question, one which was the weather, you would be like, would you be interested in knowing what your emotional state in theory time in real time, the answer was on. The answer was around 6040 around 60% of the people were like okay yeah they would be interested in knowing the emotional state in the theory time. They would be interested and 40% of the people were. Somewhat be vocal. They were like they they are not sure whether they would want to nobody was that Okay, they would not want to, but they were not sure they would want to if they would want to because. Most people already they were saying the 40% of the people were saying okay they're like already know what they're feeling in real time Okay, but. Their EP vocal answer would become clear with the with the answers of next questions OK so moving on to the question to the question was whether they would be interested in knowing the emotional state in the prospect like. Like Julian if you have been using this system, since a week or a few days, your emotional state would be recorded by our system. And it would be presented to you in forms of a chart or graph. yeah, and so the question was, would you be interested in knowing your emotional state in this perspective What was your emotional state yesterday or over the past week. How, you were feeling yesterday from 12pm to 2pm how are you how are you feeling on the previous webinars day from 6pm to 8pm so, would you be interested in knowing that. So the answer to this was a little bit more unequivocal towards yours was 70% of the people were like emphatic yes answers. Okay yeah they would be more interested to it snowing Yes, they would want to have an idea of their emotions in two steps. Because when when our system tells you that okay so yeah and you felt a little British test out yesterday from 12pm to do PM or last Wednesday from 6pm to 8pm. You would have an idea in your mind okay what I was doing that time Okay, maybe I wish I was thinking too much about my work or. Or maybe I was thinking too much about my my issues with my friends or my family during that time. So you can you will be able to correlate the activity you're doing the things we're thinking with your emotional state being shown by our system, so the 30% of the people which we're not sure about a yeses pawns in the question to. Most of the people for Question one question two who were towards inclined towards. The vocal or the notice ponds where those who have not already been exposed to an idea to the idea of using a smart device device to track. Their body parameters already this thing we have observed it those who have already used or they have seen the close ones, using a smartwatch. Smart was to track calories in a steps and other body parameters, they were more inclined towards the year sounds because they have been. exposed previously to tracking their body function parameters state monitoring devices. And so they were able to better comprehend what our system was actually aiming towards and what could be the result of that, and in what way would be it could be beneficial to them. Okay, so um the question the question three was our question was whether whether you would be interested in having a salvation from our system. A suggestion from our system to the address your negative or borders and emotional state in the time What this actually means brilliancy suppose, for example, you're using our system and. you're all you're doing something, and you are feeling. feeling anxious and.\", 'Okay yeah yeah that was part of our agenda today for. Our discussion our presentation. We like to move ahead with a request to you if we could talk to. pj device can our lab in his era cause to have to have our team Members, we are already infiltration and we did visit the lab last week and we talked to Danny the lab in charge, India, we went to all the available devices yet.', \"yeah actually like Florian like when we have visited so it's like we have checked, most of the senses over there, the devices. But actually which we are requiring that was not existing there so thing is like Vietnam to the numerator so we told like if your project is a true you get a. lead from your supervisor so, then we can think about it, even if we have to go not so it's like. from you, before like if it is approved, then we can really go ahead with this so like, as you know, like we really have the limited time also until June and July, so we can put together all the sensors and devices and the top players is a spreadsheet and we can provide you. More can give our feedback and my freakin move ahead with this island if the university can provide a standard, and we can really start with the things.\", 'Okay, no, this was the slides, and yet the slide with questions I was talking about. Okay yeah so anyone that thing you pointed out videos is around out did you round up the survey results yeah we did round up because a few of the answers were unequivocal. A few of the answers on it people, so we did is owned up. The services a little bit and yeah So the question, we would like to ask you Julian. Apart from to clean the device and moving ahead with the device. What would you suggest, we should take an immediate next step.'] |\n",
      "| Hidden Layers         | [\"I mean that was the thing that dominic said last week it was like, why do we want to build an APP, why is it not something else and. So we went out into that direction, the last week two, and you know kind of did some brainstorming and thought of different approaches which will already also had an hour presentation. To basically just say Okay, can we can we can look at it from a scientific point of view and we don't actually get the users, but we we build an APP for scientists to contact users or two to get the data from there, or I don't know how. or can we just do like a middle we're where we say okay and we're just doing a whit whit just transferring data from Google and apple how to another scientific database. So you should Should we continue down that direction, what other approaches, we could go to also we actually go for. User base.\", \"Basically, if i'm donating my data, my name is Emily 25 i'm from a rural area i'm not pregnant if if I were to donate my data I might not want that people know that my name is i'm going to 25. So we could change my name to I don't know motto, and my age to 28 and then it's not. Like. A certain age group that we're keeping me in which is my actual age group, because you probably know, this leap changes there with growing and aging.\", \"So yeah basically what we did here is when we asked in our interviews in our participants we basically asked some some personal data, whether they're male or female, whether they live in our rural or urban area, so this is just where they where they. Are. So basically how how loud or unreadiness really. Maybe that can have an impact on sleep for quite likely to have an impact on sleep, then we asked if they have wearables used to know. Whether they were a during the night or notch and if provided was that question where we If science, was able to provide a variable for you, would you wear it. So you provided with 25%. Then we asked something about data protection so in order to keep that data valid and significant which we talked about with Julia. We asked if it were Okay, for them to just change the name and age so change the eight within a different within a certain age group to actually keep a comparable but change the personal data, a little bit, but not fully anonymize it defined yeah just.\", 'yeah right here, essentially, we just arrived again to the usual we have questions for you as well, and in this crumb. We have a question to you furious, but this is probably something what we can then, and we should probably manage in a breakout room or something later on, perhaps, and then later on and museum rights, we will also have some technical related or tech yeah ah.', \"Okay, so this time I am. Now our steps are our plans for the next chrome we as modular said, are planning to conduct. participant interviews that next phase second phase, and then we were thinking about starting with first ui design ideas I just don't have our basic. basic idea of the APP or what are we trying to do, and the features that it is going to include also we. plan our idea eating of business model, and also how can specific data extracted from wearable databases, this is a research question that we're going to spend a lot of time researching the last step for the next round is to IDA IDA different approaches and their evaluation.\", \"Oh, this one yeah. that's me. So yeah for the next scrub we are planning to start conceptualizing how our next round of interviews will go probably some more specific demographic. Perhaps going further with the pregnant women, as well as to analyze any incoming data we have in the form of coding and review and qualitative interview data and further analyzing any Moxley data that we have already acquired. And second we plan to venture a few different approaches to how the product will be utilized in either a consumer scientific or a generic sense. And we will continue to look at and compare profit versus nonprofit models and think about how we will incentivize all potential stakeholders. And lastly, we will continue to research, what type of data is needed or lacking in sleep research and how the different data types are available for the consumer from each current wearable on the market and how they differ from each other. Thank you for that we we do next.\", \"yeah that's me bear with leak into through sleep statistics again, well, we found out last week that about it, or that 80% of pregnant women experienced some form of tanya. which we took as incentive to actually talk to her three of my friends who are pregnant, at the moment, and my neighbor who's in the wife. and actually asked them do you especially, especially now have problems with sleep in your pregnancy. And with my neighbor a midwife, we also talk or I also talked to her and was like okay what what's your experience on that and, interestingly two out of the three seed, they have really intensive dreams which they didn't have before, for example, and that they need a lot of sleep. And yes, this is all. you're influenced and called upon by their pregnancy, so the pregnancy is actually reason for some kind of sleeping problems, all three of them say that they they are usually good sleepers so. insomnia, or something like that is not a problem for them, but just in general they need at least nine hours of sleep a day. And one girl sleeps at night because she doesn't have to get up in the morning and another one says she's so tired in the afternoon, she sleeps at least one hour in the afternoon. But also, even though she used to be a night owl and don't look dumb third and like to get up in the morning, she now get wakes up at five between five and six, eight and can't go back to sleep. So, since they all didn't really have like insomnia, and see problems they didn't win relative right people to ask how those could be solved and how they think that could be resolved. But they all three of them thought that pregnant women would be really, really willing to donate a data, because it might actually help. Science and improving the pregnancy care as well. And then I think i'm going to hand over to Mattel yeah. I think it's me.\", \"Okay Good morning, this is a webinar we have done some brainstorming exercise on business ideas like. With the APP we can offer one feature like sleep tracking fully for free, but we offer other features like fitness vitals etc, with some amount of payment. And the other one we thought is like if we want to motivate the users, we need to make them active in participation fulfilling service. So we plan to get coupons in exchange for filling service regularly and these coupons can be used as free monthly subscriptions. And finally, once we all know that consumers are often more histon to donate the data unless they know the exact uses of their data, so we want to design an additional future to maintain transparency, like consumer can have control and choose what data is being used for them. And coming to know networking, we are, we talked to we are waiting for the replace of sleep scientists be negotiating to fix an appointment with them and. We reached out to network of interested participants up to 22 persons and we analyze the results, as I didn't explain that's it for my son.\", \"So good morning and i'm going to start us off, we are the hidden layers shockingly, and this is our scoring points from the last two weeks. We still keeping this face because it's just that good on the American you jump on to the next slide Okay, so in the first part of representation we're going to talk a little bit about what we actually achieved in the last two weeks, just like last time. First i'm going to start us off that as dominic also. instructed we continued with the interviews We already have a couple of them in so we also started essentially analyzing those. which I am going to talk about in a second into a certain extent. And from product management side I also continued reviewing APP feedbacks or reading reviews essentially just to get a little bit of more fear to what the people want essentially American shortly jump on to the next slide and then we're going to come back to this one for you muna. Exactly so. The couple of answers what we already received from the first round of interviews from our own network already starts to show a certain pattern. This clearly is going to change as we go on as well with the more deeper layer questions, as it is, but this is already certainly something what we could start basing our possible solution later on how many, can I ask you to jump back to the previous one, thank you very much. So I said you already have the first round of interviews and the analysis of results, we are also flow and thank you again, very much for setting us up with. Your data scientists contacts and we already had an interview with Julia and we're waiting on are already in the process of arranging a schedule with the other two gentlemen. For some kind of appointment and then here, I am going to give over to your Mona and she's going to talk a little bit about. Business approach ideas, what we are exploring at the moment.\", \"We actually even considered this that for the APP we would have a section, which is like our our sleep wiki or something like that, where essentially with Ai we could have personalized. tips or advances or just information, like a news feed but personalized on that patient or on the participants. Information essentially what they given that i'm struggling with I don't know insomnia i'm pregnant whatever and then the I can sort out based on the information what to push as naturally to that participant.\", \"yeah might be good, just before the midterm. Exactly. yeah so one more thing that I was thinking that I haven't actually pitch to the group yet, but for the extra I want to contact lunchtime medical. and see if they have some interesting insights as well, and they have an office here in New York, and so I might actually just swing by with a bike one day. Next, two weeks and see if they can be of any assistance to us.\", \"The Apps actually even has not. Software as medical device or application as medical device but it's still kind of has a recommendation that a the APP the accelerometer or whatever detected that you're you're kind of not reading what's going on, so somebody. might even if they are not categorized as a medical device they kind of already at least make a suggestion for this.\"]                                                                                                                                                                                                                                                                                                                                                                                                                                                                                                                                                                                                                                                                                                                                                                                                                                                                                                                                                                                                                                                                                                                                                                                                                                                                                                                                                                                                                                                                                                                                                                                                                                                                                                                                                                                                                                                                                                                                                                                                                                                                                                                                                                                                                                                                                                                                                                                                                                                                                                                                                                                                                                                                                                                                                                                                                                                                                                                                                                                                                                                                                                                                                                                                                                                                                                                                                                                                                                                                                                                                                                                                                                                                                                                                                                                                                                                                                                                                                                                                                                                                                                                                                                                                                                                                                                                                                                                                                                                                                                                                                                                                                                                                                                                                                                                                                                                                                                                                                                                                                                                                                                                                                                                                                                                                                                                                                                                                                                                                                                                                                                                                                                                                                                                                                                                                                                                                                                                                                                                                                                                                                                                                                                                                                                                                                                                                                                                                                                                                                                                                                                                                                                                                                                                                                                                                                                                                                                                                                                                                                                                                                                                                                                                                                                                                                                                                                                                                                                                                                                                                                                                                                                                                                                                                                                                                                                                                                                                                                                                                                                                                                                                                                                                                                                                                                                                                                                                                                                                                                                                                                                                                                                                                                                                                                                                                                                                                                                                                                                                                                                                                                                                                                                                                                                                                                                                                                                                                                                                                                                                                                                                                                                                                                                                                                                                                                                                                                                                                                                                                                                                                                                                                                                                                                                                                                                                                                                                                                                                                                                                                                                                                                                                                                                                                                                                                                                                                                                                                                                                                                                                                                                                                                                                                                                                                                                                                                                                                                                                                                                                                                                                                                                                                                                                                                                                                                                                                                                                                                                                                                                                                                                                                                                                                                                                                                                                                                                                                                                                                                                                                                                                                                                                                                                                                                                                                                                                                                                                                                                                                                                                                                                             |\n",
      "| Impossible is Nothing | [\"Okay, so our group name impossible, is nothing. short. Of the sasquatch infection. So talked about inspiration, as with the hospitals clinics this slide is in pain, if you make it in this ratio, as the mosquitoes clinics could be the solution in your needs. and stick with us internist and physicians surgeons nurses patients. misled, if anything, the. slideshow. So our point of view. We we modified our points of view of time in the missing. it's missing Amina so our points of views and family physicians house Esther. need a way to accurately predict patients who have for ability of developing long covered right from the first day of clinical presentation in the hospital. And this is because it's significant proportion of fusco with patients to suffer from life debilitating could be related morbidity after acute treatment okay next slide please. And then, as original with much they were trying to define a clinical parameters or criteria for potential screen upgrading and also retrieve data from probably scientific articles and then the length of it websites. insolent this. Yes, okay we'll check that a business like pubmed Google scholar. And also, we reviewed case studies clinical case studies nuts and optimistic in this is OK, and then they also the water to organization and statistical reporting period 19 we also checked that's their business like. Okay, now we also had them Okay, and we conducted interview, and we asked him doctors is a house and some questions festival for the understood by the concepts in long covered. If there are any problems or issues arising from either the prevention, diagnosis, treatment or management of this condition and what areas of improvement, the clinic Al Qaeda would suggest in the aspect of non compete next question. We also ask them if they had any idea of puts on how these programs could be addressed, how we could not efficient at an increased risk of covered. And what's their opinion was a Baltistan a scoring system for prediction of long of it and also business and the commercial value and we realized that. The majority of them actually didn't know the concept called long long curve, it would say when patient had discovered. symptoms after treatment and they come back, they just treat the symptoms and when majority of them were open to the idea of. Having a scoring system that could help them easily know this patient right from the physio of presentation, if you have the clinic in covert states or not. So they can share their clinic appointment and then after waiter a lot of articles and literature reviews and also a withdrew make our case studies were able to isolate them six per click or parameters. Now we now we can start recording this image in patients with non covered the age of the patient, the agenda in number of symptoms, in the first week of diagnosis, the body mass index. The prayers of associated comorbidities and the vaccination status, this is also synonymous, is to to study conducted by them Swiss. institutes in Zurich and in which they developed a similar scoring system called packs but they usually be each the symptoms are tests we pray ish history of asthma and the Prince of co-morbidities so now, the first criteria at the age of the patient. me study conducted by should read i'll UK study published in 2021 say that patient 9% of 9.9% of patient how long can we delay is between 18 and 4049 years. 15.9% of patients, where is between 50 and 69 is way too into what we may be sent to flunk of efficient way is about 70 years. And this equivalent to mathematical ratio of one to 1.5 to two and there we go ahead and pitch in between it's you know 40 years with a quality score of one point. Those from 50 to 69 years were given a score 1.5 points, and those are both 70 years we scored two points based on this criteria, please emptiness late. And then the gender of the patient and why some studies reported our closest statistical significant significant difference in Jeddah among sufficient, but a study discovered a majority of this patient we said to be females. It disproportionately affected females, and then 14.9% of them were famous compared to what you're saying yeah and in fact the sense of meals had long coffee. And this corresponds to the ratio of 1.5 to one and so more like a being a female the risk will say to have increased by 50% and so female patient way to given this coven Point five points, whether they're male counterparts at what is called a single points nestle. The number of systems to the festival, this was a world most statistical significance significance in points and then about 10 symptoms. were isolated take almost symptoms and if a patient has five or more of these symptoms it's it's it's proteins is strong game and prognosis of having uncovered the range from fatigue headaches common symptoms, we have all heard about the cove Chesapeake Bay area so on. In the study conducted by cigarette i'll the odds ratio for each particular symptom predicting long covered bridge from one to for an average of 2.5 for females, while its range from 0.5 to 4.5 and average of seems similar average for meals. And Wendy Wendy odds ratio for patient having at least five of these symptoms, was it was calculated in this study its range from three to 5.5 an average of 4.3 females next slide please. Thank you, and its range from 2.5 to six on average of 4.25 million meals and taking both averages as your ratio in 2.5. Throughout the ratio of 4.3 who are fit ratio of one to 1.7 approximately one to two, so this states that's efficient having five or more symptoms. The risk of having local means increased 100% complete or somebody having less than five symptoms so they're giving you score one where does have you ever given this quote so next thing. And the body mass index. Most of this report that the trend that majority of this patient or how long of a good way overweight or obese having at least a body mass index of 25.0 kilograms per meter squared. In a study conducted by we give him a cut it all published in 2021 on on healthcare workers, and most of a 50 51% of lankov.\", \"How the BMI both students that point zero and this and the p value of 0.020. Which is statistically significant and so, hence patients will be a minus 3508 giving a score of one, why does above to a temporary zero be given a score two points nestle. Yes, the fifth clicker parameter was the presence of other comorbidities of. Two studies isolated that's the first study said in chronic embrace Richard disease, they 2.3% of patient our local. symptoms and had a history of respiratory disease are 4% of them had that two diabetes about three points of his head had his stroke high potential and the most common in women had history of mental illness prop to the to the in sickness in another study. Craig respiratory disease 9.5%. of them had have longer efficient heart disease, and then the p value of 0.007 which is, which is. Statistically significant, and this was observed in about one SEC more efficient so i'm looking at this, so hey, especially with no comorbidities were given a score of one. And then missions, having non respiratory comorbidities, for example, type to DM hypertension mentor in this were saying the score 1.5. Why patients suffering from chronic respiratory diseases like asthma chronic obstructive pulmonary disease obstructive sleep apnea syndromes with given a score two points and. yeah so okay next slide please and then Alaska anchor points, the first initial status in a study conducted by your balcony at all published recently about four weeks ago, which was reported a patient who had who had at least to complete it could be 19 vaccine disease. about what he did today no specifically by the type of coordinating by symbol, so they had a 41.9% decrease in the also have been known. to him only 9.9% of them actually had long could be compared to 14.6% of similar participants now fascinated I had no could be. So, looking at this ratio wise, it was a one to 1.5 so so we're able to do that, not having coordinating vaccine increases the chance of having long cookie by 50% so this means that vascular patient has got one on backseat efficient we scored 1.5 so this. is customary. For the edge, as I said before, just to recap it into 4949 years we give you one point 50 to 69 1.5 points above or equal to 72.4 the agenda females was called 1.5 points meals you single point. Number six in the face trick less i'm facing terms it's called the point and greater or equal to facing in terms it's called coupons looks like this. For the body mass index and people have been less than 10 5.0 kilograms per meter squared is called one points and those have been at least two and 510 kilograms per meter squared we scored two points. and praying so for our Karma with his absence of any comorbidities like any past in there, we give you one points and brains of non respiratory comorbidities. Including tied to DM high potential cardiac disease may that in is your kidney disease in isn't easy I put it on esoteric, and this was because. It was, it was not the phoenix are some studies discovered that people that have chronic kidney disease had an increased chance of having long covered why some studies disputed that so. And then Prince of chronic respiratory diseases, for example at smart, especially in chronicles for constructive pulmonary disease and obviously partner syndrome had two points. And then the last point first initial status, those are vaccinated taking at least to do this with quality points and those that are not completely fascinated are given 1.5 points. And now we use these criteria, as I said before they see this a Swiss scientists are Zurich and walked on this and then last year they probably realistic calculator that could help to estimate these what they worked on just four criteria each. Pretty number of sequence, in the first week and history of asthma and also the impressive immunoglobulin these are chemicals are miserable. And we discover that in order to make it more easy for some patients to us yeah so that is no it's just strictly for physicians and now item petition. As you can observe that all the scoring parameters have at least a score of 1.2 there's No zero points yeah so does it, so the minimum score achievable is actually six points and the maximum score achievable is 11 points and then use it using the scoring system and also. Trying to compare with what was released last year by histories institute's. Fishing scoring less than seven points were assigned the nordics nordics and value those heavy from seven to 7.5 points had my risk. And those as cause from a 3.5 we had the moderate risk of having long of it and those have been at least nine points Heidi see various coffee no coffee that most likely. yeah we're talking about we're talking briefly about the business model we plan to him in developing the mobile APP downloaded the mobile APP. which can be downloaded from Google play store for android users and also the apple store for iPhone users. And, thereby making this up not only accessible to physicians or healthcare workers, but also to curious patients who love to know the oreck scoring. system, as you can see the parameters anybody can actually use anybody that has covered can actually use these parameters, we can answer actually answer the questions on scholarship. Is practical yeah That would be a basic plan for non paying users and it will be attached to just three attempts or trails of the so the scoring system that will be for the basic plan which will be free in SF this. is for the premium plan, these are people that will be subscribers are decided paying customers and especially only limited as it can be for multiple operations. For those are not yet convinced of the usefulness of this APP will put a seven day free trial for them, and only limited access and I thought that they can decide if they're going to pay for this. association could either be weekly two years monthly several years yearly it's a years depending on individual diesel preference our APP is also open for commercial advertisement by brands and marketers as an admin so have riven nestle. yeah it's why references yeah listening. yeah misled. yeah Thank you it's like oh yeah this step is to design, it puts with a for the clinical application yeah i'm a Python. API could, thank you very much.\"]                                                                                                                                                                                                                                                                                                                                                                                                                                                                                                                                                                                                                                                                                                                                                                                                                                                                                                                                                                                                                                                                                                                                                                                                                                                                                                                                                                                                                                                                                                                                                                                                                                                                                                                                                                                                                                                                                                                                                                                                                                                                                                                                                                                                                                                                                                                                                                                                                                                                                                                                                                                                                                                                                                                                                                                                                                                                                                                                                                                                                                                                                                                                                                                                                                                                                                                                                                                                                                                                                                                                                                                                                                                                                                                                                                                                                                                                                                                                                                                                                                                                                                                                                                                                                                                                                                                                                                                                                                                                                                                                                                                                                                                                                                                                                                                                                                                                                                                                                                                                                                                                                                                                                                                                                                                                                                                                                                                                                                                                                                                                                                                                                                                                                                                                                                                                                                                                                                                                                                                                                                                                                                                                                                                                                                                                                                                                                                                                                                                                                                                                                                                                                                                                                                                                                                                                                                                                                                                                                                                                                                                                                                                                                                                                                                                                                                                                                                                                                                                                                                                                                                                                                                                                                                                                                                                                                                                                                                                                                                                                                                                                                                                                                                                                                                                                                                                                                                                                                                                                                                                                                                                                                                                                                                                                                                                                                                                                                                                                                                                                                                                                                                                                                                                                                                                                                                                                                                                                                                                                                                                                                                                                                                                                                                                                                                                                                                                                                                                                                                                                                                                                                                                                                                                                                                                                                                                                                                                                                                                                                                                                                                                                                                                                                                                                                                                                                                                                                                                                                                                                                                                   |\n",
      "| Med Phoenix           | [\"So this is our team met phoenix our challenges medication management. So this is the overview of our elastic activists like he did in the last week, like as previously, we also do research and other things so. The last week we did more interferes with professional caregivers and social workers who were actually non professional caregivers but also conducted more research on existing solution application and we analyzed existing medication management tools. And the outcome from our last week activities that we actually took interview form for people to have them were professional caregivers and two of them were non professional caregivers they were actually social. social workers so are the problems that told us that some patients will take medicine propel a sudden talks from people who have less memory. communication with the gold edge patients difficulty in dealing patient to disabilities and less memory and difficulty in dealing with emergency situation so. We also did maybe interviews previously and from all these, we decided to we have just came up into this says that we find out four main problems that. will be going either any one of these like for psychological part some people were. complaining about they were facing physical serious mental says so for the psychological particles caregiver suffer from mental stress and for educational part many people complain that there's like of information, knowledge, a potential solution and some caregivers don't. don't know about the medication at other stuff and for medication part can give us a feel for managing parameters of medication and. So many things and for sense of part some people so just just asked if we want to work on something, why not we work on sensor practical. caregivers want to know the body parameters for emergency need like the parameters of BP glucose monitoring and other things. Like they can get the information of their patients by they're staying at their home so something that can be helpful for knowing that parameters of the patients. And proposed solution that we think about for our problem. We can build an application so we did research on application, there are many kinds of application their web application native application hybrid application. So we are not yet decided which one we're going to do, and we don't know who you are up to us. And also, from your feedback we need that info website, we don't know about that, and we also thought about two bucks so from your question. island are the programming language, we want to use like the person in our team knows Python and are the ID we. know and we can use these are studio pie chart or our studio that data analytics or statistics part, we are not sure about we are we going to do the data analytics or statistics and for them. It would be great if we can keep it simple and we can keep it like Microsoft windows or android and the time, then I as our example station will be and on may six so. If we are going to build something that is from May to June 30. And we have some question for you, if it is so to create an APP which one of the system for us within these pure habit on it, but or waiver, or what else you can. You can suggest us for weight side of it, the recommendation and for sensor wearable do we have to build that sense of ourselves, our else. Thank you.\"]                                                                                                                                                                                                                                                                                                                                                                                                                                                                                                                                                                                                                                                                                                                                                                                                                                                                                                                                                                                                                                                                                                                                                                                                                                                                                                                                                                                                                                                                                                                                                                                                                                                                                                                                                                                                                                                                                                                                                                                                                                                                                                                                                                                                                                                                                                                                                                                                                                                                                                                                                                                                                                                                                                                                                                                                                                                                                                                                                                                                                                                                                                                                                                                                                                                                                                                                                                                                                                                                                                                                                                                                                                                                                                                                                                                                                                                                                                                                                                                                                                                                                                                                                                                                                                                                                                                                                                                                                                                                                                                                                                                                                                                                                                                                                                                                                                                                                                                                                                                                                                                                                                                                                                                                                                                                                                                                                                                                                                                                                                                                                                                                                                                                                                                                                                                                                                                                                                                                                                                                                                                                                                                                                                                                                                                                                                                                                                                                                                                                                                                                                                                                                                                                                                                                                                                                                                                                                                                                                                                                                                                                                                                                                                                                                                                                                                                                                                                                                                                                                                                                                                                                                                                                                                                                                                                                                                                                                                                                                                                                                                                                                                                                                                                                                                                                                                                                                                                                                                                                                                                                                                                                                                                                                                                                                                                                                                                                                                                                                                                                                                                                                                                                                                                                                                                                                                                                                                                                                                                                                                                                                                                                                                                                                                                                                                                                                                                                                                                                                                                                                                                                                                                                                                                                                                                                                                                                                                                                                                                                                                                                                                                                                                                                                                                                                                                                                                                                                                                                                                                                                                                                                                                                                                                                                                                                                                                                                                                                                                                                                                                                                                                                                                                                                                                                                                                                                                                                                                                                                                                                                                                                                                                                                                                                                                                                                                                                                                                                                                                                                                                                                                                                                                                                                                                                                                                                                                                                                                                                                                                                                                                                                                                                                                                                                                                                                                                                                                                                                                                                                                                                                                                                                                                                                                                                                                                                                                                                                                                                                                                                                                                                                                                                                                                                                                                                                                                                                                                                                                                                                                                                                                                                                                                                                                                                                                                                                                                                                                                                                                                                                                                                                                                                                                                                                                                                                                                                                                                                                                                                                                                                                                                                                                                                                                                                                                                                                                                                                                                                                                                                                                                                                                                                                                                                                                                                                                                                                                                                                                                                                                                                                                                                                                                                                                                                                                                                                                                                                                                                                                                                                                                                                                                                                                                                                                                                                                                                                                                                                                                                                                                                                                                                                                                                                                                                                                                                                                                                                                                                                                                                                                                                                                                                                                                                                                                                                                                                                                                                                                                                                                                                                                                                                                                                                                                                                                                                                                                                                                                                                                                                                                                                                                                                                                                                                                                                                                                                                                                                                                                                                                                                                                                                                                                                                                                                                                                                                                                                                                                                                                                                                                                                                                                                                                                                                                                                                                                                                                                                                                                                                                                          |\n",
      "| Medicare              | [\"Okay. So continuing of our last presentation about how to. prioritize our problems, we also and the psychology and mental health problem. But we didn't yeah we also voted for that so basically we have four main problems that we were a little bit stuck in the last minute to decide which problem should we go through or tackle because we contacted. yeah we tried to contact them and we have developers like sheila and stuff but we didn't receive a response, so we actually couldn't. make an appointment with her or within a week teams so. We just based ourself on our votes our mindsets to discuss which problem of this Rebecca a yeah and we agreed on this nice problem. So why we did not agree on other problems, because with an s tackling is a bit challenging and records professionals such as psychologist psychologist so the visibility aspect will not be. will not be. reached. In that problem regarding the other problem which had a high score that a lot of competitors markets are already in the problem of forget to give medications and it can also be solved by some alarm so. The vulnerability aspect will actually will not be reached, also in that. problem also regarding the lack of knowledge of medicines will require us to take all the knowledge from Google. Evaluating it making sure that it's accurate and put it into the APP so they don't have to go through 1000 pages on Facebook, so it can be a PhD product because we don't have much time in that yeah and. Why did we choose our problem, like. yeah what's our problem is to make a community for caregivers it's still like a Facebook or clubhouse or something like that. we're still in the beginning, we just defined the problem, so we don't actually have. A. point of view of it so. yeah also it's. Slightly easy to be implemented, as there are no much competitors in the market and that. We thought of a technical point of view, making a web based application for caregivers to share an ask for anything so they they actually can find the solution for other problems that we did not tackle like, for example, missing the medication and having mental problem. And also. Professionals like caregivers professionals like they are taking care of their. family member, they can also apply for this application as experts so. We can like have an option to ask an expert or something. yeah. Our next step would be to make a prototype for the Web based application and we did not get that answers the questions we wanted to ask for she knew because we didn't meet her. So we're still on on hold on that point. yeah but no but and Johnson once is Bella. Someone from our team. yeah.\", \"Okay hi everyone, so I would like to answer perfect Professor the professor's questions on island for for the Ai and data analysis part. How would the data look like we're not sure, but it looks like it's going to be unstructured data i'm not sure for that one, the problem was answered programming language were using Python and ID most likely vs code. Time line we are looking realistically are about 200 hours, but again we're not looking at completely deployed web application, if we can reach a prototype with. usable functionality, that will be good. data analysis, yes, we will have data analysis in terms of analyzing the data from, for example, what features, the users would like to have in the APP and then for after building some type of prototype there will be data analysis of how. Like some type of feedback about the usability of the APP and the different features. And then. I think, does the part for Ai and data analysis I think i've answered all the different questions. For for the ui we are looking at. Something that is easier probably html and CSS i'm not sure, but see something that is easier to do and that could. Give results easily. And that's it, for my part, excellent. and\"]                                                                                                                                                                                                                                                                                                                                                                                                                                                                                                                                                                                                                                                                                                                                                                                                                                                                                                                                                                                                                                                                                                                                                                                                                                                                                                                                                                                                                                                                                                                                                                                                                                                                                                                                                                                                                                                                                                                                                                                                                                                                                                                                                                                                                                                                                                                                                                                                                                                                                                                                                                                                                                                                                                                                                                                                                                                                                                                                                                                                                                                                                                                                                                                                                                                                                                                                                                                                                                                                                                                                                                                                                                                                                                                                                                                                                                                                                                                                                                                                                                                                                                                                                                                                                                                                                                                                                                                                                                                                                                                                                                                                                                                                                                                                                                                                                                                                                                                                                                                                                                                                                                                                                                                                                                                                                                                                                                                                                                                                                                                                                                                                                                                                                                                                                                                                                                                                                                                                                                                                                                                                                                                                                                                                                                                                                                                                                                                                                                                                                                                                                                                                                                                                                                                                                                                                                                                                                                                                                                                                                                                                                                                                                                                                                                                                                                                                                                                                                                                                                                                                                                                                                                                                                                                                                                                                                                                                                                                                                                                                                                                                                                                                                                                                                                                                                                                                                                                                                                                                                                                                                                                                                                                                                                                                                                                                                                                                                                                                                                                                                                                                                                                                                                                                                                                                                                                                                                                                                                                                                                                                                                                                                                                                                                                                                                                                                                                                                                                                                                                                                                                                                                                                                                                                                                                                                                                                                                                                                                                                                                                                                                                                                                                                                                                                                                                                                                                                                                                                                                                                                                                                                                                                                                                                                                                                                                                                                                                                                                                                                                                                                                                                                                                                                                                                                                                                                                                                                                                                                                                                                                                                                                                                                                                                                                                                                                                                                                                                                                                                                                                                                                                                                                                                                                                                                                                                                                                                                                                                                                                                                                                                                                                                                                                                                                                                                                                                                                                                                                                                                                                                                                                                                                                                                                                                                                                                                                                                                                                                                                                                                                                                                                                                                                                                                                                                                                                                                                                                                                                                                                                                                                                                                                                                                                                                                                                                                                                                                                                                                                                                                                                                                                                                                                                                                                                                                                                                                                                                                                                                                                                                                                                                                                                                                                                                                                                                                                                                                                                                                                                                                                                                                                                                                                                                                                                                                                                                                                                                                                                                                                                                                                                                                                                                                                                                                                                                                                                                                                                                                                                                                                                                                                                                                                                                                                                                                                                                                                                                                                                                                                                                                                                                                                                                                                                                                                                                                                                                                                                                                                                                                                                                                                                                                                                                                                                                                                                                                                                                                                                                                                                                                                                                                                                                                                                                                                                                                                                                                                                                                                                                                                                                                                                                                                                                                                                                                                                                                                                                                                                                                                                                                                                                                                                                                                                                                                                                                                                                                                                                                                                                     |\n"
     ]
    }
   ],
   "source": [
    "groups = df[['team','voice']].groupby('team').agg(lambda x: list(x))\n",
    "with pd.option_context('display.max_rows', 1000, 'display.max_columns',1000):  # more options can be specified also\n",
    "    print(groups.to_markdown())"
   ]
  },
  {
   "cell_type": "code",
   "execution_count": null,
   "id": "eef51b93-fedb-4b5b-8fd3-c06a9bdc471e",
   "metadata": {},
   "outputs": [],
   "source": []
  }
 ],
 "metadata": {
  "kernelspec": {
   "display_name": "Python 3 (ipykernel)",
   "language": "python",
   "name": "python3"
  },
  "language_info": {
   "codemirror_mode": {
    "name": "ipython",
    "version": 3
   },
   "file_extension": ".py",
   "mimetype": "text/x-python",
   "name": "python",
   "nbconvert_exporter": "python",
   "pygments_lexer": "ipython3",
   "version": "3.8.12"
  }
 },
 "nbformat": 4,
 "nbformat_minor": 5
}
